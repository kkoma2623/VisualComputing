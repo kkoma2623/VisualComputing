{
  "nbformat": 4,
  "nbformat_minor": 0,
  "metadata": {
    "colab": {
      "name": "AutoEncoder (TensorFlow 2)  기반  생성모델_kkoma2623",
      "provenance": [],
      "collapsed_sections": [],
      "include_colab_link": true
    },
    "kernelspec": {
      "name": "python3",
      "display_name": "Python 3"
    },
    "accelerator": "GPU",
    "widgets": {
      "application/vnd.jupyter.widget-state+json": {
        "878b382fd4b94347b56bf0966a6dd351": {
          "model_module": "@jupyter-widgets/controls",
          "model_name": "VBoxModel",
          "state": {
            "_view_name": "VBoxView",
            "_dom_classes": [
              "widget-interact"
            ],
            "_model_name": "VBoxModel",
            "_view_module": "@jupyter-widgets/controls",
            "_model_module_version": "1.5.0",
            "_view_count": null,
            "_view_module_version": "1.5.0",
            "box_style": "",
            "layout": "IPY_MODEL_4bef0161a3fa4697a1c1dee984941336",
            "_model_module": "@jupyter-widgets/controls",
            "children": [
              "IPY_MODEL_176313876e7c4bcf91c00725e756e862",
              "IPY_MODEL_9894100371d6485a8b7bae07d6cca551"
            ]
          }
        },
        "4bef0161a3fa4697a1c1dee984941336": {
          "model_module": "@jupyter-widgets/base",
          "model_name": "LayoutModel",
          "state": {
            "_view_name": "LayoutView",
            "grid_template_rows": null,
            "right": null,
            "justify_content": null,
            "_view_module": "@jupyter-widgets/base",
            "overflow": null,
            "_model_module_version": "1.2.0",
            "_view_count": null,
            "flex_flow": null,
            "width": null,
            "min_width": null,
            "border": null,
            "align_items": null,
            "bottom": null,
            "_model_module": "@jupyter-widgets/base",
            "top": null,
            "grid_column": null,
            "overflow_y": null,
            "overflow_x": null,
            "grid_auto_flow": null,
            "grid_area": null,
            "grid_template_columns": null,
            "flex": null,
            "_model_name": "LayoutModel",
            "justify_items": null,
            "grid_row": null,
            "max_height": null,
            "align_content": null,
            "visibility": null,
            "align_self": null,
            "height": null,
            "min_height": null,
            "padding": null,
            "grid_auto_rows": null,
            "grid_gap": null,
            "max_width": null,
            "order": null,
            "_view_module_version": "1.2.0",
            "grid_template_areas": null,
            "object_position": null,
            "object_fit": null,
            "grid_auto_columns": null,
            "margin": null,
            "display": null,
            "left": null
          }
        },
        "176313876e7c4bcf91c00725e756e862": {
          "model_module": "@jupyter-widgets/controls",
          "model_name": "IntSliderModel",
          "state": {
            "_view_name": "IntSliderView",
            "style": "IPY_MODEL_f9e3cbd4f63747698f939ff390be72e5",
            "_dom_classes": [],
            "description": "idx",
            "step": 1,
            "_model_name": "IntSliderModel",
            "orientation": "horizontal",
            "max": 59999,
            "_view_module": "@jupyter-widgets/controls",
            "_model_module_version": "1.5.0",
            "value": 0,
            "_view_count": null,
            "disabled": false,
            "_view_module_version": "1.5.0",
            "min": 0,
            "continuous_update": false,
            "readout_format": "d",
            "description_tooltip": null,
            "readout": true,
            "_model_module": "@jupyter-widgets/controls",
            "layout": "IPY_MODEL_1e6482573d0c49ab9771ddc43a685f60"
          }
        },
        "9894100371d6485a8b7bae07d6cca551": {
          "model_module": "@jupyter-widgets/output",
          "model_name": "OutputModel",
          "state": {
            "_view_name": "OutputView",
            "msg_id": "",
            "_dom_classes": [],
            "_model_name": "OutputModel",
            "outputs": [
              {
                "output_type": "stream",
                "metadata": {
                  "tags": []
                },
                "text": "GT label: 5\n",
                "stream": "stdout"
              },
              {
                "output_type": "display_data",
                "metadata": {
                  "tags": [],
                  "needs_background": "light"
                },
                "image/png": "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\n",
                "text/plain": "<Figure size 432x288 with 2 Axes>"
              }
            ],
            "_view_module": "@jupyter-widgets/output",
            "_model_module_version": "1.0.0",
            "_view_count": null,
            "_view_module_version": "1.0.0",
            "layout": "IPY_MODEL_2e31fd587f6f48e4b6b12ec6b7606240",
            "_model_module": "@jupyter-widgets/output"
          }
        },
        "f9e3cbd4f63747698f939ff390be72e5": {
          "model_module": "@jupyter-widgets/controls",
          "model_name": "SliderStyleModel",
          "state": {
            "_view_name": "StyleView",
            "handle_color": null,
            "_model_name": "SliderStyleModel",
            "description_width": "",
            "_view_module": "@jupyter-widgets/base",
            "_model_module_version": "1.5.0",
            "_view_count": null,
            "_view_module_version": "1.2.0",
            "_model_module": "@jupyter-widgets/controls"
          }
        },
        "1e6482573d0c49ab9771ddc43a685f60": {
          "model_module": "@jupyter-widgets/base",
          "model_name": "LayoutModel",
          "state": {
            "_view_name": "LayoutView",
            "grid_template_rows": null,
            "right": null,
            "justify_content": null,
            "_view_module": "@jupyter-widgets/base",
            "overflow": null,
            "_model_module_version": "1.2.0",
            "_view_count": null,
            "flex_flow": null,
            "width": null,
            "min_width": null,
            "border": null,
            "align_items": null,
            "bottom": null,
            "_model_module": "@jupyter-widgets/base",
            "top": null,
            "grid_column": null,
            "overflow_y": null,
            "overflow_x": null,
            "grid_auto_flow": null,
            "grid_area": null,
            "grid_template_columns": null,
            "flex": null,
            "_model_name": "LayoutModel",
            "justify_items": null,
            "grid_row": null,
            "max_height": null,
            "align_content": null,
            "visibility": null,
            "align_self": null,
            "height": null,
            "min_height": null,
            "padding": null,
            "grid_auto_rows": null,
            "grid_gap": null,
            "max_width": null,
            "order": null,
            "_view_module_version": "1.2.0",
            "grid_template_areas": null,
            "object_position": null,
            "object_fit": null,
            "grid_auto_columns": null,
            "margin": null,
            "display": null,
            "left": null
          }
        },
        "2e31fd587f6f48e4b6b12ec6b7606240": {
          "model_module": "@jupyter-widgets/base",
          "model_name": "LayoutModel",
          "state": {
            "_view_name": "LayoutView",
            "grid_template_rows": null,
            "right": null,
            "justify_content": null,
            "_view_module": "@jupyter-widgets/base",
            "overflow": null,
            "_model_module_version": "1.2.0",
            "_view_count": null,
            "flex_flow": null,
            "width": null,
            "min_width": null,
            "border": null,
            "align_items": null,
            "bottom": null,
            "_model_module": "@jupyter-widgets/base",
            "top": null,
            "grid_column": null,
            "overflow_y": null,
            "overflow_x": null,
            "grid_auto_flow": null,
            "grid_area": null,
            "grid_template_columns": null,
            "flex": null,
            "_model_name": "LayoutModel",
            "justify_items": null,
            "grid_row": null,
            "max_height": null,
            "align_content": null,
            "visibility": null,
            "align_self": null,
            "height": null,
            "min_height": null,
            "padding": null,
            "grid_auto_rows": null,
            "grid_gap": null,
            "max_width": null,
            "order": null,
            "_view_module_version": "1.2.0",
            "grid_template_areas": null,
            "object_position": null,
            "object_fit": null,
            "grid_auto_columns": null,
            "margin": null,
            "display": null,
            "left": null
          }
        },
        "ddeaac079d3244cc8c6a02d9ce1c59ad": {
          "model_module": "@jupyter-widgets/controls",
          "model_name": "VBoxModel",
          "state": {
            "_view_name": "VBoxView",
            "_dom_classes": [
              "widget-interact"
            ],
            "_model_name": "VBoxModel",
            "_view_module": "@jupyter-widgets/controls",
            "_model_module_version": "1.5.0",
            "_view_count": null,
            "_view_module_version": "1.5.0",
            "box_style": "",
            "layout": "IPY_MODEL_d74e19ca8a1946f69c91f76661fc5411",
            "_model_module": "@jupyter-widgets/controls",
            "children": [
              "IPY_MODEL_3fbb9a470a7f4ad2a7fbaec6dd7eadfd",
              "IPY_MODEL_49fb7bf7c4224e12ae3b4a64e10ec6f6"
            ]
          }
        },
        "d74e19ca8a1946f69c91f76661fc5411": {
          "model_module": "@jupyter-widgets/base",
          "model_name": "LayoutModel",
          "state": {
            "_view_name": "LayoutView",
            "grid_template_rows": null,
            "right": null,
            "justify_content": null,
            "_view_module": "@jupyter-widgets/base",
            "overflow": null,
            "_model_module_version": "1.2.0",
            "_view_count": null,
            "flex_flow": null,
            "width": null,
            "min_width": null,
            "border": null,
            "align_items": null,
            "bottom": null,
            "_model_module": "@jupyter-widgets/base",
            "top": null,
            "grid_column": null,
            "overflow_y": null,
            "overflow_x": null,
            "grid_auto_flow": null,
            "grid_area": null,
            "grid_template_columns": null,
            "flex": null,
            "_model_name": "LayoutModel",
            "justify_items": null,
            "grid_row": null,
            "max_height": null,
            "align_content": null,
            "visibility": null,
            "align_self": null,
            "height": null,
            "min_height": null,
            "padding": null,
            "grid_auto_rows": null,
            "grid_gap": null,
            "max_width": null,
            "order": null,
            "_view_module_version": "1.2.0",
            "grid_template_areas": null,
            "object_position": null,
            "object_fit": null,
            "grid_auto_columns": null,
            "margin": null,
            "display": null,
            "left": null
          }
        },
        "3fbb9a470a7f4ad2a7fbaec6dd7eadfd": {
          "model_module": "@jupyter-widgets/controls",
          "model_name": "IntSliderModel",
          "state": {
            "_view_name": "IntSliderView",
            "style": "IPY_MODEL_f91408ec1ce54dcc863265d14b4b2145",
            "_dom_classes": [],
            "description": "idx",
            "step": 1,
            "_model_name": "IntSliderModel",
            "orientation": "horizontal",
            "max": 59999,
            "_view_module": "@jupyter-widgets/controls",
            "_model_module_version": "1.5.0",
            "value": 0,
            "_view_count": null,
            "disabled": false,
            "_view_module_version": "1.5.0",
            "min": 0,
            "continuous_update": false,
            "readout_format": "d",
            "description_tooltip": null,
            "readout": true,
            "_model_module": "@jupyter-widgets/controls",
            "layout": "IPY_MODEL_f95919a8e92d4946beb5cdd883b2cc44"
          }
        },
        "49fb7bf7c4224e12ae3b4a64e10ec6f6": {
          "model_module": "@jupyter-widgets/output",
          "model_name": "OutputModel",
          "state": {
            "_view_name": "OutputView",
            "msg_id": "",
            "_dom_classes": [],
            "_model_name": "OutputModel",
            "outputs": [
              {
                "output_type": "stream",
                "metadata": {
                  "tags": []
                },
                "text": "GT label: 5\n",
                "stream": "stdout"
              },
              {
                "output_type": "display_data",
                "metadata": {
                  "tags": [],
                  "needs_background": "light"
                },
                "image/png": "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\n",
                "text/plain": "<Figure size 432x288 with 2 Axes>"
              }
            ],
            "_view_module": "@jupyter-widgets/output",
            "_model_module_version": "1.0.0",
            "_view_count": null,
            "_view_module_version": "1.0.0",
            "layout": "IPY_MODEL_b99b951a051740bca2005c0d45f640ff",
            "_model_module": "@jupyter-widgets/output"
          }
        },
        "f91408ec1ce54dcc863265d14b4b2145": {
          "model_module": "@jupyter-widgets/controls",
          "model_name": "SliderStyleModel",
          "state": {
            "_view_name": "StyleView",
            "handle_color": null,
            "_model_name": "SliderStyleModel",
            "description_width": "",
            "_view_module": "@jupyter-widgets/base",
            "_model_module_version": "1.5.0",
            "_view_count": null,
            "_view_module_version": "1.2.0",
            "_model_module": "@jupyter-widgets/controls"
          }
        },
        "f95919a8e92d4946beb5cdd883b2cc44": {
          "model_module": "@jupyter-widgets/base",
          "model_name": "LayoutModel",
          "state": {
            "_view_name": "LayoutView",
            "grid_template_rows": null,
            "right": null,
            "justify_content": null,
            "_view_module": "@jupyter-widgets/base",
            "overflow": null,
            "_model_module_version": "1.2.0",
            "_view_count": null,
            "flex_flow": null,
            "width": null,
            "min_width": null,
            "border": null,
            "align_items": null,
            "bottom": null,
            "_model_module": "@jupyter-widgets/base",
            "top": null,
            "grid_column": null,
            "overflow_y": null,
            "overflow_x": null,
            "grid_auto_flow": null,
            "grid_area": null,
            "grid_template_columns": null,
            "flex": null,
            "_model_name": "LayoutModel",
            "justify_items": null,
            "grid_row": null,
            "max_height": null,
            "align_content": null,
            "visibility": null,
            "align_self": null,
            "height": null,
            "min_height": null,
            "padding": null,
            "grid_auto_rows": null,
            "grid_gap": null,
            "max_width": null,
            "order": null,
            "_view_module_version": "1.2.0",
            "grid_template_areas": null,
            "object_position": null,
            "object_fit": null,
            "grid_auto_columns": null,
            "margin": null,
            "display": null,
            "left": null
          }
        },
        "b99b951a051740bca2005c0d45f640ff": {
          "model_module": "@jupyter-widgets/base",
          "model_name": "LayoutModel",
          "state": {
            "_view_name": "LayoutView",
            "grid_template_rows": null,
            "right": null,
            "justify_content": null,
            "_view_module": "@jupyter-widgets/base",
            "overflow": null,
            "_model_module_version": "1.2.0",
            "_view_count": null,
            "flex_flow": null,
            "width": null,
            "min_width": null,
            "border": null,
            "align_items": null,
            "bottom": null,
            "_model_module": "@jupyter-widgets/base",
            "top": null,
            "grid_column": null,
            "overflow_y": null,
            "overflow_x": null,
            "grid_auto_flow": null,
            "grid_area": null,
            "grid_template_columns": null,
            "flex": null,
            "_model_name": "LayoutModel",
            "justify_items": null,
            "grid_row": null,
            "max_height": null,
            "align_content": null,
            "visibility": null,
            "align_self": null,
            "height": null,
            "min_height": null,
            "padding": null,
            "grid_auto_rows": null,
            "grid_gap": null,
            "max_width": null,
            "order": null,
            "_view_module_version": "1.2.0",
            "grid_template_areas": null,
            "object_position": null,
            "object_fit": null,
            "grid_auto_columns": null,
            "margin": null,
            "display": null,
            "left": null
          }
        },
        "9645a318e677425e96029905515e7a1d": {
          "model_module": "@jupyter-widgets/controls",
          "model_name": "VBoxModel",
          "state": {
            "_view_name": "VBoxView",
            "_dom_classes": [
              "widget-interact"
            ],
            "_model_name": "VBoxModel",
            "_view_module": "@jupyter-widgets/controls",
            "_model_module_version": "1.5.0",
            "_view_count": null,
            "_view_module_version": "1.5.0",
            "box_style": "",
            "layout": "IPY_MODEL_6fbce8ed435d4ef3b5f60c4a0b8b9d8f",
            "_model_module": "@jupyter-widgets/controls",
            "children": [
              "IPY_MODEL_b24e7c4fb4204db98a197ab09fa4d2e8",
              "IPY_MODEL_e4851c713d5648c9aef39fb1a3537d4c"
            ]
          }
        },
        "6fbce8ed435d4ef3b5f60c4a0b8b9d8f": {
          "model_module": "@jupyter-widgets/base",
          "model_name": "LayoutModel",
          "state": {
            "_view_name": "LayoutView",
            "grid_template_rows": null,
            "right": null,
            "justify_content": null,
            "_view_module": "@jupyter-widgets/base",
            "overflow": null,
            "_model_module_version": "1.2.0",
            "_view_count": null,
            "flex_flow": null,
            "width": null,
            "min_width": null,
            "border": null,
            "align_items": null,
            "bottom": null,
            "_model_module": "@jupyter-widgets/base",
            "top": null,
            "grid_column": null,
            "overflow_y": null,
            "overflow_x": null,
            "grid_auto_flow": null,
            "grid_area": null,
            "grid_template_columns": null,
            "flex": null,
            "_model_name": "LayoutModel",
            "justify_items": null,
            "grid_row": null,
            "max_height": null,
            "align_content": null,
            "visibility": null,
            "align_self": null,
            "height": null,
            "min_height": null,
            "padding": null,
            "grid_auto_rows": null,
            "grid_gap": null,
            "max_width": null,
            "order": null,
            "_view_module_version": "1.2.0",
            "grid_template_areas": null,
            "object_position": null,
            "object_fit": null,
            "grid_auto_columns": null,
            "margin": null,
            "display": null,
            "left": null
          }
        },
        "b24e7c4fb4204db98a197ab09fa4d2e8": {
          "model_module": "@jupyter-widgets/controls",
          "model_name": "IntSliderModel",
          "state": {
            "_view_name": "IntSliderView",
            "style": "IPY_MODEL_9dde625731cd48a28ad891facf489790",
            "_dom_classes": [],
            "description": "idx",
            "step": 1,
            "_model_name": "IntSliderModel",
            "orientation": "horizontal",
            "max": 59999,
            "_view_module": "@jupyter-widgets/controls",
            "_model_module_version": "1.5.0",
            "value": 0,
            "_view_count": null,
            "disabled": false,
            "_view_module_version": "1.5.0",
            "min": 0,
            "continuous_update": true,
            "readout_format": "d",
            "description_tooltip": null,
            "readout": true,
            "_model_module": "@jupyter-widgets/controls",
            "layout": "IPY_MODEL_8bdc3b203f5042e9b20e4d87f18de327"
          }
        },
        "e4851c713d5648c9aef39fb1a3537d4c": {
          "model_module": "@jupyter-widgets/output",
          "model_name": "OutputModel",
          "state": {
            "_view_name": "OutputView",
            "msg_id": "",
            "_dom_classes": [],
            "_model_name": "OutputModel",
            "outputs": [
              {
                "output_type": "stream",
                "metadata": {
                  "tags": []
                },
                "text": "tf.Tensor([-0.47719213 -0.08931224], shape=(2,), dtype=float32)\nGT label: 5\n",
                "stream": "stdout"
              }
            ],
            "_view_module": "@jupyter-widgets/output",
            "_model_module_version": "1.0.0",
            "_view_count": null,
            "_view_module_version": "1.0.0",
            "layout": "IPY_MODEL_407cfa03cce64646b040c8fbfb3f4d20",
            "_model_module": "@jupyter-widgets/output"
          }
        },
        "9dde625731cd48a28ad891facf489790": {
          "model_module": "@jupyter-widgets/controls",
          "model_name": "SliderStyleModel",
          "state": {
            "_view_name": "StyleView",
            "handle_color": null,
            "_model_name": "SliderStyleModel",
            "description_width": "",
            "_view_module": "@jupyter-widgets/base",
            "_model_module_version": "1.5.0",
            "_view_count": null,
            "_view_module_version": "1.2.0",
            "_model_module": "@jupyter-widgets/controls"
          }
        },
        "8bdc3b203f5042e9b20e4d87f18de327": {
          "model_module": "@jupyter-widgets/base",
          "model_name": "LayoutModel",
          "state": {
            "_view_name": "LayoutView",
            "grid_template_rows": null,
            "right": null,
            "justify_content": null,
            "_view_module": "@jupyter-widgets/base",
            "overflow": null,
            "_model_module_version": "1.2.0",
            "_view_count": null,
            "flex_flow": null,
            "width": null,
            "min_width": null,
            "border": null,
            "align_items": null,
            "bottom": null,
            "_model_module": "@jupyter-widgets/base",
            "top": null,
            "grid_column": null,
            "overflow_y": null,
            "overflow_x": null,
            "grid_auto_flow": null,
            "grid_area": null,
            "grid_template_columns": null,
            "flex": null,
            "_model_name": "LayoutModel",
            "justify_items": null,
            "grid_row": null,
            "max_height": null,
            "align_content": null,
            "visibility": null,
            "align_self": null,
            "height": null,
            "min_height": null,
            "padding": null,
            "grid_auto_rows": null,
            "grid_gap": null,
            "max_width": null,
            "order": null,
            "_view_module_version": "1.2.0",
            "grid_template_areas": null,
            "object_position": null,
            "object_fit": null,
            "grid_auto_columns": null,
            "margin": null,
            "display": null,
            "left": null
          }
        },
        "407cfa03cce64646b040c8fbfb3f4d20": {
          "model_module": "@jupyter-widgets/base",
          "model_name": "LayoutModel",
          "state": {
            "_view_name": "LayoutView",
            "grid_template_rows": null,
            "right": null,
            "justify_content": null,
            "_view_module": "@jupyter-widgets/base",
            "overflow": null,
            "_model_module_version": "1.2.0",
            "_view_count": null,
            "flex_flow": null,
            "width": null,
            "min_width": null,
            "border": null,
            "align_items": null,
            "bottom": null,
            "_model_module": "@jupyter-widgets/base",
            "top": null,
            "grid_column": null,
            "overflow_y": null,
            "overflow_x": null,
            "grid_auto_flow": null,
            "grid_area": null,
            "grid_template_columns": null,
            "flex": null,
            "_model_name": "LayoutModel",
            "justify_items": null,
            "grid_row": null,
            "max_height": null,
            "align_content": null,
            "visibility": null,
            "align_self": null,
            "height": null,
            "min_height": null,
            "padding": null,
            "grid_auto_rows": null,
            "grid_gap": null,
            "max_width": null,
            "order": null,
            "_view_module_version": "1.2.0",
            "grid_template_areas": null,
            "object_position": null,
            "object_fit": null,
            "grid_auto_columns": null,
            "margin": null,
            "display": null,
            "left": null
          }
        },
        "025154f7ae364d4396fb4cbe6033db7c": {
          "model_module": "@jupyter-widgets/controls",
          "model_name": "HBoxModel",
          "state": {
            "_view_name": "HBoxView",
            "_dom_classes": [],
            "_model_name": "HBoxModel",
            "_view_module": "@jupyter-widgets/controls",
            "_model_module_version": "1.5.0",
            "_view_count": null,
            "_view_module_version": "1.5.0",
            "box_style": "",
            "layout": "IPY_MODEL_7773c4ca032d433dba5fbd5b02cd63b1",
            "_model_module": "@jupyter-widgets/controls",
            "children": [
              "IPY_MODEL_c0c32d647aa34381b442e9ed8ce424c7",
              "IPY_MODEL_62664de5b80f4b03b8dcacb53817b8f8"
            ]
          }
        },
        "7773c4ca032d433dba5fbd5b02cd63b1": {
          "model_module": "@jupyter-widgets/base",
          "model_name": "LayoutModel",
          "state": {
            "_view_name": "LayoutView",
            "grid_template_rows": null,
            "right": null,
            "justify_content": null,
            "_view_module": "@jupyter-widgets/base",
            "overflow": null,
            "_model_module_version": "1.2.0",
            "_view_count": null,
            "flex_flow": null,
            "width": null,
            "min_width": null,
            "border": null,
            "align_items": null,
            "bottom": null,
            "_model_module": "@jupyter-widgets/base",
            "top": null,
            "grid_column": null,
            "overflow_y": null,
            "overflow_x": null,
            "grid_auto_flow": null,
            "grid_area": null,
            "grid_template_columns": null,
            "flex": null,
            "_model_name": "LayoutModel",
            "justify_items": null,
            "grid_row": null,
            "max_height": null,
            "align_content": null,
            "visibility": null,
            "align_self": null,
            "height": null,
            "min_height": null,
            "padding": null,
            "grid_auto_rows": null,
            "grid_gap": null,
            "max_width": null,
            "order": null,
            "_view_module_version": "1.2.0",
            "grid_template_areas": null,
            "object_position": null,
            "object_fit": null,
            "grid_auto_columns": null,
            "margin": null,
            "display": null,
            "left": null
          }
        },
        "c0c32d647aa34381b442e9ed8ce424c7": {
          "model_module": "@jupyter-widgets/controls",
          "model_name": "FloatSliderModel",
          "state": {
            "_view_name": "FloatSliderView",
            "style": "IPY_MODEL_ab23ab236cd9447b974e81ac7877e547",
            "_dom_classes": [],
            "description": "",
            "step": 0.1,
            "_model_name": "FloatSliderModel",
            "orientation": "horizontal",
            "max": 5,
            "_view_module": "@jupyter-widgets/controls",
            "_model_module_version": "1.5.0",
            "value": 0,
            "_view_count": null,
            "disabled": false,
            "_view_module_version": "1.5.0",
            "min": -5,
            "continuous_update": true,
            "readout_format": ".2f",
            "description_tooltip": null,
            "readout": true,
            "_model_module": "@jupyter-widgets/controls",
            "layout": "IPY_MODEL_7cbf3485308a4df38ba91f33ee525007"
          }
        },
        "62664de5b80f4b03b8dcacb53817b8f8": {
          "model_module": "@jupyter-widgets/controls",
          "model_name": "FloatSliderModel",
          "state": {
            "_view_name": "FloatSliderView",
            "style": "IPY_MODEL_685152c3ea754fd38737ce79eebb7555",
            "_dom_classes": [],
            "description": "",
            "step": 0.1,
            "_model_name": "FloatSliderModel",
            "orientation": "horizontal",
            "max": 5,
            "_view_module": "@jupyter-widgets/controls",
            "_model_module_version": "1.5.0",
            "value": 0,
            "_view_count": null,
            "disabled": false,
            "_view_module_version": "1.5.0",
            "min": -5,
            "continuous_update": true,
            "readout_format": ".2f",
            "description_tooltip": null,
            "readout": true,
            "_model_module": "@jupyter-widgets/controls",
            "layout": "IPY_MODEL_99efd92139984496b4849529daed89e7"
          }
        },
        "ab23ab236cd9447b974e81ac7877e547": {
          "model_module": "@jupyter-widgets/controls",
          "model_name": "SliderStyleModel",
          "state": {
            "_view_name": "StyleView",
            "handle_color": null,
            "_model_name": "SliderStyleModel",
            "description_width": "",
            "_view_module": "@jupyter-widgets/base",
            "_model_module_version": "1.5.0",
            "_view_count": null,
            "_view_module_version": "1.2.0",
            "_model_module": "@jupyter-widgets/controls"
          }
        },
        "7cbf3485308a4df38ba91f33ee525007": {
          "model_module": "@jupyter-widgets/base",
          "model_name": "LayoutModel",
          "state": {
            "_view_name": "LayoutView",
            "grid_template_rows": null,
            "right": null,
            "justify_content": null,
            "_view_module": "@jupyter-widgets/base",
            "overflow": null,
            "_model_module_version": "1.2.0",
            "_view_count": null,
            "flex_flow": null,
            "width": null,
            "min_width": null,
            "border": null,
            "align_items": null,
            "bottom": null,
            "_model_module": "@jupyter-widgets/base",
            "top": null,
            "grid_column": null,
            "overflow_y": null,
            "overflow_x": null,
            "grid_auto_flow": null,
            "grid_area": null,
            "grid_template_columns": null,
            "flex": null,
            "_model_name": "LayoutModel",
            "justify_items": null,
            "grid_row": null,
            "max_height": null,
            "align_content": null,
            "visibility": null,
            "align_self": null,
            "height": null,
            "min_height": null,
            "padding": null,
            "grid_auto_rows": null,
            "grid_gap": null,
            "max_width": null,
            "order": null,
            "_view_module_version": "1.2.0",
            "grid_template_areas": null,
            "object_position": null,
            "object_fit": null,
            "grid_auto_columns": null,
            "margin": null,
            "display": null,
            "left": null
          }
        },
        "685152c3ea754fd38737ce79eebb7555": {
          "model_module": "@jupyter-widgets/controls",
          "model_name": "SliderStyleModel",
          "state": {
            "_view_name": "StyleView",
            "handle_color": null,
            "_model_name": "SliderStyleModel",
            "description_width": "",
            "_view_module": "@jupyter-widgets/base",
            "_model_module_version": "1.5.0",
            "_view_count": null,
            "_view_module_version": "1.2.0",
            "_model_module": "@jupyter-widgets/controls"
          }
        },
        "99efd92139984496b4849529daed89e7": {
          "model_module": "@jupyter-widgets/base",
          "model_name": "LayoutModel",
          "state": {
            "_view_name": "LayoutView",
            "grid_template_rows": null,
            "right": null,
            "justify_content": null,
            "_view_module": "@jupyter-widgets/base",
            "overflow": null,
            "_model_module_version": "1.2.0",
            "_view_count": null,
            "flex_flow": null,
            "width": null,
            "min_width": null,
            "border": null,
            "align_items": null,
            "bottom": null,
            "_model_module": "@jupyter-widgets/base",
            "top": null,
            "grid_column": null,
            "overflow_y": null,
            "overflow_x": null,
            "grid_auto_flow": null,
            "grid_area": null,
            "grid_template_columns": null,
            "flex": null,
            "_model_name": "LayoutModel",
            "justify_items": null,
            "grid_row": null,
            "max_height": null,
            "align_content": null,
            "visibility": null,
            "align_self": null,
            "height": null,
            "min_height": null,
            "padding": null,
            "grid_auto_rows": null,
            "grid_gap": null,
            "max_width": null,
            "order": null,
            "_view_module_version": "1.2.0",
            "grid_template_areas": null,
            "object_position": null,
            "object_fit": null,
            "grid_auto_columns": null,
            "margin": null,
            "display": null,
            "left": null
          }
        },
        "53f1604998fc463b919e18409a94412b": {
          "model_module": "@jupyter-widgets/output",
          "model_name": "OutputModel",
          "state": {
            "_view_name": "OutputView",
            "msg_id": "",
            "_dom_classes": [],
            "_model_name": "OutputModel",
            "outputs": [
              {
                "output_type": "stream",
                "metadata": {
                  "tags": []
                },
                "text": "[[0. 0.]]\n",
                "stream": "stdout"
              },
              {
                "output_type": "display_data",
                "metadata": {
                  "tags": [],
                  "needs_background": "light"
                },
                "image/png": "iVBORw0KGgoAAAANSUhEUgAAAPsAAAD4CAYAAAAq5pAIAAAABHNCSVQICAgIfAhkiAAAAAlwSFlzAAALEgAACxIB0t1+/AAAADh0RVh0U29mdHdhcmUAbWF0cGxvdGxpYiB2ZXJzaW9uMy4yLjEsIGh0dHA6Ly9tYXRwbG90bGliLm9yZy+j8jraAAARMklEQVR4nO3dW4yc5X3H8d9/dmcP3l2fjdkYc3ZUnEBJtXUPQS0tSkRoJZxcoHARUQnVuQApkXJRRC/CJapKolxUqZyC4lQpaaQEQSvSQF0klKpFGMrBBlpzWMder70G2+s92N7ZmX8vdhwtsO//Hc8ZP9+PZO3s+5933mfH+9t3Zp73eR5zdwG49BU63QAA7UHYgUQQdiARhB1IBGEHEtHbzoP1Wb8PaKidhwSSck5zWvDztlKtobCb2e2SviepR9I/uPvD0f0HNKTfs9saOSSAwAu+N7NW98t4M+uR9HeSviRpu6S7zWx7vY8HoLUaec++Q9Lb7v6uuy9I+omkO5vTLADN1kjYt0g6vOz7I9VtH2Jmu8xsn5ntK+l8A4cD0IiWfxrv7rvdfczdx4rqb/XhAGRoJOwTkrYu+/6K6jYAXaiRsL8oaZuZXWNmfZK+Kump5jQLQLPV3fXm7otmdr+kX2qp6+0xdz/QtJYBaKqG+tnd/WlJTzepLQBaiMtlgUQQdiARhB1IBGEHEkHYgUQQdiARhB1IBGEHEkHYgUQQdiARhB1IBGEHEkHYgUQQdiARhB1IBGEHEkHYgUQQdiARhB1IBGEHEkHYgUS0dclmtJ/1x6vwFEaG4/1z6t5XjBvQ08D5pLQYlu1svJyYz85m1ipzZ+N9F0thXRb/XFZYcdXkmni5nHMHr+txObMDiSDsQCIIO5AIwg4kgrADiSDsQCIIO5AI+tm7gcV9soXBwbi+fl1mrXTVpnDfU9fFjz17Rdy20nBOn290OqnEuxZn4mOvOh4fe+075zJrfePvh/v6qem4ntMXbj099e9/Puf6gcX4+oMsDYXdzMYlzUgqS1p097FGHg9A6zTjzP4n7h7/mQTQcbxnBxLRaNhd0jNm9pKZ7VrpDma2y8z2mdm+kuL3IgBap9GX8be4+4SZXSbpWTN7y92fX34Hd98tabckrbb19V3BD6BhDZ3Z3X2i+nVK0hOSdjSjUQCar+6wm9mQmY1cuC3pi5L2N6thAJqrkZfxmyU9YUt9xL2S/snd/60prfqkyeknz+tzLYyMhPXKtZ8K61M3rc6snbwpfud0+Q3Hw/ofbzga1vsKcZ/vQiX7V6xUiZ+Xw3Nrw/rBicviY6/JvoZgY0+878B43DZNn4nrOWPx6x2T3oi6w+7u70r67Sa2BUAL0fUGJIKwA4kg7EAiCDuQCMIOJIIhrk1gvfF0yoXhobBeuW5LWD/2B9lda5I0/4dzmbU/2/ZGuO/2VXHX2nvn4yGyB6ZHw/pcqS+ztqYvewiqJA0X48urN6zPnipakk5fNpBZm98c/58Vz8RTaBdyut4qZ+OfLZyqukXdcpzZgUQQdiARhB1IBGEHEkHYgUQQdiARhB1IBP3stSpkD3ksDGb350qSrVsT1s9cH/fpTm+Ph0v+6TXvZNbWFefDff95Ip4Q+NCbl4f1wcmcKZOD37DxLfHPtWpT9vUDkuQeDy324FS2OBjvW+mPo1HIGdbcqmWXG8GZHUgEYQcSQdiBRBB2IBGEHUgEYQcSQdiBRNDPXqOoL91Wx1NBl9fH/ehnN8R/c3vWxGOjS0GH8jNHfyvc9/R/bQ7rV74UjLuWVJyOx5zPbcl+3iq98a/ffH98/UKhGK/5HA2H71mI+7mtnLOedN6yyZ6zfwdwZgcSQdiBRBB2IBGEHUgEYQcSQdiBRBB2IBH0s9fI+rLnP1cxfhrzxkZX4inMVVmIx4wfeD97zPmpd9eH+46+FfcHDx6eCeuVgbjx0c/mPTljuhfic1Elp148kz3mfPBEfP1A77HTYb08dzasd2K8ep7cM7uZPWZmU2a2f9m29Wb2rJkdrH5d19pmAmhULS/jfyjp9o9se0DSXnffJmlv9XsAXSw37O7+vKSTH9l8p6Q91dt7JO1scrsANFm979k3u/tk9fYxSZkXWJvZLkm7JGlAq+o8HIBGNfxpvLu7pMxPI9x9t7uPuftYUf2NHg5AneoN+3EzG5Wk6tep5jUJQCvUG/anJN1TvX2PpCeb0xwArZL7nt3MHpd0q6SNZnZE0rclPSzpp2Z2r6RDku5qZSO7gZ8PBkefifuiCznj2QsLOQefif+bTln24xdn4vnNF3PeWc1fFa8Nf25tfA3AzNXZxy+tzZlbvRy3vXgmPvaq49l93YO/ng73rZz4IKyH66t3qdywu/vdGaXbmtwWAC3E5bJAIgg7kAjCDiSCsAOJIOxAIhjiWqPKfPbSx7YQ950VZuJBgX0zcfdW72z8N7k0mF0vrY6HsE5fn9N1thj/iiwOxUM5S2uDKZdzRoH2T8XHHv51/ADr3prNPvSRY+G+0f/3JxVndiARhB1IBGEHEkHYgUQQdiARhB1IBGEHEkE/exN4zvK9NjMX1gc/iPefm46nay5tzB4K2j8a9xcPXxsvudxTiPvpzy7EbVucHsys9b8XL8m8YX88BHbkrXiYqh2ZzKyVZ+JhyZcizuxAIgg7kAjCDiSCsAOJIOxAIgg7kAjCDiSCfvY2qMzG/ewDk3Ff+MCn4vHuc9dm124cPRru++cbXw3rq3vOhfX/mL4hrP/r6Zsya0OH4/Hoq1/Pmc750JGwXo6m/y7E4/hzVXKmwe5CnNmBRBB2IBGEHUgEYQcSQdiBRBB2IBGEHUgE/extUJmL+9F7T2fPby5JxfmR+ADBysaXD5wJd/1Mf9wPP1KIlyYeH9wY1n0+uz97eDIex6/Tcdsr5+JrAKK+9EJfPA4/TyVvme0u7IfPPbOb2WNmNmVm+5dte8jMJszsleq/O1rbTACNquVl/A8l3b7C9u+6+83Vf083t1kAmi037O7+vKSTbWgLgBZq5AO6+83sterL/MzFzMxsl5ntM7N9JcXznQFonXrD/n1J10m6WdKkpEey7ujuu919zN3Hiuqv83AAGlVX2N39uLuX3b0i6QeSdjS3WQCara6wm9nosm+/LGl/1n0BdIfcfnYze1zSrZI2mtkRSd+WdKuZ3aylFbbHJX29hW285PlAX1gvDQYd6TmOzK8N6/+96rqwvqk37usueTwuvOds9vmk51zch29W/8/dKC/H8+XLc+pdKDfs7n73CpsfbUFbALQQl8sCiSDsQCIIO5AIwg4kgrADiWCIazPkdBEVBuOlic+PxlNFz14ZP37/muyhnifPDYX7/vLEZ8L6cG98ifPVq+LpnstD2V1U5zbEv34DxcaGoUbDTCvn87rW4mmuP4k4swOJIOxAIgg7kAjCDiSCsAOJIOxAIgg7kAj62WvVwLTEhcvi6ZZPfToe4rq4LZ6Ket2q7L7wIycyZwyTJFVOxcf2/rg/evDGeJjq9dsmM2tHD20N913zagtnNroE+9HzcGYHEkHYgUQQdiARhB1IBGEHEkHYgUQQdiAR9LPXyHqy+9ltIO4PLm+Il1yeH43Hq68ePhvWT57KHrM+8MZguO/I4bgffX5zfA3BzA3xz75z9JXM2iOXbwn39QaXVcaHcWYHEkHYgUQQdiARhB1IBGEHEkHYgUQQdiAR9LPXyMvZc5CrEo+NrvTHT3N5IN7/fCnev3A0e176tW8H7ZY0dDSeF/78mlVh/bL+2bC+re9YWI9Y9JzjouWe2c1sq5k9Z2ZvmNkBM/tGdft6M3vWzA5Wv8azJADoqFpexi9K+pa7b5f0+5LuM7Ptkh6QtNfdt0naW/0eQJfKDbu7T7r7y9XbM5LelLRF0p2S9lTvtkfSzlY1EkDjLuo9u5ldLelzkl6QtNndL0wwdkzS5ox9dknaJUkDit//AWidmj+NN7NhST+T9E13P7O85u4uacVPmdx9t7uPuftYUS2cQBBAqKawm1lRS0H/sbv/vLr5uJmNVuujkqZa00QAzZD7Mt7MTNKjkt509+8sKz0l6R5JD1e/PtmSFnaLYPlfX1gId/XeeAhrpa/BaY2Dh18Yif+eL3w6HgI7vSN7OWhJum/Tc2H9F7OfzayNjMdts9l4aC8uTi3v2T8v6WuSXjezC4OTH9RSyH9qZvdKOiTprtY0EUAz5Ibd3X+l7HPHbc1tDoBW4XJZIBGEHUgEYQcSQdiBRBB2IBEMcW0CL8fTMdtCXC+U4n74dUNxf3P5xuy+8Lmc5aCvX/9+WH/0yn8J6zf0xZdA7zxwS2Zt6//EffiVk6fCOi4OZ3YgEYQdSARhBxJB2IFEEHYgEYQdSARhBxJBP3sTeCkez148djqsDx7LXnJZkvym+Phf2Zq9LPLvDr4X7ru9byasz+RMk/2Vt78Q1tf8Ivtn63/r3XDf8vl4mmtcHM7sQCIIO5AIwg4kgrADiSDsQCIIO5AIwg4kgn72NvAP4nHZGw5sCuvHRi4P639//ZrM2uNrxsJ9Fyvx3/u58ezHlqRNL4ZlbfrPiexjT8Vj6aO5+nHxOLMDiSDsQCIIO5AIwg4kgrADiSDsQCIIO5CIWtZn3yrpR5I2S3JJu939e2b2kKS/lHSietcH3f3pVjX0k6w8E48ZH3z5UFi/emJDWF9cl73GeqVvONy351zcl9174kRY14mTYXlx+kx2kX70tqrloppFSd9y95fNbETSS2b2bLX2XXf/29Y1D0Cz1LI++6SkyertGTN7U9KWVjcMQHNd1Ht2M7ta0uckvVDddL+ZvWZmj5nZuox9dpnZPjPbVxLTDAGdUnPYzWxY0s8kfdPdz0j6vqTrJN2spTP/Iyvt5+673X3M3ceK6m9CkwHUo6awm1lRS0H/sbv/XJLc/bi7l929IukHkna0rpkAGpUbdjMzSY9KetPdv7Ns++iyu31Z0v7mNw9As9TyafznJX1N0utmdmHO4gcl3W1mN2upO25c0tdb0sJLgcfTMZdzu7fievQXu9ELKegcu3TU8mn8rySttIA4ferAJwhX0AGJIOxAIgg7kAjCDiSCsAOJIOxAIgg7kAjCDiSCsAOJIOxAIgg7kAjCDiSCsAOJIOxAIsxzxlo39WBmJyQtnzd5o6ScdXs7plvb1q3tkmhbvZrZtqvcfcU1wNsa9o8d3Gyfu8cLiHdIt7atW9sl0bZ6tattvIwHEkHYgUR0Ouy7O3z8SLe2rVvbJdG2erWlbR19zw6gfTp9ZgfQJoQdSERHwm5mt5vZ/5rZ22b2QCfakMXMxs3sdTN7xcz2dbgtj5nZlJntX7ZtvZk9a2YHq19XXGOvQ217yMwmqs/dK2Z2R4fattXMnjOzN8zsgJl9o7q9o89d0K62PG9tf89uZj2S/k/SFyQdkfSipLvd/Y22NiSDmY1LGnP3jl+AYWZ/JGlW0o/c/bPVbX8j6aS7P1z9Q7nO3f+qS9r2kKTZTi/jXV2taHT5MuOSdkr6C3XwuQvadZfa8Lx14sy+Q9Lb7v6uuy9I+omkOzvQjq7n7s9LOvmRzXdK2lO9vUdLvyxtl9G2ruDuk+7+cvX2jKQLy4x39LkL2tUWnQj7FkmHl31/RN213rtLesbMXjKzXZ1uzAo2u/tk9fYxSZs72ZgV5C7j3U4fWWa8a567epY/bxQf0H3cLe7+O5K+JOm+6svVruRL78G6qe+0pmW822WFZcZ/o5PPXb3LnzeqE2GfkLR12fdXVLd1BXefqH6dkvSEum8p6uMXVtCtfp3qcHt+o5uW8V5pmXF1wXPXyeXPOxH2FyVtM7NrzKxP0lclPdWBdnyMmQ1VPziRmQ1J+qK6bynqpyTdU719j6QnO9iWD+mWZbyzlhlXh5+7ji9/7u5t/yfpDi19Iv+OpL/uRBsy2nWtpFer/w50um2SHtfSy7qSlj7buFfSBkl7JR2U9O+S1ndR2/5R0uuSXtNSsEY71LZbtPQS/TVJr1T/3dHp5y5oV1ueNy6XBRLBB3RAIgg7kAjCDiSCsAOJIOxAIgg7kAjCDiTi/wFv8TEfb3G6+AAAAABJRU5ErkJggg==\n",
                "text/plain": "<Figure size 432x288 with 1 Axes>"
              }
            ],
            "_view_module": "@jupyter-widgets/output",
            "_model_module_version": "1.0.0",
            "_view_count": null,
            "_view_module_version": "1.0.0",
            "layout": "IPY_MODEL_e3e191b4f46046ea947df808aafc74af",
            "_model_module": "@jupyter-widgets/output"
          }
        },
        "e3e191b4f46046ea947df808aafc74af": {
          "model_module": "@jupyter-widgets/base",
          "model_name": "LayoutModel",
          "state": {
            "_view_name": "LayoutView",
            "grid_template_rows": null,
            "right": null,
            "justify_content": null,
            "_view_module": "@jupyter-widgets/base",
            "overflow": null,
            "_model_module_version": "1.2.0",
            "_view_count": null,
            "flex_flow": null,
            "width": null,
            "min_width": null,
            "border": null,
            "align_items": null,
            "bottom": null,
            "_model_module": "@jupyter-widgets/base",
            "top": null,
            "grid_column": null,
            "overflow_y": null,
            "overflow_x": null,
            "grid_auto_flow": null,
            "grid_area": null,
            "grid_template_columns": null,
            "flex": null,
            "_model_name": "LayoutModel",
            "justify_items": null,
            "grid_row": null,
            "max_height": null,
            "align_content": null,
            "visibility": null,
            "align_self": null,
            "height": null,
            "min_height": null,
            "padding": null,
            "grid_auto_rows": null,
            "grid_gap": null,
            "max_width": null,
            "order": null,
            "_view_module_version": "1.2.0",
            "grid_template_areas": null,
            "object_position": null,
            "object_fit": null,
            "grid_auto_columns": null,
            "margin": null,
            "display": null,
            "left": null
          }
        },
        "e8f9c23f546441ac861f155812ad7594": {
          "model_module": "@jupyter-widgets/controls",
          "model_name": "VBoxModel",
          "state": {
            "_view_name": "VBoxView",
            "_dom_classes": [
              "widget-interact"
            ],
            "_model_name": "VBoxModel",
            "_view_module": "@jupyter-widgets/controls",
            "_model_module_version": "1.5.0",
            "_view_count": null,
            "_view_module_version": "1.5.0",
            "box_style": "",
            "layout": "IPY_MODEL_d6ce630828a64f86b1b6421821729898",
            "_model_module": "@jupyter-widgets/controls",
            "children": [
              "IPY_MODEL_8f45e265871a4cfb9d0f098a4ebfb84b",
              "IPY_MODEL_a3a6f358a79c4224b018b30f5ed67759"
            ]
          }
        },
        "d6ce630828a64f86b1b6421821729898": {
          "model_module": "@jupyter-widgets/base",
          "model_name": "LayoutModel",
          "state": {
            "_view_name": "LayoutView",
            "grid_template_rows": null,
            "right": null,
            "justify_content": null,
            "_view_module": "@jupyter-widgets/base",
            "overflow": null,
            "_model_module_version": "1.2.0",
            "_view_count": null,
            "flex_flow": null,
            "width": null,
            "min_width": null,
            "border": null,
            "align_items": null,
            "bottom": null,
            "_model_module": "@jupyter-widgets/base",
            "top": null,
            "grid_column": null,
            "overflow_y": null,
            "overflow_x": null,
            "grid_auto_flow": null,
            "grid_area": null,
            "grid_template_columns": null,
            "flex": null,
            "_model_name": "LayoutModel",
            "justify_items": null,
            "grid_row": null,
            "max_height": null,
            "align_content": null,
            "visibility": null,
            "align_self": null,
            "height": null,
            "min_height": null,
            "padding": null,
            "grid_auto_rows": null,
            "grid_gap": null,
            "max_width": null,
            "order": null,
            "_view_module_version": "1.2.0",
            "grid_template_areas": null,
            "object_position": null,
            "object_fit": null,
            "grid_auto_columns": null,
            "margin": null,
            "display": null,
            "left": null
          }
        },
        "8f45e265871a4cfb9d0f098a4ebfb84b": {
          "model_module": "@jupyter-widgets/controls",
          "model_name": "IntSliderModel",
          "state": {
            "_view_name": "IntSliderView",
            "style": "IPY_MODEL_94ac6579939341a3a9ee11223a12e1b9",
            "_dom_classes": [],
            "description": "idx",
            "step": 1,
            "_model_name": "IntSliderModel",
            "orientation": "horizontal",
            "max": 59999,
            "_view_module": "@jupyter-widgets/controls",
            "_model_module_version": "1.5.0",
            "value": 0,
            "_view_count": null,
            "disabled": false,
            "_view_module_version": "1.5.0",
            "min": 0,
            "continuous_update": false,
            "readout_format": "d",
            "description_tooltip": null,
            "readout": true,
            "_model_module": "@jupyter-widgets/controls",
            "layout": "IPY_MODEL_fa67e7099adb4943b691f87345ad342f"
          }
        },
        "a3a6f358a79c4224b018b30f5ed67759": {
          "model_module": "@jupyter-widgets/output",
          "model_name": "OutputModel",
          "state": {
            "_view_name": "OutputView",
            "msg_id": "",
            "_dom_classes": [],
            "_model_name": "OutputModel",
            "outputs": [
              {
                "output_type": "stream",
                "metadata": {
                  "tags": []
                },
                "text": "GT label: 5\n",
                "stream": "stdout"
              },
              {
                "output_type": "display_data",
                "metadata": {
                  "tags": [],
                  "needs_background": "light"
                },
                "image/png": "iVBORw0KGgoAAAANSUhEUgAAAXAAAAC4CAYAAAD61bdSAAAABHNCSVQICAgIfAhkiAAAAAlwSFlzAAALEgAACxIB0t1+/AAAADh0RVh0U29mdHdhcmUAbWF0cGxvdGxpYiB2ZXJzaW9uMy4yLjEsIGh0dHA6Ly9tYXRwbG90bGliLm9yZy+j8jraAAAU0UlEQVR4nO3de3DVZXoH8O+Tkxsk3CIXw0UIiKDgipoqW6l3XFbtoNN6q2Op2uKN3XWXbaWMrbqrM+6M2rrW2oHKwu663rWylao7GcdLK6zIoi4XuYkIhmBACIRAknOe/pGDE3ieY05yru/J9zPjkDy85/zeX3h4/HHem6gqiIgoPEW57gAREfUMCzgRUaBYwImIAsUCTkQUKBZwIqJAsYATEQUqpQIuIjNE5BMR2SQi89LVKaJcY25TCKSn88BFJAJgA4DpALYDeB/Adaq6NtFrSqVMy1HRo+sRdeUQmtGqhyXV9+lZbpdrn6LKVC9N5GqJHUCrHjK5XZzCe54FYJOqbgEAEXkGwEwACZO8HBU4Wy5K4ZJEia3QunS9Vbdzu09RJab2uSxd1yc6yvKWV914Kh+hjADweafvt8djRxGR2SKyUkRWtuFwCpcjyppu53arHspa54iOyPggpqouUNVaVa0tQVmmL0eUNZ1zu1TKc90d6oVSKeA7AIzq9P3IeIwodMxtCkIqBfx9AONFpEZESgFcC2BperpFlFPMbQpCjwcxVbVdROYAeB1ABMAiVV2Ttp4R5Qhzm0KRyiwUqOoyAMvS1BeivMHcphBwJSYRUaBYwImIAsUCTkQUKBZwIqJAsYATEQWKBZyIKFAs4EREgWIBJyIKFAs4EVGgWMCJiALFAk5EFCgWcCKiQLGAExEFKqXdCImoFxDnnOhEh6FHIvblZaVJteu4lL1Wdw5e916fiEZj/ntE7HOtHvKPzNPWtqSvlwl8AiciChQLOBFRoFjAiYgCxQJORBSolAYxRWQrgP0AogDaVbU2HZ0qdFJsf+yRIYNTes9PfjzGjUf72oGa0eN2uW373m4HgHY+4gxAAVhV+6yJNUab3bZnPz/XxE780XK3bb4o+Nz2BvuiUb9pnz42Vlnhtt1/xnATa6i1A5atQ/xrIeIMWEYTDEw6baU0wfuqMzia4H3loO3vCa/5A559N+6xwa+a/C40+38/UpGOWSgXqGpjGt6HKN8wtymv8SMUIqJApVrAFcAbIvKBiMxOR4eI8gRzm/Jeqh+hTFPVHSIyFMDvRGS9qr7duUE8+WcDQDn6png5oqzpXm6L/5kwUSal9ASuqjviv+4C8DKAs5w2C1S1VlVrS1CWyuWIsqa7uV0q5dnuIlHPn8BFpAJAkaruj399CYCfpK1neSBy8ngT07ISt+0X5w00sZap/qhz1QAbf+c0O6sjU/7nYD83/rN/m2FiK079jdv207YWE3uwYbrbdvg7yS+FzgcFlduJlpY7M06Kjh/qNt0+c6SJNZ3c7rYdMuorE5s+dJuJHV+2z31936JWEysr8per9yuyOTgwctBtW1F02MTKxX/fza325/DT4y7333f5MBMb8Yq9ByD/ZqEMA/ByfO+BYgC/UdXX0tIrotxiblMQelzAVXULgNPS2BeivMDcplBwGiERUaBYwImIAsX9wAFEzz/DjT+y+HETO6nEX1qer9rUDlb982N/47YtbraDjd9+fo7btt8OO4hV1mgHlQCg78oV39BDyoWigQNMbPNNI9y237rwExOrqdjtti13BhwHFSc/eHc4ZicJbD14nNt2W3OVifUv9XOwstgOLG7Z77/vpno7iFn+sd1OAAAq6p2l+4f9QcxM4BM4EVGgWMCJiALFAk5EFCgWcCKiQLGAExEFirNQAJR98oUb/+DQKBM7qaQh09352tz6qW58ywF7+MPicS+4bffF7MySYT//v9Q6lkBYC+Z7B233l7zDOSn+8Ch/9sSU/ttN7Kt2f2O6D/faZfeffmVnizR94W/nUPGZLUmDP/aXvPfZccDEGg/aJfMAsNs5PT7i/N0AgAmx5P+Oe6fVx5r95fwoSv/zMp/AiYgCxQJORBQoFnAiokCxgBMRBYqDmADa63e68cd+dpWJPTDDXxYc+ajSxD68/bGk+3B/47dMbNPF/kBRdG+9if3Vt2932279vo3V4MOk+0Vhk2L/r3i0qr+JDa+2e3kDwIRym29vNU1w267ZUW1i/d62y9AnvutfSxr8JfouZ4BWD/uDmBqzp8qrJj/sLgn2Ve/WeyTdMnl8AiciChQLOBFRoFjAiYgCxQJORBQoFnAiokB1OQtFRBYBuBzALlWdHI9VAXgWwBgAWwFcrar+sHLAqn7xnokN+a2/CXx09x4TmzT5JrftmnMXmdjSBeeZ2NC9yS95l/f8mSU19hYorjfkdqKl9OKcSj+gzC4LB4DxpbtMbEv5ELdt+wF7IMOAT+0ydtnhL1dPNIvE5cwsSchZxp6OWSGZmFnSHck8gS8GMOOY2DwAdao6HkBd/Hui0CwGc5sC1mUBV9W3ARz7eDkTwJL410sAXJHmfhFlHHObQtfThTzDVPXI7P6dAIYlaigiswHMBoBy+AtTiPJIz3JbKrLQNaKjpTyIqR1LkRIuR1LVBapaq6q1JShL9XJEWdOd3C6V8iz2jKhDT5/AG0SkWlXrRaQagB3lKFDRxuSX+rY1JX+C/aTr15rYl09E/MYx5yRsSpdekdtFTXbP6nVr7f73APBy1Rkm1i/iD3gOGbHXxL441+5fP7J9rPv6slVbTCzhwGYG9tcOTU9/AksBzIp/PQvAK+npDlHOMbcpGF0WcBF5GsB7ACaIyHYRuRnAgwCmi8hGABfHvycKCnObQtflRyiqel2C37oozX0hyirmNoWOHyIREQWKBZyIKFA80CGDTr5rgxu/8VT7L/RfjK4zsfOuusN9fb9nl6fWMer1YrsaTezkh/3nud/+wW7zsPcCfxbKn43bZGKl0+2p9m8Mnuy+fnjVSSY28N3P3LaxfU1uvDfhEzgRUaBYwImIAsUCTkQUKBZwIqJAcRAzg6J797nx3bedbGLblraY2Lz7f+m+/h+vvtLE9A8D3LajHnA2BO/GSdoUNokk2I7BOWVdG+2e9gAw9GU7WDj0nSq37arvnmpizWfZZfuDqv0ByNhNdv/yTVNq3LYnPrHNxLTZXgvo5j7jAeETOBFRoFjAiYgCxQJORBQoFnAiokBxEDMHYh+uM7Fr7/t7E3vqnofc16+e6gxuTvWvNalijomNX1jvtATat2z134QKjzOQrc5BxwAA52BkafjSbTri1875z8sGmtD679k9wgHgp5e8YGKRsf7hxfeddLmJVT030m3b/zW73z4S3W9A+ARORBQoFnAiokCxgBMRBYoFnIgoUCzgRESBEu1iWbWILAJwOYBdqjo5HrsXwN8BODIUPV9Vl3V1sf5SpWcLT6tKlp4zxY33f9Dur/z02NeTft+Jb/6tG59wn136H91oTwnPVyu0Dk26x64RTyCduT0gMlin9rms+50OlbMUHwC0tc02jdjnRBl7gvv69bcNMrEfXvia2/Y7lXZmyY3rbnDb9ru7r+3D2nBye3nLq9gXbTQ/9GSewBcDmOHE/0VVp8T/6zLBifLQYjC3KWBdFnBVfRuAv8sNUcCY2xS6VD4DnyMiH4nIIhGx/+6JE5HZIrJSRFa2oTB3BKOC0+3cblX/iDGiTOppAX8CwDgAUwDUA3g4UUNVXaCqtapaW4KyHl6OKGt6lNulUp6t/hF9rUdL6VW14cjXIrIQwH+nrUf0Nfnf1W784F8ONbE/ueZ7btsVdz1qYusv+E+37fVjLjGxfdO+qYeFh7mdpASTH6TElhRts0vxY+s3u6+fsHC8if3HcD8JLzxzvYn904mvum1vu3mWiU38cYLx7oD2y+/RE7iIVHf69koAf0xPd4hyi7lNIenyCVxEngZwPoDBIrIdwD0AzheRKQAUwFYAt2Swj0QZwdym0HVZwFX1Oif8ZAb6QpRVzG0KHVdiEhEFigWciChQPNAhQNGGXSY27Oc2BgCH/sHOAOgrpW7bhWPshIvLr7zTbdv35RXf1EWir0lpiYnpQbvkHgDkoF0rUu68HgA2tx1nYhf32eu2Pee0DSa2p69dXg8A2tzsxvMRn8CJiALFAk5EFCgWcCKiQLGAExEFioOYeSw2zd8PfPNVdt+NyVO2um0TDVh6Httzun39KyuTfj2Ru0+4c/p78ehR7svX3z7MxH40zl8eXy52ILQh2uq23bbf7klWqU1u25DwCZyIKFAs4EREgWIBJyIKFAs4EVGgWMCJiALFWSg5ILWTTWzD9+1skYXnLHFff265P9KerMPqL2NevqfGBmP1KV2LCkCCE+iTfvnokSa26YYhbts/P+99Ezu+eJ/bdk+00sTu2nmu27b5peNNrKLF334iJHwCJyIKFAs4EVGgWMCJiALFAk5EFKhkzsQcBeCXAIah45zABar6qIhUAXgWwBh0nB14tap+lbmu5rfimtEmtvnG4W7be695xsT+orIx7X0CgPkNtSb21qNT3baDlryXkT7kq16d290ZmCyyz3lFVQPdpg0X2wHLM29ZbWJ/PaDOfb03YLmj3S6DB4CH1k83sYpfDXDbDn3dOZvaWeIPwL3ffJVMT9sBzFXVUwBMBXCHiJwCYB6AOlUdD6Au/j1RSJjbFLQuC7iq1qvqqvjX+wGsAzACwEwAR+a5LQFwRaY6SZQJzG0KXbfmgYvIGACnA1gBYJiqHpkkvBMd/wz1XjMbwGwAKId/hBFRrqWc21KR+U4SHSPpD3tEpBLAiwDuVD16H0ZVVXR8hmio6gJVrVXV2hKUpdRZokxIR26Xit3ilyjTkirgIlKCjgR/SlVfiocbRKQ6/vvVAMJf1kS9DnObQpbMLBQB8CSAdar6SKffWgpgFoAH47++kpEe5lDxmBNMbN+Z1W7ba37ymondOvAlp2Xq5tbbWSTv/budbQIAVYt/b2KDYr1rtkkieZXbkYgb1la7bUKkyp+Voe3OrAqN+ddT+48KqfQ/Bto9bYTtww3+/9OWTXrIxIZG7Pu+eKC/+/q7N9rhhsbfu59gYdzCz00stnub2xYx5+cQ0GyTRJL5DPwcADcA+FhEjswHmo+O5H5ORG4G8BmAqzPTRaKMYW5T0Los4Kr6LoBEk0YvSm93iLKHuU2hC//fEEREvRQLOBFRoHrdfuDF1XZf4D2L/MGb22reMrHr+jWkvU8AMGfHNBNb9YR/Kv3gF+yy4Kr9HJgMhjNgqYcOu01l0okmtvZWuw82ABQ32feNFbszIKFOfFCNv1vA9TVvmNif9t3otm2O2fe9dNOlJlb/4hj39dXPbzKx/i3+NhOx9nY37iqAAUtPYd4VEVEvwAJORBQoFnAiokCxgBMRBYoFnIgoUAUxC6X1O3YZeesP97ht55+4zMQu6dOc9j4BQEO0xY2fu3SuiU28e72JVe31Z5YkWBxNoXCWdUdG+ls0fHGfbXvr2DfdtgMiB02sqviA23ZgkW2bSN3+SSY26/0b3balK+0MmVGLbG4ff+hD9/XdmVkiCbYf6E34BE5EFCgWcCKiQLGAExEFigWciChQBTGIufUK+/+hDac+n/L7Pr53nIk9+tYlbluJ2k3tJt7/qdt2fMMKE0twPjYVoFjLIROTg/6Ad9MWO7j5Zr+T3LbTBm82sY0t/l7anx2sMrEP1ox129a8YLNz3Eq75B0ANGoHXbWtzTZMsLSdA5PdwydwIqJAsYATEQWKBZyIKFAs4EREgeqygIvIKBF5U0TWisgaEflBPH6viOwQkdXx/+ymv0R5jLlNoRN1Tqc+qoFINYBqVV0lIv0AfADgCnQc9HpAVe0x1An0lyo9W3jUIGXGCq1Dk+5JdMalkc7cHhAZrFP7XJZUW++keU2whDwycICJRSeOdttGy+2kstLt/iENaHS2mnAOY0jUN43686ZEnB9/gR6mkE3LW17Fvmij+eEmc6hxPYD6+Nf7RWQdgBHp7yJRdjG3KXTd+l+jiIwBcDqAIxOZ54jIRyKySEQGJXjNbBFZKSIr2+AfG0WUa6nmdqvaud1EmZZ0AReRSgAvArhTVZsAPAFgHIAp6HiKedh7naouUNVaVa0tQVkaukyUXunI7VIpz1p/iY5IqoCLSAk6EvwpVX0JAFS1QVWjqhoDsBDAWZnrJlFmMLcpZF1+Bi4doxJPAlinqo90ilfHP0MEgCsB2KPSifJYrnJbSkttrNj/q+idVl+0eoPb1nsa0wQDiN4gZHeWsXPJe35IZi+UcwDcAOBjEVkdj80HcJ2ITAGgALYCuCUjPSTKHOY2BS2ZWSjvAvCmZtmjbYgCwtym0HGCJhFRoFjAiYgCxQJORBSogjjQgSh4WV5uzlkkhYFP4EREgWIBJyIKFAs4EVGgWMCJiALV5X7gab2YyJcAPot/OxhAY9Yunj28r9wZrapDcnHhTrkdws+ppwr13kK4Lze3s1rAj7qwyEpVrc3JxTOI99W7FfLPqVDvLeT74kcoRESBYgEnIgpULgv4ghxeO5N4X71bIf+cCvXegr2vnH0GTkREqeFHKEREgWIBJyIKVNYLuIjMEJFPRGSTiMzL9vXTKX5i+S4R+WOnWJWI/E5ENsZ/dU80z2ciMkpE3hSRtSKyRkR+EI8Hf2+ZVCi5zbwO596yWsBFJALgcQDfBXAKOo6uOiWbfUizxQBmHBObB6BOVccDqIt/H5p2AHNV9RQAUwHcEf9zKoR7y4gCy+3FYF4HIdtP4GcB2KSqW1S1FcAzAGZmuQ9po6pvA9hzTHgmgCXxr5cAuCKrnUoDVa1X1VXxr/cDWAdgBArg3jKoYHKbeR3OvWW7gI8A8Hmn77fHY4VkWKcTzXcCGJbLzqRKRMYAOB3AChTYvaVZoed2Qf3ZF0pecxAzg7Rjjmaw8zRFpBLAiwDuVNWmzr8X+r1Rz4X+Z19IeZ3tAr4DwKhO34+MxwpJg4hUA0D811057k+PiEgJOpL8KVV9KR4uiHvLkELP7YL4sy+0vM52AX8fwHgRqRGRUgDXAlia5T5k2lIAs+JfzwLwSg770iMiIgCeBLBOVR/p9FvB31sGFXpuB/9nX4h5nfWVmCJyKYB/BRABsEhVH8hqB9JIRJ4GcD46tqNsAHAPgP8C8ByAE9CxvejVqnrsgFBeE5FpAN4B8DGAWDw8Hx2fFwZ9b5lUKLnNvA7n3riUnogoUBzEJCIKFAs4EVGgWMCJiALFAk5EFCgWcCKiQLGAExEFigWciChQ/w9/BmK2YPR1eAAAAABJRU5ErkJggg==\n",
                "text/plain": "<Figure size 432x288 with 2 Axes>"
              }
            ],
            "_view_module": "@jupyter-widgets/output",
            "_model_module_version": "1.0.0",
            "_view_count": null,
            "_view_module_version": "1.0.0",
            "layout": "IPY_MODEL_b3a83d860e4e402cb0cca57c381d106b",
            "_model_module": "@jupyter-widgets/output"
          }
        },
        "94ac6579939341a3a9ee11223a12e1b9": {
          "model_module": "@jupyter-widgets/controls",
          "model_name": "SliderStyleModel",
          "state": {
            "_view_name": "StyleView",
            "handle_color": null,
            "_model_name": "SliderStyleModel",
            "description_width": "",
            "_view_module": "@jupyter-widgets/base",
            "_model_module_version": "1.5.0",
            "_view_count": null,
            "_view_module_version": "1.2.0",
            "_model_module": "@jupyter-widgets/controls"
          }
        },
        "fa67e7099adb4943b691f87345ad342f": {
          "model_module": "@jupyter-widgets/base",
          "model_name": "LayoutModel",
          "state": {
            "_view_name": "LayoutView",
            "grid_template_rows": null,
            "right": null,
            "justify_content": null,
            "_view_module": "@jupyter-widgets/base",
            "overflow": null,
            "_model_module_version": "1.2.0",
            "_view_count": null,
            "flex_flow": null,
            "width": null,
            "min_width": null,
            "border": null,
            "align_items": null,
            "bottom": null,
            "_model_module": "@jupyter-widgets/base",
            "top": null,
            "grid_column": null,
            "overflow_y": null,
            "overflow_x": null,
            "grid_auto_flow": null,
            "grid_area": null,
            "grid_template_columns": null,
            "flex": null,
            "_model_name": "LayoutModel",
            "justify_items": null,
            "grid_row": null,
            "max_height": null,
            "align_content": null,
            "visibility": null,
            "align_self": null,
            "height": null,
            "min_height": null,
            "padding": null,
            "grid_auto_rows": null,
            "grid_gap": null,
            "max_width": null,
            "order": null,
            "_view_module_version": "1.2.0",
            "grid_template_areas": null,
            "object_position": null,
            "object_fit": null,
            "grid_auto_columns": null,
            "margin": null,
            "display": null,
            "left": null
          }
        },
        "b3a83d860e4e402cb0cca57c381d106b": {
          "model_module": "@jupyter-widgets/base",
          "model_name": "LayoutModel",
          "state": {
            "_view_name": "LayoutView",
            "grid_template_rows": null,
            "right": null,
            "justify_content": null,
            "_view_module": "@jupyter-widgets/base",
            "overflow": null,
            "_model_module_version": "1.2.0",
            "_view_count": null,
            "flex_flow": null,
            "width": null,
            "min_width": null,
            "border": null,
            "align_items": null,
            "bottom": null,
            "_model_module": "@jupyter-widgets/base",
            "top": null,
            "grid_column": null,
            "overflow_y": null,
            "overflow_x": null,
            "grid_auto_flow": null,
            "grid_area": null,
            "grid_template_columns": null,
            "flex": null,
            "_model_name": "LayoutModel",
            "justify_items": null,
            "grid_row": null,
            "max_height": null,
            "align_content": null,
            "visibility": null,
            "align_self": null,
            "height": null,
            "min_height": null,
            "padding": null,
            "grid_auto_rows": null,
            "grid_gap": null,
            "max_width": null,
            "order": null,
            "_view_module_version": "1.2.0",
            "grid_template_areas": null,
            "object_position": null,
            "object_fit": null,
            "grid_auto_columns": null,
            "margin": null,
            "display": null,
            "left": null
          }
        },
        "a89690aba79d46ba91ea8fdcc8cac248": {
          "model_module": "@jupyter-widgets/controls",
          "model_name": "VBoxModel",
          "state": {
            "_view_name": "VBoxView",
            "_dom_classes": [
              "widget-interact"
            ],
            "_model_name": "VBoxModel",
            "_view_module": "@jupyter-widgets/controls",
            "_model_module_version": "1.5.0",
            "_view_count": null,
            "_view_module_version": "1.5.0",
            "box_style": "",
            "layout": "IPY_MODEL_5596c729c4c44f98846505c1573145a7",
            "_model_module": "@jupyter-widgets/controls",
            "children": [
              "IPY_MODEL_619e1185473a440584d0d72a63232ab2",
              "IPY_MODEL_773313e80f034b0f9cc43b14f36aa4b0"
            ]
          }
        },
        "5596c729c4c44f98846505c1573145a7": {
          "model_module": "@jupyter-widgets/base",
          "model_name": "LayoutModel",
          "state": {
            "_view_name": "LayoutView",
            "grid_template_rows": null,
            "right": null,
            "justify_content": null,
            "_view_module": "@jupyter-widgets/base",
            "overflow": null,
            "_model_module_version": "1.2.0",
            "_view_count": null,
            "flex_flow": null,
            "width": null,
            "min_width": null,
            "border": null,
            "align_items": null,
            "bottom": null,
            "_model_module": "@jupyter-widgets/base",
            "top": null,
            "grid_column": null,
            "overflow_y": null,
            "overflow_x": null,
            "grid_auto_flow": null,
            "grid_area": null,
            "grid_template_columns": null,
            "flex": null,
            "_model_name": "LayoutModel",
            "justify_items": null,
            "grid_row": null,
            "max_height": null,
            "align_content": null,
            "visibility": null,
            "align_self": null,
            "height": null,
            "min_height": null,
            "padding": null,
            "grid_auto_rows": null,
            "grid_gap": null,
            "max_width": null,
            "order": null,
            "_view_module_version": "1.2.0",
            "grid_template_areas": null,
            "object_position": null,
            "object_fit": null,
            "grid_auto_columns": null,
            "margin": null,
            "display": null,
            "left": null
          }
        },
        "619e1185473a440584d0d72a63232ab2": {
          "model_module": "@jupyter-widgets/controls",
          "model_name": "IntSliderModel",
          "state": {
            "_view_name": "IntSliderView",
            "style": "IPY_MODEL_2c534719c2e84d81bb4ea8287f14dc26",
            "_dom_classes": [],
            "description": "idx",
            "step": 1,
            "_model_name": "IntSliderModel",
            "orientation": "horizontal",
            "max": 59999,
            "_view_module": "@jupyter-widgets/controls",
            "_model_module_version": "1.5.0",
            "value": 0,
            "_view_count": null,
            "disabled": false,
            "_view_module_version": "1.5.0",
            "min": 0,
            "continuous_update": false,
            "readout_format": "d",
            "description_tooltip": null,
            "readout": true,
            "_model_module": "@jupyter-widgets/controls",
            "layout": "IPY_MODEL_d647972ab765411bb40ff2f8fe9d7420"
          }
        },
        "773313e80f034b0f9cc43b14f36aa4b0": {
          "model_module": "@jupyter-widgets/output",
          "model_name": "OutputModel",
          "state": {
            "_view_name": "OutputView",
            "msg_id": "",
            "_dom_classes": [],
            "_model_name": "OutputModel",
            "outputs": [
              {
                "output_type": "stream",
                "metadata": {
                  "tags": []
                },
                "text": "GT label: 5\n",
                "stream": "stdout"
              },
              {
                "output_type": "display_data",
                "metadata": {
                  "tags": [],
                  "needs_background": "light"
                },
                "image/png": "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\n",
                "text/plain": "<Figure size 432x288 with 2 Axes>"
              }
            ],
            "_view_module": "@jupyter-widgets/output",
            "_model_module_version": "1.0.0",
            "_view_count": null,
            "_view_module_version": "1.0.0",
            "layout": "IPY_MODEL_17f5ff44328546b39fc75551221d3b35",
            "_model_module": "@jupyter-widgets/output"
          }
        },
        "2c534719c2e84d81bb4ea8287f14dc26": {
          "model_module": "@jupyter-widgets/controls",
          "model_name": "SliderStyleModel",
          "state": {
            "_view_name": "StyleView",
            "handle_color": null,
            "_model_name": "SliderStyleModel",
            "description_width": "",
            "_view_module": "@jupyter-widgets/base",
            "_model_module_version": "1.5.0",
            "_view_count": null,
            "_view_module_version": "1.2.0",
            "_model_module": "@jupyter-widgets/controls"
          }
        },
        "d647972ab765411bb40ff2f8fe9d7420": {
          "model_module": "@jupyter-widgets/base",
          "model_name": "LayoutModel",
          "state": {
            "_view_name": "LayoutView",
            "grid_template_rows": null,
            "right": null,
            "justify_content": null,
            "_view_module": "@jupyter-widgets/base",
            "overflow": null,
            "_model_module_version": "1.2.0",
            "_view_count": null,
            "flex_flow": null,
            "width": null,
            "min_width": null,
            "border": null,
            "align_items": null,
            "bottom": null,
            "_model_module": "@jupyter-widgets/base",
            "top": null,
            "grid_column": null,
            "overflow_y": null,
            "overflow_x": null,
            "grid_auto_flow": null,
            "grid_area": null,
            "grid_template_columns": null,
            "flex": null,
            "_model_name": "LayoutModel",
            "justify_items": null,
            "grid_row": null,
            "max_height": null,
            "align_content": null,
            "visibility": null,
            "align_self": null,
            "height": null,
            "min_height": null,
            "padding": null,
            "grid_auto_rows": null,
            "grid_gap": null,
            "max_width": null,
            "order": null,
            "_view_module_version": "1.2.0",
            "grid_template_areas": null,
            "object_position": null,
            "object_fit": null,
            "grid_auto_columns": null,
            "margin": null,
            "display": null,
            "left": null
          }
        },
        "17f5ff44328546b39fc75551221d3b35": {
          "model_module": "@jupyter-widgets/base",
          "model_name": "LayoutModel",
          "state": {
            "_view_name": "LayoutView",
            "grid_template_rows": null,
            "right": null,
            "justify_content": null,
            "_view_module": "@jupyter-widgets/base",
            "overflow": null,
            "_model_module_version": "1.2.0",
            "_view_count": null,
            "flex_flow": null,
            "width": null,
            "min_width": null,
            "border": null,
            "align_items": null,
            "bottom": null,
            "_model_module": "@jupyter-widgets/base",
            "top": null,
            "grid_column": null,
            "overflow_y": null,
            "overflow_x": null,
            "grid_auto_flow": null,
            "grid_area": null,
            "grid_template_columns": null,
            "flex": null,
            "_model_name": "LayoutModel",
            "justify_items": null,
            "grid_row": null,
            "max_height": null,
            "align_content": null,
            "visibility": null,
            "align_self": null,
            "height": null,
            "min_height": null,
            "padding": null,
            "grid_auto_rows": null,
            "grid_gap": null,
            "max_width": null,
            "order": null,
            "_view_module_version": "1.2.0",
            "grid_template_areas": null,
            "object_position": null,
            "object_fit": null,
            "grid_auto_columns": null,
            "margin": null,
            "display": null,
            "left": null
          }
        },
        "916226047148484daf9906de9589417c": {
          "model_module": "@jupyter-widgets/controls",
          "model_name": "VBoxModel",
          "state": {
            "_view_name": "VBoxView",
            "_dom_classes": [
              "widget-interact"
            ],
            "_model_name": "VBoxModel",
            "_view_module": "@jupyter-widgets/controls",
            "_model_module_version": "1.5.0",
            "_view_count": null,
            "_view_module_version": "1.5.0",
            "box_style": "",
            "layout": "IPY_MODEL_042c48afffc9452e9bfacab88ddb6c98",
            "_model_module": "@jupyter-widgets/controls",
            "children": [
              "IPY_MODEL_27a767075da9487295c78636a4d1f519",
              "IPY_MODEL_d36a774ab57443999827351c6c836031"
            ]
          }
        },
        "042c48afffc9452e9bfacab88ddb6c98": {
          "model_module": "@jupyter-widgets/base",
          "model_name": "LayoutModel",
          "state": {
            "_view_name": "LayoutView",
            "grid_template_rows": null,
            "right": null,
            "justify_content": null,
            "_view_module": "@jupyter-widgets/base",
            "overflow": null,
            "_model_module_version": "1.2.0",
            "_view_count": null,
            "flex_flow": null,
            "width": null,
            "min_width": null,
            "border": null,
            "align_items": null,
            "bottom": null,
            "_model_module": "@jupyter-widgets/base",
            "top": null,
            "grid_column": null,
            "overflow_y": null,
            "overflow_x": null,
            "grid_auto_flow": null,
            "grid_area": null,
            "grid_template_columns": null,
            "flex": null,
            "_model_name": "LayoutModel",
            "justify_items": null,
            "grid_row": null,
            "max_height": null,
            "align_content": null,
            "visibility": null,
            "align_self": null,
            "height": null,
            "min_height": null,
            "padding": null,
            "grid_auto_rows": null,
            "grid_gap": null,
            "max_width": null,
            "order": null,
            "_view_module_version": "1.2.0",
            "grid_template_areas": null,
            "object_position": null,
            "object_fit": null,
            "grid_auto_columns": null,
            "margin": null,
            "display": null,
            "left": null
          }
        },
        "27a767075da9487295c78636a4d1f519": {
          "model_module": "@jupyter-widgets/controls",
          "model_name": "IntSliderModel",
          "state": {
            "_view_name": "IntSliderView",
            "style": "IPY_MODEL_16aa706a906d48249fdb1ac03ce80bde",
            "_dom_classes": [],
            "description": "idx",
            "step": 1,
            "_model_name": "IntSliderModel",
            "orientation": "horizontal",
            "max": 59999,
            "_view_module": "@jupyter-widgets/controls",
            "_model_module_version": "1.5.0",
            "value": 0,
            "_view_count": null,
            "disabled": false,
            "_view_module_version": "1.5.0",
            "min": 0,
            "continuous_update": true,
            "readout_format": "d",
            "description_tooltip": null,
            "readout": true,
            "_model_module": "@jupyter-widgets/controls",
            "layout": "IPY_MODEL_790ff70303ba40d3ab058916064066a6"
          }
        },
        "d36a774ab57443999827351c6c836031": {
          "model_module": "@jupyter-widgets/output",
          "model_name": "OutputModel",
          "state": {
            "_view_name": "OutputView",
            "msg_id": "",
            "_dom_classes": [],
            "_model_name": "OutputModel",
            "outputs": [
              {
                "output_type": "stream",
                "metadata": {
                  "tags": []
                },
                "text": "tf.Tensor(\n[-0.07353985 -1.2155395   0.8380993  -0.8705454   1.2304572  -1.297875\n -0.31949174 -0.46385205  0.69041806  0.28555655], shape=(10,), dtype=float32)\nGT label: 5\n",
                "stream": "stdout"
              }
            ],
            "_view_module": "@jupyter-widgets/output",
            "_model_module_version": "1.0.0",
            "_view_count": null,
            "_view_module_version": "1.0.0",
            "layout": "IPY_MODEL_787bc00af12a45778cffdaf3c5568b6b",
            "_model_module": "@jupyter-widgets/output"
          }
        },
        "16aa706a906d48249fdb1ac03ce80bde": {
          "model_module": "@jupyter-widgets/controls",
          "model_name": "SliderStyleModel",
          "state": {
            "_view_name": "StyleView",
            "handle_color": null,
            "_model_name": "SliderStyleModel",
            "description_width": "",
            "_view_module": "@jupyter-widgets/base",
            "_model_module_version": "1.5.0",
            "_view_count": null,
            "_view_module_version": "1.2.0",
            "_model_module": "@jupyter-widgets/controls"
          }
        },
        "790ff70303ba40d3ab058916064066a6": {
          "model_module": "@jupyter-widgets/base",
          "model_name": "LayoutModel",
          "state": {
            "_view_name": "LayoutView",
            "grid_template_rows": null,
            "right": null,
            "justify_content": null,
            "_view_module": "@jupyter-widgets/base",
            "overflow": null,
            "_model_module_version": "1.2.0",
            "_view_count": null,
            "flex_flow": null,
            "width": null,
            "min_width": null,
            "border": null,
            "align_items": null,
            "bottom": null,
            "_model_module": "@jupyter-widgets/base",
            "top": null,
            "grid_column": null,
            "overflow_y": null,
            "overflow_x": null,
            "grid_auto_flow": null,
            "grid_area": null,
            "grid_template_columns": null,
            "flex": null,
            "_model_name": "LayoutModel",
            "justify_items": null,
            "grid_row": null,
            "max_height": null,
            "align_content": null,
            "visibility": null,
            "align_self": null,
            "height": null,
            "min_height": null,
            "padding": null,
            "grid_auto_rows": null,
            "grid_gap": null,
            "max_width": null,
            "order": null,
            "_view_module_version": "1.2.0",
            "grid_template_areas": null,
            "object_position": null,
            "object_fit": null,
            "grid_auto_columns": null,
            "margin": null,
            "display": null,
            "left": null
          }
        },
        "787bc00af12a45778cffdaf3c5568b6b": {
          "model_module": "@jupyter-widgets/base",
          "model_name": "LayoutModel",
          "state": {
            "_view_name": "LayoutView",
            "grid_template_rows": null,
            "right": null,
            "justify_content": null,
            "_view_module": "@jupyter-widgets/base",
            "overflow": null,
            "_model_module_version": "1.2.0",
            "_view_count": null,
            "flex_flow": null,
            "width": null,
            "min_width": null,
            "border": null,
            "align_items": null,
            "bottom": null,
            "_model_module": "@jupyter-widgets/base",
            "top": null,
            "grid_column": null,
            "overflow_y": null,
            "overflow_x": null,
            "grid_auto_flow": null,
            "grid_area": null,
            "grid_template_columns": null,
            "flex": null,
            "_model_name": "LayoutModel",
            "justify_items": null,
            "grid_row": null,
            "max_height": null,
            "align_content": null,
            "visibility": null,
            "align_self": null,
            "height": null,
            "min_height": null,
            "padding": null,
            "grid_auto_rows": null,
            "grid_gap": null,
            "max_width": null,
            "order": null,
            "_view_module_version": "1.2.0",
            "grid_template_areas": null,
            "object_position": null,
            "object_fit": null,
            "grid_auto_columns": null,
            "margin": null,
            "display": null,
            "left": null
          }
        },
        "246fb4eacde04e4b9045db63b88c9b87": {
          "model_module": "@jupyter-widgets/controls",
          "model_name": "HBoxModel",
          "state": {
            "_view_name": "HBoxView",
            "_dom_classes": [],
            "_model_name": "HBoxModel",
            "_view_module": "@jupyter-widgets/controls",
            "_model_module_version": "1.5.0",
            "_view_count": null,
            "_view_module_version": "1.5.0",
            "box_style": "",
            "layout": "IPY_MODEL_65cad1c545f749ffa1b6bf4d7f00f756",
            "_model_module": "@jupyter-widgets/controls",
            "children": [
              "IPY_MODEL_cb97d24422f145559a989a627812643f",
              "IPY_MODEL_c88d470f883a48d79bcce386596cad3c",
              "IPY_MODEL_8918d0ad863d4f3384024eafd714eb04",
              "IPY_MODEL_a0d3a499d84047cb899426dd598031c6",
              "IPY_MODEL_412c336ad65e43318712e23198408249",
              "IPY_MODEL_aad17510072b47118634c79d14587f4c",
              "IPY_MODEL_3f98e9fec8ac4a4e9aa7a46be56c63fd",
              "IPY_MODEL_7b6fc52473fb49e8988e57e61b0bb53a",
              "IPY_MODEL_8f1aac68807e41a0b0002fc4e7c33664",
              "IPY_MODEL_e43abe18b3b347e9887f979714759720"
            ]
          }
        },
        "65cad1c545f749ffa1b6bf4d7f00f756": {
          "model_module": "@jupyter-widgets/base",
          "model_name": "LayoutModel",
          "state": {
            "_view_name": "LayoutView",
            "grid_template_rows": null,
            "right": null,
            "justify_content": null,
            "_view_module": "@jupyter-widgets/base",
            "overflow": null,
            "_model_module_version": "1.2.0",
            "_view_count": null,
            "flex_flow": null,
            "width": null,
            "min_width": null,
            "border": null,
            "align_items": null,
            "bottom": null,
            "_model_module": "@jupyter-widgets/base",
            "top": null,
            "grid_column": null,
            "overflow_y": null,
            "overflow_x": null,
            "grid_auto_flow": null,
            "grid_area": null,
            "grid_template_columns": null,
            "flex": null,
            "_model_name": "LayoutModel",
            "justify_items": null,
            "grid_row": null,
            "max_height": null,
            "align_content": null,
            "visibility": null,
            "align_self": null,
            "height": null,
            "min_height": null,
            "padding": null,
            "grid_auto_rows": null,
            "grid_gap": null,
            "max_width": null,
            "order": null,
            "_view_module_version": "1.2.0",
            "grid_template_areas": null,
            "object_position": null,
            "object_fit": null,
            "grid_auto_columns": null,
            "margin": null,
            "display": null,
            "left": null
          }
        },
        "cb97d24422f145559a989a627812643f": {
          "model_module": "@jupyter-widgets/controls",
          "model_name": "FloatSliderModel",
          "state": {
            "_view_name": "FloatSliderView",
            "style": "IPY_MODEL_a21fc58458704c2aabd13336330e7e49",
            "_dom_classes": [],
            "description": "",
            "step": 0.1,
            "_model_name": "FloatSliderModel",
            "orientation": "horizontal",
            "max": 5,
            "_view_module": "@jupyter-widgets/controls",
            "_model_module_version": "1.5.0",
            "value": 0,
            "_view_count": null,
            "disabled": false,
            "_view_module_version": "1.5.0",
            "min": -5,
            "continuous_update": true,
            "readout_format": ".2f",
            "description_tooltip": null,
            "readout": true,
            "_model_module": "@jupyter-widgets/controls",
            "layout": "IPY_MODEL_66b4f65cf2344d11961ae6422cf451a9"
          }
        },
        "c88d470f883a48d79bcce386596cad3c": {
          "model_module": "@jupyter-widgets/controls",
          "model_name": "FloatSliderModel",
          "state": {
            "_view_name": "FloatSliderView",
            "style": "IPY_MODEL_ed918eaed03a4d63950887fcaf77a7ea",
            "_dom_classes": [],
            "description": "",
            "step": 0.1,
            "_model_name": "FloatSliderModel",
            "orientation": "horizontal",
            "max": 5,
            "_view_module": "@jupyter-widgets/controls",
            "_model_module_version": "1.5.0",
            "value": 0,
            "_view_count": null,
            "disabled": false,
            "_view_module_version": "1.5.0",
            "min": -5,
            "continuous_update": true,
            "readout_format": ".2f",
            "description_tooltip": null,
            "readout": true,
            "_model_module": "@jupyter-widgets/controls",
            "layout": "IPY_MODEL_d2a57e8ae7ac4db982c2e78580150204"
          }
        },
        "8918d0ad863d4f3384024eafd714eb04": {
          "model_module": "@jupyter-widgets/controls",
          "model_name": "FloatSliderModel",
          "state": {
            "_view_name": "FloatSliderView",
            "style": "IPY_MODEL_933ad20b85724780960bd97122252f9c",
            "_dom_classes": [],
            "description": "",
            "step": 0.1,
            "_model_name": "FloatSliderModel",
            "orientation": "horizontal",
            "max": 5,
            "_view_module": "@jupyter-widgets/controls",
            "_model_module_version": "1.5.0",
            "value": 0,
            "_view_count": null,
            "disabled": false,
            "_view_module_version": "1.5.0",
            "min": -5,
            "continuous_update": true,
            "readout_format": ".2f",
            "description_tooltip": null,
            "readout": true,
            "_model_module": "@jupyter-widgets/controls",
            "layout": "IPY_MODEL_f96e3b92c8bb432bbf558ec13461d93a"
          }
        },
        "a0d3a499d84047cb899426dd598031c6": {
          "model_module": "@jupyter-widgets/controls",
          "model_name": "FloatSliderModel",
          "state": {
            "_view_name": "FloatSliderView",
            "style": "IPY_MODEL_1185ba9ab02b40e6a4dadb547901c893",
            "_dom_classes": [],
            "description": "",
            "step": 0.1,
            "_model_name": "FloatSliderModel",
            "orientation": "horizontal",
            "max": 5,
            "_view_module": "@jupyter-widgets/controls",
            "_model_module_version": "1.5.0",
            "value": 0,
            "_view_count": null,
            "disabled": false,
            "_view_module_version": "1.5.0",
            "min": -5,
            "continuous_update": true,
            "readout_format": ".2f",
            "description_tooltip": null,
            "readout": true,
            "_model_module": "@jupyter-widgets/controls",
            "layout": "IPY_MODEL_a3617590f5e642c5b917a9185b168e39"
          }
        },
        "412c336ad65e43318712e23198408249": {
          "model_module": "@jupyter-widgets/controls",
          "model_name": "FloatSliderModel",
          "state": {
            "_view_name": "FloatSliderView",
            "style": "IPY_MODEL_74ee1f5566ae4e5e994990684c4e4fe3",
            "_dom_classes": [],
            "description": "",
            "step": 0.1,
            "_model_name": "FloatSliderModel",
            "orientation": "horizontal",
            "max": 5,
            "_view_module": "@jupyter-widgets/controls",
            "_model_module_version": "1.5.0",
            "value": 0,
            "_view_count": null,
            "disabled": false,
            "_view_module_version": "1.5.0",
            "min": -5,
            "continuous_update": true,
            "readout_format": ".2f",
            "description_tooltip": null,
            "readout": true,
            "_model_module": "@jupyter-widgets/controls",
            "layout": "IPY_MODEL_c0af1e59d8ec4df79dee2ea90fc275e4"
          }
        },
        "aad17510072b47118634c79d14587f4c": {
          "model_module": "@jupyter-widgets/controls",
          "model_name": "FloatSliderModel",
          "state": {
            "_view_name": "FloatSliderView",
            "style": "IPY_MODEL_b194a2fa00ca4e638f0fb8f971954c42",
            "_dom_classes": [],
            "description": "",
            "step": 0.1,
            "_model_name": "FloatSliderModel",
            "orientation": "horizontal",
            "max": 5,
            "_view_module": "@jupyter-widgets/controls",
            "_model_module_version": "1.5.0",
            "value": 0,
            "_view_count": null,
            "disabled": false,
            "_view_module_version": "1.5.0",
            "min": -5,
            "continuous_update": true,
            "readout_format": ".2f",
            "description_tooltip": null,
            "readout": true,
            "_model_module": "@jupyter-widgets/controls",
            "layout": "IPY_MODEL_fd2709f37ec8422cb9e8eeee4b4d547b"
          }
        },
        "3f98e9fec8ac4a4e9aa7a46be56c63fd": {
          "model_module": "@jupyter-widgets/controls",
          "model_name": "FloatSliderModel",
          "state": {
            "_view_name": "FloatSliderView",
            "style": "IPY_MODEL_9778b1d9cb2548eb8ae3c571e3a1e097",
            "_dom_classes": [],
            "description": "",
            "step": 0.1,
            "_model_name": "FloatSliderModel",
            "orientation": "horizontal",
            "max": 5,
            "_view_module": "@jupyter-widgets/controls",
            "_model_module_version": "1.5.0",
            "value": 0,
            "_view_count": null,
            "disabled": false,
            "_view_module_version": "1.5.0",
            "min": -5,
            "continuous_update": true,
            "readout_format": ".2f",
            "description_tooltip": null,
            "readout": true,
            "_model_module": "@jupyter-widgets/controls",
            "layout": "IPY_MODEL_8ff5c69acef84e17ae0c874e59472dd1"
          }
        },
        "7b6fc52473fb49e8988e57e61b0bb53a": {
          "model_module": "@jupyter-widgets/controls",
          "model_name": "FloatSliderModel",
          "state": {
            "_view_name": "FloatSliderView",
            "style": "IPY_MODEL_d01003bc68224146a3605301fc1a73d4",
            "_dom_classes": [],
            "description": "",
            "step": 0.1,
            "_model_name": "FloatSliderModel",
            "orientation": "horizontal",
            "max": 5,
            "_view_module": "@jupyter-widgets/controls",
            "_model_module_version": "1.5.0",
            "value": 0,
            "_view_count": null,
            "disabled": false,
            "_view_module_version": "1.5.0",
            "min": -5,
            "continuous_update": true,
            "readout_format": ".2f",
            "description_tooltip": null,
            "readout": true,
            "_model_module": "@jupyter-widgets/controls",
            "layout": "IPY_MODEL_97633a3d9b2044f5bafbdea2adb209f7"
          }
        },
        "8f1aac68807e41a0b0002fc4e7c33664": {
          "model_module": "@jupyter-widgets/controls",
          "model_name": "FloatSliderModel",
          "state": {
            "_view_name": "FloatSliderView",
            "style": "IPY_MODEL_cc04bd65de7c48d9bf8f31f02335c9b3",
            "_dom_classes": [],
            "description": "",
            "step": 0.1,
            "_model_name": "FloatSliderModel",
            "orientation": "horizontal",
            "max": 5,
            "_view_module": "@jupyter-widgets/controls",
            "_model_module_version": "1.5.0",
            "value": 0,
            "_view_count": null,
            "disabled": false,
            "_view_module_version": "1.5.0",
            "min": -5,
            "continuous_update": true,
            "readout_format": ".2f",
            "description_tooltip": null,
            "readout": true,
            "_model_module": "@jupyter-widgets/controls",
            "layout": "IPY_MODEL_8836811d05a24d5d80c44ef318e2341a"
          }
        },
        "e43abe18b3b347e9887f979714759720": {
          "model_module": "@jupyter-widgets/controls",
          "model_name": "FloatSliderModel",
          "state": {
            "_view_name": "FloatSliderView",
            "style": "IPY_MODEL_a0c92b8f0ec14d90b5f15e1719272233",
            "_dom_classes": [],
            "description": "",
            "step": 0.1,
            "_model_name": "FloatSliderModel",
            "orientation": "horizontal",
            "max": 5,
            "_view_module": "@jupyter-widgets/controls",
            "_model_module_version": "1.5.0",
            "value": 0,
            "_view_count": null,
            "disabled": false,
            "_view_module_version": "1.5.0",
            "min": -5,
            "continuous_update": true,
            "readout_format": ".2f",
            "description_tooltip": null,
            "readout": true,
            "_model_module": "@jupyter-widgets/controls",
            "layout": "IPY_MODEL_557c961490e440e8b7fdc47f88360f84"
          }
        },
        "a21fc58458704c2aabd13336330e7e49": {
          "model_module": "@jupyter-widgets/controls",
          "model_name": "SliderStyleModel",
          "state": {
            "_view_name": "StyleView",
            "handle_color": null,
            "_model_name": "SliderStyleModel",
            "description_width": "",
            "_view_module": "@jupyter-widgets/base",
            "_model_module_version": "1.5.0",
            "_view_count": null,
            "_view_module_version": "1.2.0",
            "_model_module": "@jupyter-widgets/controls"
          }
        },
        "66b4f65cf2344d11961ae6422cf451a9": {
          "model_module": "@jupyter-widgets/base",
          "model_name": "LayoutModel",
          "state": {
            "_view_name": "LayoutView",
            "grid_template_rows": null,
            "right": null,
            "justify_content": null,
            "_view_module": "@jupyter-widgets/base",
            "overflow": null,
            "_model_module_version": "1.2.0",
            "_view_count": null,
            "flex_flow": null,
            "width": null,
            "min_width": null,
            "border": null,
            "align_items": null,
            "bottom": null,
            "_model_module": "@jupyter-widgets/base",
            "top": null,
            "grid_column": null,
            "overflow_y": null,
            "overflow_x": null,
            "grid_auto_flow": null,
            "grid_area": null,
            "grid_template_columns": null,
            "flex": null,
            "_model_name": "LayoutModel",
            "justify_items": null,
            "grid_row": null,
            "max_height": null,
            "align_content": null,
            "visibility": null,
            "align_self": null,
            "height": null,
            "min_height": null,
            "padding": null,
            "grid_auto_rows": null,
            "grid_gap": null,
            "max_width": null,
            "order": null,
            "_view_module_version": "1.2.0",
            "grid_template_areas": null,
            "object_position": null,
            "object_fit": null,
            "grid_auto_columns": null,
            "margin": null,
            "display": null,
            "left": null
          }
        },
        "ed918eaed03a4d63950887fcaf77a7ea": {
          "model_module": "@jupyter-widgets/controls",
          "model_name": "SliderStyleModel",
          "state": {
            "_view_name": "StyleView",
            "handle_color": null,
            "_model_name": "SliderStyleModel",
            "description_width": "",
            "_view_module": "@jupyter-widgets/base",
            "_model_module_version": "1.5.0",
            "_view_count": null,
            "_view_module_version": "1.2.0",
            "_model_module": "@jupyter-widgets/controls"
          }
        },
        "d2a57e8ae7ac4db982c2e78580150204": {
          "model_module": "@jupyter-widgets/base",
          "model_name": "LayoutModel",
          "state": {
            "_view_name": "LayoutView",
            "grid_template_rows": null,
            "right": null,
            "justify_content": null,
            "_view_module": "@jupyter-widgets/base",
            "overflow": null,
            "_model_module_version": "1.2.0",
            "_view_count": null,
            "flex_flow": null,
            "width": null,
            "min_width": null,
            "border": null,
            "align_items": null,
            "bottom": null,
            "_model_module": "@jupyter-widgets/base",
            "top": null,
            "grid_column": null,
            "overflow_y": null,
            "overflow_x": null,
            "grid_auto_flow": null,
            "grid_area": null,
            "grid_template_columns": null,
            "flex": null,
            "_model_name": "LayoutModel",
            "justify_items": null,
            "grid_row": null,
            "max_height": null,
            "align_content": null,
            "visibility": null,
            "align_self": null,
            "height": null,
            "min_height": null,
            "padding": null,
            "grid_auto_rows": null,
            "grid_gap": null,
            "max_width": null,
            "order": null,
            "_view_module_version": "1.2.0",
            "grid_template_areas": null,
            "object_position": null,
            "object_fit": null,
            "grid_auto_columns": null,
            "margin": null,
            "display": null,
            "left": null
          }
        },
        "933ad20b85724780960bd97122252f9c": {
          "model_module": "@jupyter-widgets/controls",
          "model_name": "SliderStyleModel",
          "state": {
            "_view_name": "StyleView",
            "handle_color": null,
            "_model_name": "SliderStyleModel",
            "description_width": "",
            "_view_module": "@jupyter-widgets/base",
            "_model_module_version": "1.5.0",
            "_view_count": null,
            "_view_module_version": "1.2.0",
            "_model_module": "@jupyter-widgets/controls"
          }
        },
        "f96e3b92c8bb432bbf558ec13461d93a": {
          "model_module": "@jupyter-widgets/base",
          "model_name": "LayoutModel",
          "state": {
            "_view_name": "LayoutView",
            "grid_template_rows": null,
            "right": null,
            "justify_content": null,
            "_view_module": "@jupyter-widgets/base",
            "overflow": null,
            "_model_module_version": "1.2.0",
            "_view_count": null,
            "flex_flow": null,
            "width": null,
            "min_width": null,
            "border": null,
            "align_items": null,
            "bottom": null,
            "_model_module": "@jupyter-widgets/base",
            "top": null,
            "grid_column": null,
            "overflow_y": null,
            "overflow_x": null,
            "grid_auto_flow": null,
            "grid_area": null,
            "grid_template_columns": null,
            "flex": null,
            "_model_name": "LayoutModel",
            "justify_items": null,
            "grid_row": null,
            "max_height": null,
            "align_content": null,
            "visibility": null,
            "align_self": null,
            "height": null,
            "min_height": null,
            "padding": null,
            "grid_auto_rows": null,
            "grid_gap": null,
            "max_width": null,
            "order": null,
            "_view_module_version": "1.2.0",
            "grid_template_areas": null,
            "object_position": null,
            "object_fit": null,
            "grid_auto_columns": null,
            "margin": null,
            "display": null,
            "left": null
          }
        },
        "1185ba9ab02b40e6a4dadb547901c893": {
          "model_module": "@jupyter-widgets/controls",
          "model_name": "SliderStyleModel",
          "state": {
            "_view_name": "StyleView",
            "handle_color": null,
            "_model_name": "SliderStyleModel",
            "description_width": "",
            "_view_module": "@jupyter-widgets/base",
            "_model_module_version": "1.5.0",
            "_view_count": null,
            "_view_module_version": "1.2.0",
            "_model_module": "@jupyter-widgets/controls"
          }
        },
        "a3617590f5e642c5b917a9185b168e39": {
          "model_module": "@jupyter-widgets/base",
          "model_name": "LayoutModel",
          "state": {
            "_view_name": "LayoutView",
            "grid_template_rows": null,
            "right": null,
            "justify_content": null,
            "_view_module": "@jupyter-widgets/base",
            "overflow": null,
            "_model_module_version": "1.2.0",
            "_view_count": null,
            "flex_flow": null,
            "width": null,
            "min_width": null,
            "border": null,
            "align_items": null,
            "bottom": null,
            "_model_module": "@jupyter-widgets/base",
            "top": null,
            "grid_column": null,
            "overflow_y": null,
            "overflow_x": null,
            "grid_auto_flow": null,
            "grid_area": null,
            "grid_template_columns": null,
            "flex": null,
            "_model_name": "LayoutModel",
            "justify_items": null,
            "grid_row": null,
            "max_height": null,
            "align_content": null,
            "visibility": null,
            "align_self": null,
            "height": null,
            "min_height": null,
            "padding": null,
            "grid_auto_rows": null,
            "grid_gap": null,
            "max_width": null,
            "order": null,
            "_view_module_version": "1.2.0",
            "grid_template_areas": null,
            "object_position": null,
            "object_fit": null,
            "grid_auto_columns": null,
            "margin": null,
            "display": null,
            "left": null
          }
        },
        "74ee1f5566ae4e5e994990684c4e4fe3": {
          "model_module": "@jupyter-widgets/controls",
          "model_name": "SliderStyleModel",
          "state": {
            "_view_name": "StyleView",
            "handle_color": null,
            "_model_name": "SliderStyleModel",
            "description_width": "",
            "_view_module": "@jupyter-widgets/base",
            "_model_module_version": "1.5.0",
            "_view_count": null,
            "_view_module_version": "1.2.0",
            "_model_module": "@jupyter-widgets/controls"
          }
        },
        "c0af1e59d8ec4df79dee2ea90fc275e4": {
          "model_module": "@jupyter-widgets/base",
          "model_name": "LayoutModel",
          "state": {
            "_view_name": "LayoutView",
            "grid_template_rows": null,
            "right": null,
            "justify_content": null,
            "_view_module": "@jupyter-widgets/base",
            "overflow": null,
            "_model_module_version": "1.2.0",
            "_view_count": null,
            "flex_flow": null,
            "width": null,
            "min_width": null,
            "border": null,
            "align_items": null,
            "bottom": null,
            "_model_module": "@jupyter-widgets/base",
            "top": null,
            "grid_column": null,
            "overflow_y": null,
            "overflow_x": null,
            "grid_auto_flow": null,
            "grid_area": null,
            "grid_template_columns": null,
            "flex": null,
            "_model_name": "LayoutModel",
            "justify_items": null,
            "grid_row": null,
            "max_height": null,
            "align_content": null,
            "visibility": null,
            "align_self": null,
            "height": null,
            "min_height": null,
            "padding": null,
            "grid_auto_rows": null,
            "grid_gap": null,
            "max_width": null,
            "order": null,
            "_view_module_version": "1.2.0",
            "grid_template_areas": null,
            "object_position": null,
            "object_fit": null,
            "grid_auto_columns": null,
            "margin": null,
            "display": null,
            "left": null
          }
        },
        "b194a2fa00ca4e638f0fb8f971954c42": {
          "model_module": "@jupyter-widgets/controls",
          "model_name": "SliderStyleModel",
          "state": {
            "_view_name": "StyleView",
            "handle_color": null,
            "_model_name": "SliderStyleModel",
            "description_width": "",
            "_view_module": "@jupyter-widgets/base",
            "_model_module_version": "1.5.0",
            "_view_count": null,
            "_view_module_version": "1.2.0",
            "_model_module": "@jupyter-widgets/controls"
          }
        },
        "fd2709f37ec8422cb9e8eeee4b4d547b": {
          "model_module": "@jupyter-widgets/base",
          "model_name": "LayoutModel",
          "state": {
            "_view_name": "LayoutView",
            "grid_template_rows": null,
            "right": null,
            "justify_content": null,
            "_view_module": "@jupyter-widgets/base",
            "overflow": null,
            "_model_module_version": "1.2.0",
            "_view_count": null,
            "flex_flow": null,
            "width": null,
            "min_width": null,
            "border": null,
            "align_items": null,
            "bottom": null,
            "_model_module": "@jupyter-widgets/base",
            "top": null,
            "grid_column": null,
            "overflow_y": null,
            "overflow_x": null,
            "grid_auto_flow": null,
            "grid_area": null,
            "grid_template_columns": null,
            "flex": null,
            "_model_name": "LayoutModel",
            "justify_items": null,
            "grid_row": null,
            "max_height": null,
            "align_content": null,
            "visibility": null,
            "align_self": null,
            "height": null,
            "min_height": null,
            "padding": null,
            "grid_auto_rows": null,
            "grid_gap": null,
            "max_width": null,
            "order": null,
            "_view_module_version": "1.2.0",
            "grid_template_areas": null,
            "object_position": null,
            "object_fit": null,
            "grid_auto_columns": null,
            "margin": null,
            "display": null,
            "left": null
          }
        },
        "9778b1d9cb2548eb8ae3c571e3a1e097": {
          "model_module": "@jupyter-widgets/controls",
          "model_name": "SliderStyleModel",
          "state": {
            "_view_name": "StyleView",
            "handle_color": null,
            "_model_name": "SliderStyleModel",
            "description_width": "",
            "_view_module": "@jupyter-widgets/base",
            "_model_module_version": "1.5.0",
            "_view_count": null,
            "_view_module_version": "1.2.0",
            "_model_module": "@jupyter-widgets/controls"
          }
        },
        "8ff5c69acef84e17ae0c874e59472dd1": {
          "model_module": "@jupyter-widgets/base",
          "model_name": "LayoutModel",
          "state": {
            "_view_name": "LayoutView",
            "grid_template_rows": null,
            "right": null,
            "justify_content": null,
            "_view_module": "@jupyter-widgets/base",
            "overflow": null,
            "_model_module_version": "1.2.0",
            "_view_count": null,
            "flex_flow": null,
            "width": null,
            "min_width": null,
            "border": null,
            "align_items": null,
            "bottom": null,
            "_model_module": "@jupyter-widgets/base",
            "top": null,
            "grid_column": null,
            "overflow_y": null,
            "overflow_x": null,
            "grid_auto_flow": null,
            "grid_area": null,
            "grid_template_columns": null,
            "flex": null,
            "_model_name": "LayoutModel",
            "justify_items": null,
            "grid_row": null,
            "max_height": null,
            "align_content": null,
            "visibility": null,
            "align_self": null,
            "height": null,
            "min_height": null,
            "padding": null,
            "grid_auto_rows": null,
            "grid_gap": null,
            "max_width": null,
            "order": null,
            "_view_module_version": "1.2.0",
            "grid_template_areas": null,
            "object_position": null,
            "object_fit": null,
            "grid_auto_columns": null,
            "margin": null,
            "display": null,
            "left": null
          }
        },
        "d01003bc68224146a3605301fc1a73d4": {
          "model_module": "@jupyter-widgets/controls",
          "model_name": "SliderStyleModel",
          "state": {
            "_view_name": "StyleView",
            "handle_color": null,
            "_model_name": "SliderStyleModel",
            "description_width": "",
            "_view_module": "@jupyter-widgets/base",
            "_model_module_version": "1.5.0",
            "_view_count": null,
            "_view_module_version": "1.2.0",
            "_model_module": "@jupyter-widgets/controls"
          }
        },
        "97633a3d9b2044f5bafbdea2adb209f7": {
          "model_module": "@jupyter-widgets/base",
          "model_name": "LayoutModel",
          "state": {
            "_view_name": "LayoutView",
            "grid_template_rows": null,
            "right": null,
            "justify_content": null,
            "_view_module": "@jupyter-widgets/base",
            "overflow": null,
            "_model_module_version": "1.2.0",
            "_view_count": null,
            "flex_flow": null,
            "width": null,
            "min_width": null,
            "border": null,
            "align_items": null,
            "bottom": null,
            "_model_module": "@jupyter-widgets/base",
            "top": null,
            "grid_column": null,
            "overflow_y": null,
            "overflow_x": null,
            "grid_auto_flow": null,
            "grid_area": null,
            "grid_template_columns": null,
            "flex": null,
            "_model_name": "LayoutModel",
            "justify_items": null,
            "grid_row": null,
            "max_height": null,
            "align_content": null,
            "visibility": null,
            "align_self": null,
            "height": null,
            "min_height": null,
            "padding": null,
            "grid_auto_rows": null,
            "grid_gap": null,
            "max_width": null,
            "order": null,
            "_view_module_version": "1.2.0",
            "grid_template_areas": null,
            "object_position": null,
            "object_fit": null,
            "grid_auto_columns": null,
            "margin": null,
            "display": null,
            "left": null
          }
        },
        "cc04bd65de7c48d9bf8f31f02335c9b3": {
          "model_module": "@jupyter-widgets/controls",
          "model_name": "SliderStyleModel",
          "state": {
            "_view_name": "StyleView",
            "handle_color": null,
            "_model_name": "SliderStyleModel",
            "description_width": "",
            "_view_module": "@jupyter-widgets/base",
            "_model_module_version": "1.5.0",
            "_view_count": null,
            "_view_module_version": "1.2.0",
            "_model_module": "@jupyter-widgets/controls"
          }
        },
        "8836811d05a24d5d80c44ef318e2341a": {
          "model_module": "@jupyter-widgets/base",
          "model_name": "LayoutModel",
          "state": {
            "_view_name": "LayoutView",
            "grid_template_rows": null,
            "right": null,
            "justify_content": null,
            "_view_module": "@jupyter-widgets/base",
            "overflow": null,
            "_model_module_version": "1.2.0",
            "_view_count": null,
            "flex_flow": null,
            "width": null,
            "min_width": null,
            "border": null,
            "align_items": null,
            "bottom": null,
            "_model_module": "@jupyter-widgets/base",
            "top": null,
            "grid_column": null,
            "overflow_y": null,
            "overflow_x": null,
            "grid_auto_flow": null,
            "grid_area": null,
            "grid_template_columns": null,
            "flex": null,
            "_model_name": "LayoutModel",
            "justify_items": null,
            "grid_row": null,
            "max_height": null,
            "align_content": null,
            "visibility": null,
            "align_self": null,
            "height": null,
            "min_height": null,
            "padding": null,
            "grid_auto_rows": null,
            "grid_gap": null,
            "max_width": null,
            "order": null,
            "_view_module_version": "1.2.0",
            "grid_template_areas": null,
            "object_position": null,
            "object_fit": null,
            "grid_auto_columns": null,
            "margin": null,
            "display": null,
            "left": null
          }
        },
        "a0c92b8f0ec14d90b5f15e1719272233": {
          "model_module": "@jupyter-widgets/controls",
          "model_name": "SliderStyleModel",
          "state": {
            "_view_name": "StyleView",
            "handle_color": null,
            "_model_name": "SliderStyleModel",
            "description_width": "",
            "_view_module": "@jupyter-widgets/base",
            "_model_module_version": "1.5.0",
            "_view_count": null,
            "_view_module_version": "1.2.0",
            "_model_module": "@jupyter-widgets/controls"
          }
        },
        "557c961490e440e8b7fdc47f88360f84": {
          "model_module": "@jupyter-widgets/base",
          "model_name": "LayoutModel",
          "state": {
            "_view_name": "LayoutView",
            "grid_template_rows": null,
            "right": null,
            "justify_content": null,
            "_view_module": "@jupyter-widgets/base",
            "overflow": null,
            "_model_module_version": "1.2.0",
            "_view_count": null,
            "flex_flow": null,
            "width": null,
            "min_width": null,
            "border": null,
            "align_items": null,
            "bottom": null,
            "_model_module": "@jupyter-widgets/base",
            "top": null,
            "grid_column": null,
            "overflow_y": null,
            "overflow_x": null,
            "grid_auto_flow": null,
            "grid_area": null,
            "grid_template_columns": null,
            "flex": null,
            "_model_name": "LayoutModel",
            "justify_items": null,
            "grid_row": null,
            "max_height": null,
            "align_content": null,
            "visibility": null,
            "align_self": null,
            "height": null,
            "min_height": null,
            "padding": null,
            "grid_auto_rows": null,
            "grid_gap": null,
            "max_width": null,
            "order": null,
            "_view_module_version": "1.2.0",
            "grid_template_areas": null,
            "object_position": null,
            "object_fit": null,
            "grid_auto_columns": null,
            "margin": null,
            "display": null,
            "left": null
          }
        },
        "a222b16d38b64c4c9e4ecf578cad8730": {
          "model_module": "@jupyter-widgets/output",
          "model_name": "OutputModel",
          "state": {
            "_view_name": "OutputView",
            "msg_id": "",
            "_dom_classes": [],
            "_model_name": "OutputModel",
            "outputs": [
              {
                "output_type": "stream",
                "metadata": {
                  "tags": []
                },
                "text": "[[0. 0. 0. 0. 0. 0. 0. 0. 0. 0.]]\n",
                "stream": "stdout"
              },
              {
                "output_type": "display_data",
                "metadata": {
                  "tags": [],
                  "needs_background": "light"
                },
                "image/png": "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\n",
                "text/plain": "<Figure size 432x288 with 1 Axes>"
              }
            ],
            "_view_module": "@jupyter-widgets/output",
            "_model_module_version": "1.0.0",
            "_view_count": null,
            "_view_module_version": "1.0.0",
            "layout": "IPY_MODEL_52200dd2dc554a2aaf73d43f8862255e",
            "_model_module": "@jupyter-widgets/output"
          }
        },
        "52200dd2dc554a2aaf73d43f8862255e": {
          "model_module": "@jupyter-widgets/base",
          "model_name": "LayoutModel",
          "state": {
            "_view_name": "LayoutView",
            "grid_template_rows": null,
            "right": null,
            "justify_content": null,
            "_view_module": "@jupyter-widgets/base",
            "overflow": null,
            "_model_module_version": "1.2.0",
            "_view_count": null,
            "flex_flow": null,
            "width": null,
            "min_width": null,
            "border": null,
            "align_items": null,
            "bottom": null,
            "_model_module": "@jupyter-widgets/base",
            "top": null,
            "grid_column": null,
            "overflow_y": null,
            "overflow_x": null,
            "grid_auto_flow": null,
            "grid_area": null,
            "grid_template_columns": null,
            "flex": null,
            "_model_name": "LayoutModel",
            "justify_items": null,
            "grid_row": null,
            "max_height": null,
            "align_content": null,
            "visibility": null,
            "align_self": null,
            "height": null,
            "min_height": null,
            "padding": null,
            "grid_auto_rows": null,
            "grid_gap": null,
            "max_width": null,
            "order": null,
            "_view_module_version": "1.2.0",
            "grid_template_areas": null,
            "object_position": null,
            "object_fit": null,
            "grid_auto_columns": null,
            "margin": null,
            "display": null,
            "left": null
          }
        },
        "a516546121f8401388ae87b7aee4f100": {
          "model_module": "@jupyter-widgets/controls",
          "model_name": "VBoxModel",
          "state": {
            "_view_name": "VBoxView",
            "_dom_classes": [
              "widget-interact"
            ],
            "_model_name": "VBoxModel",
            "_view_module": "@jupyter-widgets/controls",
            "_model_module_version": "1.5.0",
            "_view_count": null,
            "_view_module_version": "1.5.0",
            "box_style": "",
            "layout": "IPY_MODEL_f29aaee6e9d042fc8ae383b505d91701",
            "_model_module": "@jupyter-widgets/controls",
            "children": [
              "IPY_MODEL_d1be6f75f9a64865bfe3d8aad51e6796",
              "IPY_MODEL_9c92318fff7742e2a6845402c5eefba3"
            ]
          }
        },
        "f29aaee6e9d042fc8ae383b505d91701": {
          "model_module": "@jupyter-widgets/base",
          "model_name": "LayoutModel",
          "state": {
            "_view_name": "LayoutView",
            "grid_template_rows": null,
            "right": null,
            "justify_content": null,
            "_view_module": "@jupyter-widgets/base",
            "overflow": null,
            "_model_module_version": "1.2.0",
            "_view_count": null,
            "flex_flow": null,
            "width": null,
            "min_width": null,
            "border": null,
            "align_items": null,
            "bottom": null,
            "_model_module": "@jupyter-widgets/base",
            "top": null,
            "grid_column": null,
            "overflow_y": null,
            "overflow_x": null,
            "grid_auto_flow": null,
            "grid_area": null,
            "grid_template_columns": null,
            "flex": null,
            "_model_name": "LayoutModel",
            "justify_items": null,
            "grid_row": null,
            "max_height": null,
            "align_content": null,
            "visibility": null,
            "align_self": null,
            "height": null,
            "min_height": null,
            "padding": null,
            "grid_auto_rows": null,
            "grid_gap": null,
            "max_width": null,
            "order": null,
            "_view_module_version": "1.2.0",
            "grid_template_areas": null,
            "object_position": null,
            "object_fit": null,
            "grid_auto_columns": null,
            "margin": null,
            "display": null,
            "left": null
          }
        },
        "d1be6f75f9a64865bfe3d8aad51e6796": {
          "model_module": "@jupyter-widgets/controls",
          "model_name": "IntSliderModel",
          "state": {
            "_view_name": "IntSliderView",
            "style": "IPY_MODEL_6d835677a41a459fa2df0999d8f084e3",
            "_dom_classes": [],
            "description": "idx",
            "step": 1,
            "_model_name": "IntSliderModel",
            "orientation": "horizontal",
            "max": 59999,
            "_view_module": "@jupyter-widgets/controls",
            "_model_module_version": "1.5.0",
            "value": 0,
            "_view_count": null,
            "disabled": false,
            "_view_module_version": "1.5.0",
            "min": 0,
            "continuous_update": false,
            "readout_format": "d",
            "description_tooltip": null,
            "readout": true,
            "_model_module": "@jupyter-widgets/controls",
            "layout": "IPY_MODEL_fa7dfac0eaf642a1a0ea722d9152e2c5"
          }
        },
        "9c92318fff7742e2a6845402c5eefba3": {
          "model_module": "@jupyter-widgets/output",
          "model_name": "OutputModel",
          "state": {
            "_view_name": "OutputView",
            "msg_id": "",
            "_dom_classes": [],
            "_model_name": "OutputModel",
            "outputs": [
              {
                "output_type": "stream",
                "metadata": {
                  "tags": []
                },
                "text": "GT label: 5\n",
                "stream": "stdout"
              },
              {
                "output_type": "display_data",
                "metadata": {
                  "tags": [],
                  "needs_background": "light"
                },
                "image/png": "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\n",
                "text/plain": "<Figure size 432x288 with 2 Axes>"
              }
            ],
            "_view_module": "@jupyter-widgets/output",
            "_model_module_version": "1.0.0",
            "_view_count": null,
            "_view_module_version": "1.0.0",
            "layout": "IPY_MODEL_b0a9208d31314423890c64a948ff013d",
            "_model_module": "@jupyter-widgets/output"
          }
        },
        "6d835677a41a459fa2df0999d8f084e3": {
          "model_module": "@jupyter-widgets/controls",
          "model_name": "SliderStyleModel",
          "state": {
            "_view_name": "StyleView",
            "handle_color": null,
            "_model_name": "SliderStyleModel",
            "description_width": "",
            "_view_module": "@jupyter-widgets/base",
            "_model_module_version": "1.5.0",
            "_view_count": null,
            "_view_module_version": "1.2.0",
            "_model_module": "@jupyter-widgets/controls"
          }
        },
        "fa7dfac0eaf642a1a0ea722d9152e2c5": {
          "model_module": "@jupyter-widgets/base",
          "model_name": "LayoutModel",
          "state": {
            "_view_name": "LayoutView",
            "grid_template_rows": null,
            "right": null,
            "justify_content": null,
            "_view_module": "@jupyter-widgets/base",
            "overflow": null,
            "_model_module_version": "1.2.0",
            "_view_count": null,
            "flex_flow": null,
            "width": null,
            "min_width": null,
            "border": null,
            "align_items": null,
            "bottom": null,
            "_model_module": "@jupyter-widgets/base",
            "top": null,
            "grid_column": null,
            "overflow_y": null,
            "overflow_x": null,
            "grid_auto_flow": null,
            "grid_area": null,
            "grid_template_columns": null,
            "flex": null,
            "_model_name": "LayoutModel",
            "justify_items": null,
            "grid_row": null,
            "max_height": null,
            "align_content": null,
            "visibility": null,
            "align_self": null,
            "height": null,
            "min_height": null,
            "padding": null,
            "grid_auto_rows": null,
            "grid_gap": null,
            "max_width": null,
            "order": null,
            "_view_module_version": "1.2.0",
            "grid_template_areas": null,
            "object_position": null,
            "object_fit": null,
            "grid_auto_columns": null,
            "margin": null,
            "display": null,
            "left": null
          }
        },
        "b0a9208d31314423890c64a948ff013d": {
          "model_module": "@jupyter-widgets/base",
          "model_name": "LayoutModel",
          "state": {
            "_view_name": "LayoutView",
            "grid_template_rows": null,
            "right": null,
            "justify_content": null,
            "_view_module": "@jupyter-widgets/base",
            "overflow": null,
            "_model_module_version": "1.2.0",
            "_view_count": null,
            "flex_flow": null,
            "width": null,
            "min_width": null,
            "border": null,
            "align_items": null,
            "bottom": null,
            "_model_module": "@jupyter-widgets/base",
            "top": null,
            "grid_column": null,
            "overflow_y": null,
            "overflow_x": null,
            "grid_auto_flow": null,
            "grid_area": null,
            "grid_template_columns": null,
            "flex": null,
            "_model_name": "LayoutModel",
            "justify_items": null,
            "grid_row": null,
            "max_height": null,
            "align_content": null,
            "visibility": null,
            "align_self": null,
            "height": null,
            "min_height": null,
            "padding": null,
            "grid_auto_rows": null,
            "grid_gap": null,
            "max_width": null,
            "order": null,
            "_view_module_version": "1.2.0",
            "grid_template_areas": null,
            "object_position": null,
            "object_fit": null,
            "grid_auto_columns": null,
            "margin": null,
            "display": null,
            "left": null
          }
        },
        "e0108c5b29fd4872b60b41ded9ec9a7f": {
          "model_module": "@jupyter-widgets/controls",
          "model_name": "VBoxModel",
          "state": {
            "_view_name": "VBoxView",
            "_dom_classes": [
              "widget-interact"
            ],
            "_model_name": "VBoxModel",
            "_view_module": "@jupyter-widgets/controls",
            "_model_module_version": "1.5.0",
            "_view_count": null,
            "_view_module_version": "1.5.0",
            "box_style": "",
            "layout": "IPY_MODEL_e1d069da875d407aa1d3c1c9e253a356",
            "_model_module": "@jupyter-widgets/controls",
            "children": [
              "IPY_MODEL_28a712ec5bf34f1b9db82d492e706cd5",
              "IPY_MODEL_c48109bb3d7f4ec5823cc171cb440b83"
            ]
          }
        },
        "e1d069da875d407aa1d3c1c9e253a356": {
          "model_module": "@jupyter-widgets/base",
          "model_name": "LayoutModel",
          "state": {
            "_view_name": "LayoutView",
            "grid_template_rows": null,
            "right": null,
            "justify_content": null,
            "_view_module": "@jupyter-widgets/base",
            "overflow": null,
            "_model_module_version": "1.2.0",
            "_view_count": null,
            "flex_flow": null,
            "width": null,
            "min_width": null,
            "border": null,
            "align_items": null,
            "bottom": null,
            "_model_module": "@jupyter-widgets/base",
            "top": null,
            "grid_column": null,
            "overflow_y": null,
            "overflow_x": null,
            "grid_auto_flow": null,
            "grid_area": null,
            "grid_template_columns": null,
            "flex": null,
            "_model_name": "LayoutModel",
            "justify_items": null,
            "grid_row": null,
            "max_height": null,
            "align_content": null,
            "visibility": null,
            "align_self": null,
            "height": null,
            "min_height": null,
            "padding": null,
            "grid_auto_rows": null,
            "grid_gap": null,
            "max_width": null,
            "order": null,
            "_view_module_version": "1.2.0",
            "grid_template_areas": null,
            "object_position": null,
            "object_fit": null,
            "grid_auto_columns": null,
            "margin": null,
            "display": null,
            "left": null
          }
        },
        "28a712ec5bf34f1b9db82d492e706cd5": {
          "model_module": "@jupyter-widgets/controls",
          "model_name": "IntSliderModel",
          "state": {
            "_view_name": "IntSliderView",
            "style": "IPY_MODEL_f3830df6151a4e52b8049148c8a85c8f",
            "_dom_classes": [],
            "description": "idx",
            "step": 1,
            "_model_name": "IntSliderModel",
            "orientation": "horizontal",
            "max": 59999,
            "_view_module": "@jupyter-widgets/controls",
            "_model_module_version": "1.5.0",
            "value": 0,
            "_view_count": null,
            "disabled": false,
            "_view_module_version": "1.5.0",
            "min": 0,
            "continuous_update": false,
            "readout_format": "d",
            "description_tooltip": null,
            "readout": true,
            "_model_module": "@jupyter-widgets/controls",
            "layout": "IPY_MODEL_4960b97cb9094100b19935b5c4bd2e29"
          }
        },
        "c48109bb3d7f4ec5823cc171cb440b83": {
          "model_module": "@jupyter-widgets/output",
          "model_name": "OutputModel",
          "state": {
            "_view_name": "OutputView",
            "msg_id": "",
            "_dom_classes": [],
            "_model_name": "OutputModel",
            "outputs": [
              {
                "output_type": "stream",
                "metadata": {
                  "tags": []
                },
                "text": "GT label: 5\n",
                "stream": "stdout"
              },
              {
                "output_type": "display_data",
                "metadata": {
                  "tags": [],
                  "needs_background": "light"
                },
                "image/png": "iVBORw0KGgoAAAANSUhEUgAAAXAAAAC4CAYAAAD61bdSAAAABHNCSVQICAgIfAhkiAAAAAlwSFlzAAALEgAACxIB0t1+/AAAADh0RVh0U29mdHdhcmUAbWF0cGxvdGxpYiB2ZXJzaW9uMy4yLjEsIGh0dHA6Ly9tYXRwbG90bGliLm9yZy+j8jraAAAW4ElEQVR4nO3de3DdZZkH8O9zLrk2aRuSxlACLbXIpa7FjViUQRyVrY47wOzKZR2Xdd2tq3aVXXZXZHbWy+gMzii7iCwzZamtM4igonQd1st0XBGpXQoWFEoBS6GXNG2SJs395Jzz7B85ZQLP8yMnOdf39PuZ6TR58p5z3l/y5umv533e9xVVBRERhSdW6Q4QEdHCMIETEQWKCZyIKFBM4EREgWICJyIKFBM4EVGgCkrgIrJeRPaKyAsiclOxOkVUaRzbFAJZaB24iMQBPAfgfQAOAngMwHWq+kzUY+qkXhvQvKDXI5rLJMaQ0ikp9HkWNLZjjdqYaCn0pYlcE+kRpLITZmwnCnjOiwC8oKr7AEBEvgvgCgCRg7wBzXi7vKeAlySKtlO3F+up5j22GxMteEf71cV6faJXebT/fjdeyFsoywEcmPX5wVzsVURkg4jsEpFd05gq4OWIymbeYzuVnShb54hOKvkkpqpuUtUeVe1Jor7UL0dUNrPHdl2ssdLdoVNQIQn8EIDuWZ+fkYsRhY5jm4JQSAJ/DMBqEVkpInUArgWwrTjdIqoojm0KwoInMVU1LSIbAfwUQBzAZlV9umg9I6oQjm0KRSFVKFDVhwA8VKS+EFUNjm0KAVdiEhEFigmciChQBb2FQkRUKZpO22Bq2m8cswt0paGhyD0qP96BExEFigmciChQTOBERIFiAiciChQnMYlo/hr8fY20vs4J2i2rJZ3xH+9MNiIed9vKVMo+fnjEbQvN+nH3iZ0+LHDb7VLjHTgRUaCYwImIAsUETkQUKCZwIqJAMYETEQWKVShEtcyrqACAhP3V15Ymt2lmka04merwl6FPtNnnnV5k22lEv7JOcYs4K+YBoG7EVoY0H/EbJ4dtxUp83MYAQFL2OWQqYom+t3Q/41fYlKKShXfgRESBYgInIgoUEzgRUaCYwImIAlXQJKaI7AcwAiADIK2qPcXoVK0TZwIp3tFe0HPu/acVbjzTZJcQn7XqqNu26ZN2YunIrc7SaABP9NxnYv2ZMbft2793o4m98R9/47atFlU9tr3l6gA06fw6ezEAmRY7CTm6otltO7rc3ueNnhmxNL190oSWtZ8wsY4mf6x0NQ6b2KHxJW7bFwfaTGzg5Ra3bfNBe23Nhxvdtg3H7SRkff+E2zY2Yq9XovYkn3YmWAuc8CxGFcq7VbW/CM9DVG04tqmq8S0UIqJAFZrAFcDPRORxEdlQjA4RVQmObap6hb6FcomqHhKRZQB+LiLPqurDsxvkBv8GAGiAv1CAqArNb2zHndUqRCVW0B24qh7K/X0UwA8BXOS02aSqParak4S/hzBRtZnv2K6L+RNiRKW04DtwEWkGEFPVkdzHlwP4UtF6VgXi5602Ma1Pum0Pv8vOlE+s82fa2xbb+K/eYqs6SuV/xv2Z+q9+c72J7Xzzd9y2L07bWflb+t7ntj39V9W5GX6Uqh/bsYj7LqfiJLPY/4dl/HQbHzzPf97pc+zP+oIzet22a1oPm9ilLXtN7KzEcffxp8XtWHl0stNtu2PxG03syaXL3bbPdywzsXSj/73JHHBOsE/7N59J5wCK+Kj/fXQ3D4iqNomqTnmNQt5C6QTwQ5nZ0yAB4Duq+pMCno+oWnBsUxAWnMBVdR+AtxSxL0RVgWObQsEyQiKiQDGBExEFivuBA8hc9lY3fuuWO0zsnKS/jLlaTaudDPm32//KbZsYsxMqF39vo9u25ZBdFhy13Lhp187X6SG9LudEdk34p7Rnm+zYnGrzJ98mltp7t+lWf3l8yyL7c82qv59379RiE9sRs5ONj6h/7+g971TWT1ND07YsuSnh7/Hd1DxlYqkGf09zr2sSsXOAJmxjTfo/H5l0vmfZiCfOE+/AiYgCxQRORBQoJnAiokAxgRMRBYoJnIgoUKxCAVC/1y7/BYDHJ7tN7JxkX6m784obe9e58X2j9vCHLau+77YdztrKks5vPFpYxyKEtWA+EF7FSdRJ8058utm/R8s0OMvFI1ZvDw/bao+xCb8a69msXfaenXa2pBiLSD31tiqjealf3bSowVaWRFXHjJ2wFSfNJ/y29SP2G5EY9atbYinbVsbsIQ8A/AMdCjypnnfgRESBYgInIgoUEzgRUaCYwImIAsVJTADp3iNu/PavfsjEvrLe3+M7/pQ9keXJT96edx++3P9HJvbCe/0TjDJDdi/mv7j4k27b/Z+2sZV4Mu9+URWaxyRmYtKfJEuM23hi1H/ezHE7YZnJ+JOYdSfsPWHC+ZVJjLsPR6rVxsbOitinfKmd4J2e8PfrTxy2/a0f9L839cftZGN82J9IdU+g9yYrgbz3+J4P3oETEQWKCZyIKFBM4EREgWICJyIKFBM4EVGg5qxCEZHNAD4I4KiqrsnF2gDcB2AFgP0ArlZV/5jpgLV9a4eJdfz3aW7bzMCgiV2w5q/dtk9futnEtm16l4ktG8p/ybvs8CtLVtpLoJwgxrazFYJb+QAgPmCrHxrifmVJqsVWOCW8AwcA4Li9z8s6p8cDQNwp1og53Y04z8E9ul1SEdcwZitLYif8lNZ0xD5H0zG/WiQ5ZJfCR33PMWmX8xe6PH4+8rkD3wJg/WtiNwHYrqqrAWzPfU4Umi3g2KaAzZnAVfVhAK+9vbwCwNbcx1sBXFnkfhGVHMc2hW6hC3k6VfXkapIjAOwWZDkisgHABgBogL8whaiKLGxsx+1CLqJSK3gSU1UVr7OTqKpuUtUeVe1Jwj9glagazWds18Uay9gzohkLvQPvE5EuVe0VkS4AR4vZqWqW6R/Iu+30ifxPsL/gw8+Y2LE7/dOtkS3+klx6RXWN7Wln8izqJPM6u4xc0n7beMr+uxTzt7yGNttYqt0fgym7Vb07MRn1z6I024nFRF3E0nRHZshPaclR+4IN/f4FxwdHbTBqErOME5aehd6BbwNwfe7j6wE8WJzuEFUcxzYFY84ELiL3AtgB4E0iclBEPgbgFgDvE5HnAbw39zlRUDi2KXRzvoWiqtdFfOk9Re4LUVlxbFPouBKTiChQTOBERIHigQ4ldN5nn3PjH32z/R/6t87abmLv+tCn3Me33PebwjpGYYs40EGdKpR0i18JlUna50hHLNOY6rbVGhecfcht25SwbVsSdrl5sxMDgOX1QyZ2YLLNbbt7YLmJHT7ql3MmnCX+iSH/kIZKL4+fD96BExEFigmciChQTOBERIFiAiciChQnMUsoMzTsxgc+cZ6JvbzNTqjc9OVvu4//3NVXmZj+drHbtvsrzobgVTohQ4XRpP111pg/4Zkct0vsJevfzzW22v2x17W96LbtStpJyKTYpfB14i/FXxK3x9Uv9Y61B9Cfsmv8DzX5E57ZpJ3g1Yi90iXmfB9KcKJ8MfAOnIgoUEzgRESBYgInIgoUEzgRUaA4iVkB2Sf3mNi1X/xnE7vn819zH797nTO5uc5/rQuaN5rY6rt6nZZAet9+/0mouqT9/bFj43ayMeEc/AsA6Ua717xEbDOeStk08dQJuwoSAMab7evVx2x/kxGTmMMZu5JyImMnIAEg4XS4uc1fXTm+zPartbXBbVs37EyachKTiIiKiQmciChQTOBERIFiAiciChQTOBFRoOasQhGRzQA+COCoqq7Jxb4A4G8BHMs1u1lVHypVJ08FbZvtkveNe/39wFtvOWhi9579U7ft03/5TRM7t/tv3LZv+qL99zzz/D63bS2oubHtVErEJv2KleSYs7x9yFamAMDkQVsZ8njmTLftnkWdJtbaaKtjohwftZuSx+N+ecwFy46Y2NtOf9lt+7+r7PYV4y/7VSjJARuXdEQVSoWrU/K5A98CYL0T/3dVXZv7E8YAJ3q1LeDYpoDNmcBV9WEAg2XoC1FZcWxT6Ap5D3yjiDwlIptFZGlUIxHZICK7RGTXNPxjlIiqzLzHdiobcTwXUQktNIHfCWAVgLUAegF8Paqhqm5S1R5V7UmifoEvR1Q2CxrbdTH/LEaiUlrQUnpV7Tv5sYjcBeDHResRvUJ+vduNj//5MhN72zV/77bd+dnbTOzZd/+X2/bDKy43seFLXq+HtSfosZ21+7zLhD1kGABijXZ5enLM3ye+ftDe56XS/gTglNj40bjdq97ZIhwAEJ+ye3SPdfgThS2nv2Rif9r2W7ftH85uN7ETe7r8533RXkN80v8+Iu3cA2cj9iTw4gXuzb+gO3ARmX3lVwH4fUG9IKoSHNsUknzKCO8FcBmAdhE5CODzAC4TkbUAFMB+AB8vYR+JSoJjm0I3ZwJX1euc8N0l6AtRWXFsU+i4EpOIKFBM4EREgeKBDgHK9B01sc5v2BgATP6Lne5vEn+T/7tW2IKLD151g9u26Yc7X6+LVAneCfQRVQ7ixOMpv23CHhSPWMo/0b1+yD5H3YitvkiO+5UaKvZ5j13opynvoIi31vu/Bxcve9HEftT5BrftZLutQmmcmHbbyqRd2yJTftvI6pQC8A6ciChQTOBERIFiAiciChQTOBFRoDiJWcWyl6x143/4kJ1kWbN2v9s2asLSc/vghfbxD+7K+/FUfbTR//mPd9m9WyaX5n8/lxz1Jzybjtll742H7SnvsRF/j/B0+yITyyb8NNWasBuIDWf9Pc3H0nYfJo243HST/UK2yW49AADxlDNhGbU8vsBl8x7egRMRBYoJnIgoUEzgRESBYgInIgoUEzgRUaBYhVIB0rPGxJ77tK0WuOudW93HX9oQsbl8nqbUX+r7m8GVNpjtLei1qATifqUFYvZ+LL3EP3hhvMO2nWrzl8eLc56CUwAywym0yNbbNJNZ1Oo+fKTbVotMdfinP8TEvtivJ1a5bXcPLDex+KR/vV51ikz7y+DFq0Ip40n1vAMnIgoUEzgRUaCYwImIAsUETkQUqHzOxOwG8G0AnZiZotikqreJSBuA+wCswMzZgVer6vHSdbW6JVaeZWJ/+OjpbtsvXPNdE/uzRf1F7xMA3NzXY2K/vG2d23bp1h0l6UO1CnZsJ/xJzMwSuwx9osNfSj/RYSfwJrojjopP2gm8yWP+0vJ0o00psTNsf1NL/AnE8W47Adi96pjb9sz6ARM7lFrqtj3ct8TElh7xl7Y39tuJydiYv/Qf0xHfszLJ5w48DeBGVT0fwDoAnxKR8wHcBGC7qq4GsD33OVFIOLYpaHMmcFXtVdUnch+PANgDYDmAKwCcrHPbCuDKUnWSqBQ4til086oDF5EVAC4EsBNAp6qeLBI+gpn/hnqP2QBgAwA0oGmh/SQqqYLHdty+fUFUanlPYorIIgA/AHCDqp6Y/TVVVbgl/ICqblLVHlXtScIW6RNVWjHGdl3Mbs9KVGp5JXARSWJmgN+jqg/kwn0i0pX7ehcA/zRRoirGsU0hy6cKRQDcDWCPqt4660vbAFwP4Jbc3w+WpIcVlFhxpokN/3GX2/aaL/3ExP5uyQNOy8Ld2GurSHb8p602AYC2Lf9nYkuzp1a1SZQgxrazbF7r/cqSVIf9X8BUq3+Plmmy/6no6PYLbXqWHTCxl8f8ao9Dw4tNLJGwlSUrWobcx5/fesTE1jQedNseS9vl+D87fK7btn6f3VKg5aC/pURd36iJyYQ9fR5ASU6an4983gN/J4CPAPidiOzOxW7GzOC+X0Q+BuAlAFeXpotEJcOxTUGbM4Gr6iMA/KJN4D3F7Q5R+XBsU+i4EpOIKFBM4EREgTrl9gNPdL3BxAY3N7ttP7HylyZ2XUtf0fsEABsPXWJiT9zpn0rf/v3fm1jbCCcmTxkRp5vHUs6EWsRB6Olm+4V1nfvdtp9b9gsT60r4de/jWbtX/bATi3IgY0uNn53yCwe+87KduB98fJnbtvNJu+S96flBt62MOZudl3GP7/ngHTgRUaCYwImIAsUETkQUKCZwIqJAMYETEQWqJqpQUn9iZ6NT/+DPMN/8xodM7PLGsaL3CQD6Mv7R3Zduu9HEzv3XZ02sbcivLKns4l2qOPHXHsXH7dLwxkH/V7yhz8a3v3SO27Yxbp/3/a1PuW074rZa40D6NBN7YnyF+/hHBuyp8vuO2ccDQPy3LSa2/DF/yXvDfpsPIpfHV2nFiYd34EREgWICJyIKFBM4EVGgmMCJiAJVE5OY+6+0/w499+bvFfy8dwzZCZXbfnm521YydmLp3C+/6LZd3bfTxMKZNqGycibUJOXvYx0fGjex+jr/BPu2vXa8jg/Y/bUB4MenvcPEHlh8sds2W2+X6Mcn7WvFUv5E7KKD9vHtx/1p++aDdt/uRN+w2xYTEafKB4534EREgWICJyIKFBM4EVGgmMCJiAI1ZwIXkW4R+YWIPCMiT4vIZ3LxL4jIIRHZnfvzgdJ3l6h4OLYpdKIRm8O/0kCkC0CXqj4hIi0AHgdwJWYOeh1V1a/l+2Kt0qZvFx41SKWxU7fjhA5GnXFpFHNsL65bpu9oL9PZx432hHUA0Li9H5Npe5ABAMCrZInKBc7racKvbpGMd6iEfV5tqPMfP2q3n9CUfyCERGwpUIse7b8fw6mj5oLzOdS4F0Bv7uMREdkDYHnxu0hUXhzbFLp5vQcuIisAXAjgZCHzRhF5SkQ2i8jSiMdsEJFdIrJrGhGbxxBVWKFjO5X1Ny4jKqW8E7iILALwAwA3qOoJAHcCWAVgLWbuYr7uPU5VN6lqj6r2JGHPuyOqtGKM7bpYY9n6S3RSXglcRJKYGeD3qOoDAKCqfaqaUdUsgLsAXFS6bhKVBsc2hWzO98BlZqbgbgB7VPXWWfGu3HuIAHAVAHtUOlEVC3ZsRywLL9mUnvN62f4Bt6mm7aRprKnJxlrtXt5RTqXJyvnKZy+UdwL4CIDficjuXOxmANeJyFoACmA/gI+XpIdEpcOxTUHLpwrlEfj/uNujbYgCwrFNoeNKTCKiQDGBExEFigmciChQNXGgAxGVV7zdPymeyot34EREgWICJyIKFBM4EVGgmMCJiAI1537gRX0xkWMAXsp92g6gv2wvXj68rso5S1U7KvHCs8Z2CN+nharVawvhutyxXdYE/qoXFtmlqj0VefES4nWd2mr5+1Sr1xbydfEtFCKiQDGBExEFqpIJfFMFX7uUeF2ntlr+PtXqtQV7XRV7D5yIiArDt1CIiALFBE5EFKiyJ3ARWS8ie0XkBRG5qdyvX0y5E8uPisjvZ8XaROTnIvJ87m/3RPNqJiLdIvILEXlGRJ4Wkc/k4sFfWynVytjmuA7n2sqawEUkDuAOAO8HcD5mjq46v5x9KLItANa/JnYTgO2quhrA9tznoUkDuFFVzwewDsCncj+nWri2kqixsb0FHNdBKPcd+EUAXlDVfaqaAvBdAFeUuQ9Fo6oPAxh8TfgKAFtzH28FcGVZO1UEqtqrqk/kPh4BsAfActTAtZVQzYxtjutwrq3cCXw5gAOzPj+Yi9WSzlknmh8B0FnJzhRKRFYAuBDATtTYtRVZrY/tmvrZ18q45iRmCelMjWawdZoisgjADwDcoKonZn8t9GujhQv9Z19L47rcCfwQgO5Zn5+Ri9WSPhHpAoDc30cr3J8FEZEkZgb5Par6QC5cE9dWIrU+tmviZ19r47rcCfwxAKtFZKWI1AG4FsC2Mveh1LYBuD738fUAHqxgXxZERATA3QD2qOqts74U/LWVUK2P7eB/9rU4rsu+ElNEPgDgPwDEAWxW1a+UtQNFJCL3ArgMM9tR9gH4PIAfAbgfwJmY2V70alV97YRQVRORSwD8CsDvAGRz4Zsx835h0NdWSrUytjmuw7k2LqUnIgoUJzGJiALFBE5EFCgmcCKiQDGBExEFigmciChQTOBERIFiAiciCtT/A4mlDGDOFV6wAAAAAElFTkSuQmCC\n",
                "text/plain": "<Figure size 432x288 with 2 Axes>"
              }
            ],
            "_view_module": "@jupyter-widgets/output",
            "_model_module_version": "1.0.0",
            "_view_count": null,
            "_view_module_version": "1.0.0",
            "layout": "IPY_MODEL_5f5515752c474459bb8ffffa2523421a",
            "_model_module": "@jupyter-widgets/output"
          }
        },
        "f3830df6151a4e52b8049148c8a85c8f": {
          "model_module": "@jupyter-widgets/controls",
          "model_name": "SliderStyleModel",
          "state": {
            "_view_name": "StyleView",
            "handle_color": null,
            "_model_name": "SliderStyleModel",
            "description_width": "",
            "_view_module": "@jupyter-widgets/base",
            "_model_module_version": "1.5.0",
            "_view_count": null,
            "_view_module_version": "1.2.0",
            "_model_module": "@jupyter-widgets/controls"
          }
        },
        "4960b97cb9094100b19935b5c4bd2e29": {
          "model_module": "@jupyter-widgets/base",
          "model_name": "LayoutModel",
          "state": {
            "_view_name": "LayoutView",
            "grid_template_rows": null,
            "right": null,
            "justify_content": null,
            "_view_module": "@jupyter-widgets/base",
            "overflow": null,
            "_model_module_version": "1.2.0",
            "_view_count": null,
            "flex_flow": null,
            "width": null,
            "min_width": null,
            "border": null,
            "align_items": null,
            "bottom": null,
            "_model_module": "@jupyter-widgets/base",
            "top": null,
            "grid_column": null,
            "overflow_y": null,
            "overflow_x": null,
            "grid_auto_flow": null,
            "grid_area": null,
            "grid_template_columns": null,
            "flex": null,
            "_model_name": "LayoutModel",
            "justify_items": null,
            "grid_row": null,
            "max_height": null,
            "align_content": null,
            "visibility": null,
            "align_self": null,
            "height": null,
            "min_height": null,
            "padding": null,
            "grid_auto_rows": null,
            "grid_gap": null,
            "max_width": null,
            "order": null,
            "_view_module_version": "1.2.0",
            "grid_template_areas": null,
            "object_position": null,
            "object_fit": null,
            "grid_auto_columns": null,
            "margin": null,
            "display": null,
            "left": null
          }
        },
        "5f5515752c474459bb8ffffa2523421a": {
          "model_module": "@jupyter-widgets/base",
          "model_name": "LayoutModel",
          "state": {
            "_view_name": "LayoutView",
            "grid_template_rows": null,
            "right": null,
            "justify_content": null,
            "_view_module": "@jupyter-widgets/base",
            "overflow": null,
            "_model_module_version": "1.2.0",
            "_view_count": null,
            "flex_flow": null,
            "width": null,
            "min_width": null,
            "border": null,
            "align_items": null,
            "bottom": null,
            "_model_module": "@jupyter-widgets/base",
            "top": null,
            "grid_column": null,
            "overflow_y": null,
            "overflow_x": null,
            "grid_auto_flow": null,
            "grid_area": null,
            "grid_template_columns": null,
            "flex": null,
            "_model_name": "LayoutModel",
            "justify_items": null,
            "grid_row": null,
            "max_height": null,
            "align_content": null,
            "visibility": null,
            "align_self": null,
            "height": null,
            "min_height": null,
            "padding": null,
            "grid_auto_rows": null,
            "grid_gap": null,
            "max_width": null,
            "order": null,
            "_view_module_version": "1.2.0",
            "grid_template_areas": null,
            "object_position": null,
            "object_fit": null,
            "grid_auto_columns": null,
            "margin": null,
            "display": null,
            "left": null
          }
        },
        "49c30450ef854c258f41df9b9e6b23e5": {
          "model_module": "@jupyter-widgets/controls",
          "model_name": "VBoxModel",
          "state": {
            "_view_name": "VBoxView",
            "_dom_classes": [
              "widget-interact"
            ],
            "_model_name": "VBoxModel",
            "_view_module": "@jupyter-widgets/controls",
            "_model_module_version": "1.5.0",
            "_view_count": null,
            "_view_module_version": "1.5.0",
            "box_style": "",
            "layout": "IPY_MODEL_4e64ad99a9b541b1823bd4d182bcfb74",
            "_model_module": "@jupyter-widgets/controls",
            "children": [
              "IPY_MODEL_8ba6cc2b895445e1ac2c4f90875b0236",
              "IPY_MODEL_68e7b310f9104fd5bfd6fb71084b95dd"
            ]
          }
        },
        "4e64ad99a9b541b1823bd4d182bcfb74": {
          "model_module": "@jupyter-widgets/base",
          "model_name": "LayoutModel",
          "state": {
            "_view_name": "LayoutView",
            "grid_template_rows": null,
            "right": null,
            "justify_content": null,
            "_view_module": "@jupyter-widgets/base",
            "overflow": null,
            "_model_module_version": "1.2.0",
            "_view_count": null,
            "flex_flow": null,
            "width": null,
            "min_width": null,
            "border": null,
            "align_items": null,
            "bottom": null,
            "_model_module": "@jupyter-widgets/base",
            "top": null,
            "grid_column": null,
            "overflow_y": null,
            "overflow_x": null,
            "grid_auto_flow": null,
            "grid_area": null,
            "grid_template_columns": null,
            "flex": null,
            "_model_name": "LayoutModel",
            "justify_items": null,
            "grid_row": null,
            "max_height": null,
            "align_content": null,
            "visibility": null,
            "align_self": null,
            "height": null,
            "min_height": null,
            "padding": null,
            "grid_auto_rows": null,
            "grid_gap": null,
            "max_width": null,
            "order": null,
            "_view_module_version": "1.2.0",
            "grid_template_areas": null,
            "object_position": null,
            "object_fit": null,
            "grid_auto_columns": null,
            "margin": null,
            "display": null,
            "left": null
          }
        },
        "8ba6cc2b895445e1ac2c4f90875b0236": {
          "model_module": "@jupyter-widgets/controls",
          "model_name": "IntSliderModel",
          "state": {
            "_view_name": "IntSliderView",
            "style": "IPY_MODEL_cacade9b55dd4f7fb45f7ca48962e188",
            "_dom_classes": [],
            "description": "idx",
            "step": 1,
            "_model_name": "IntSliderModel",
            "orientation": "horizontal",
            "max": 59999,
            "_view_module": "@jupyter-widgets/controls",
            "_model_module_version": "1.5.0",
            "value": 0,
            "_view_count": null,
            "disabled": false,
            "_view_module_version": "1.5.0",
            "min": 0,
            "continuous_update": true,
            "readout_format": "d",
            "description_tooltip": null,
            "readout": true,
            "_model_module": "@jupyter-widgets/controls",
            "layout": "IPY_MODEL_0a09b3fde9d04932b4563c36ae5cce3d"
          }
        },
        "68e7b310f9104fd5bfd6fb71084b95dd": {
          "model_module": "@jupyter-widgets/output",
          "model_name": "OutputModel",
          "state": {
            "_view_name": "OutputView",
            "msg_id": "",
            "_dom_classes": [],
            "_model_name": "OutputModel",
            "outputs": [
              {
                "output_type": "stream",
                "metadata": {
                  "tags": []
                },
                "text": "tf.Tensor([-0.4208606 -2.0055053], shape=(2,), dtype=float32)\nGT label: 5\n",
                "stream": "stdout"
              }
            ],
            "_view_module": "@jupyter-widgets/output",
            "_model_module_version": "1.0.0",
            "_view_count": null,
            "_view_module_version": "1.0.0",
            "layout": "IPY_MODEL_e4b2bfad0f374cd78b9869fcc4089934",
            "_model_module": "@jupyter-widgets/output"
          }
        },
        "cacade9b55dd4f7fb45f7ca48962e188": {
          "model_module": "@jupyter-widgets/controls",
          "model_name": "SliderStyleModel",
          "state": {
            "_view_name": "StyleView",
            "handle_color": null,
            "_model_name": "SliderStyleModel",
            "description_width": "",
            "_view_module": "@jupyter-widgets/base",
            "_model_module_version": "1.5.0",
            "_view_count": null,
            "_view_module_version": "1.2.0",
            "_model_module": "@jupyter-widgets/controls"
          }
        },
        "0a09b3fde9d04932b4563c36ae5cce3d": {
          "model_module": "@jupyter-widgets/base",
          "model_name": "LayoutModel",
          "state": {
            "_view_name": "LayoutView",
            "grid_template_rows": null,
            "right": null,
            "justify_content": null,
            "_view_module": "@jupyter-widgets/base",
            "overflow": null,
            "_model_module_version": "1.2.0",
            "_view_count": null,
            "flex_flow": null,
            "width": null,
            "min_width": null,
            "border": null,
            "align_items": null,
            "bottom": null,
            "_model_module": "@jupyter-widgets/base",
            "top": null,
            "grid_column": null,
            "overflow_y": null,
            "overflow_x": null,
            "grid_auto_flow": null,
            "grid_area": null,
            "grid_template_columns": null,
            "flex": null,
            "_model_name": "LayoutModel",
            "justify_items": null,
            "grid_row": null,
            "max_height": null,
            "align_content": null,
            "visibility": null,
            "align_self": null,
            "height": null,
            "min_height": null,
            "padding": null,
            "grid_auto_rows": null,
            "grid_gap": null,
            "max_width": null,
            "order": null,
            "_view_module_version": "1.2.0",
            "grid_template_areas": null,
            "object_position": null,
            "object_fit": null,
            "grid_auto_columns": null,
            "margin": null,
            "display": null,
            "left": null
          }
        },
        "e4b2bfad0f374cd78b9869fcc4089934": {
          "model_module": "@jupyter-widgets/base",
          "model_name": "LayoutModel",
          "state": {
            "_view_name": "LayoutView",
            "grid_template_rows": null,
            "right": null,
            "justify_content": null,
            "_view_module": "@jupyter-widgets/base",
            "overflow": null,
            "_model_module_version": "1.2.0",
            "_view_count": null,
            "flex_flow": null,
            "width": null,
            "min_width": null,
            "border": null,
            "align_items": null,
            "bottom": null,
            "_model_module": "@jupyter-widgets/base",
            "top": null,
            "grid_column": null,
            "overflow_y": null,
            "overflow_x": null,
            "grid_auto_flow": null,
            "grid_area": null,
            "grid_template_columns": null,
            "flex": null,
            "_model_name": "LayoutModel",
            "justify_items": null,
            "grid_row": null,
            "max_height": null,
            "align_content": null,
            "visibility": null,
            "align_self": null,
            "height": null,
            "min_height": null,
            "padding": null,
            "grid_auto_rows": null,
            "grid_gap": null,
            "max_width": null,
            "order": null,
            "_view_module_version": "1.2.0",
            "grid_template_areas": null,
            "object_position": null,
            "object_fit": null,
            "grid_auto_columns": null,
            "margin": null,
            "display": null,
            "left": null
          }
        },
        "ba0c9eeee8c54dfa8744ef538d476b90": {
          "model_module": "@jupyter-widgets/controls",
          "model_name": "HBoxModel",
          "state": {
            "_view_name": "HBoxView",
            "_dom_classes": [],
            "_model_name": "HBoxModel",
            "_view_module": "@jupyter-widgets/controls",
            "_model_module_version": "1.5.0",
            "_view_count": null,
            "_view_module_version": "1.5.0",
            "box_style": "",
            "layout": "IPY_MODEL_492c68ed866a4a19857aada0d3a8613c",
            "_model_module": "@jupyter-widgets/controls",
            "children": [
              "IPY_MODEL_a5124973b65246428ed517ef3356a329",
              "IPY_MODEL_1cdcdb38594a4baf9e89a29b6e00a68e"
            ]
          }
        },
        "492c68ed866a4a19857aada0d3a8613c": {
          "model_module": "@jupyter-widgets/base",
          "model_name": "LayoutModel",
          "state": {
            "_view_name": "LayoutView",
            "grid_template_rows": null,
            "right": null,
            "justify_content": null,
            "_view_module": "@jupyter-widgets/base",
            "overflow": null,
            "_model_module_version": "1.2.0",
            "_view_count": null,
            "flex_flow": null,
            "width": null,
            "min_width": null,
            "border": null,
            "align_items": null,
            "bottom": null,
            "_model_module": "@jupyter-widgets/base",
            "top": null,
            "grid_column": null,
            "overflow_y": null,
            "overflow_x": null,
            "grid_auto_flow": null,
            "grid_area": null,
            "grid_template_columns": null,
            "flex": null,
            "_model_name": "LayoutModel",
            "justify_items": null,
            "grid_row": null,
            "max_height": null,
            "align_content": null,
            "visibility": null,
            "align_self": null,
            "height": null,
            "min_height": null,
            "padding": null,
            "grid_auto_rows": null,
            "grid_gap": null,
            "max_width": null,
            "order": null,
            "_view_module_version": "1.2.0",
            "grid_template_areas": null,
            "object_position": null,
            "object_fit": null,
            "grid_auto_columns": null,
            "margin": null,
            "display": null,
            "left": null
          }
        },
        "a5124973b65246428ed517ef3356a329": {
          "model_module": "@jupyter-widgets/controls",
          "model_name": "FloatSliderModel",
          "state": {
            "_view_name": "FloatSliderView",
            "style": "IPY_MODEL_da8e0b7d057b4b57bf4cd6ec96fd7a10",
            "_dom_classes": [],
            "description": "",
            "step": 0.1,
            "_model_name": "FloatSliderModel",
            "orientation": "horizontal",
            "max": 5,
            "_view_module": "@jupyter-widgets/controls",
            "_model_module_version": "1.5.0",
            "value": 2.4,
            "_view_count": null,
            "disabled": false,
            "_view_module_version": "1.5.0",
            "min": -5,
            "continuous_update": true,
            "readout_format": ".2f",
            "description_tooltip": null,
            "readout": true,
            "_model_module": "@jupyter-widgets/controls",
            "layout": "IPY_MODEL_95dea8dc003e420d891ccfe480e71dd9"
          }
        },
        "1cdcdb38594a4baf9e89a29b6e00a68e": {
          "model_module": "@jupyter-widgets/controls",
          "model_name": "FloatSliderModel",
          "state": {
            "_view_name": "FloatSliderView",
            "style": "IPY_MODEL_8cf788edc8da4c32b4cbc864a80adbec",
            "_dom_classes": [],
            "description": "",
            "step": 0.1,
            "_model_name": "FloatSliderModel",
            "orientation": "horizontal",
            "max": 5,
            "_view_module": "@jupyter-widgets/controls",
            "_model_module_version": "1.5.0",
            "value": -1.9,
            "_view_count": null,
            "disabled": false,
            "_view_module_version": "1.5.0",
            "min": -5,
            "continuous_update": true,
            "readout_format": ".2f",
            "description_tooltip": null,
            "readout": true,
            "_model_module": "@jupyter-widgets/controls",
            "layout": "IPY_MODEL_b317eee630e148c8bd5e9599221f7b07"
          }
        },
        "da8e0b7d057b4b57bf4cd6ec96fd7a10": {
          "model_module": "@jupyter-widgets/controls",
          "model_name": "SliderStyleModel",
          "state": {
            "_view_name": "StyleView",
            "handle_color": null,
            "_model_name": "SliderStyleModel",
            "description_width": "",
            "_view_module": "@jupyter-widgets/base",
            "_model_module_version": "1.5.0",
            "_view_count": null,
            "_view_module_version": "1.2.0",
            "_model_module": "@jupyter-widgets/controls"
          }
        },
        "95dea8dc003e420d891ccfe480e71dd9": {
          "model_module": "@jupyter-widgets/base",
          "model_name": "LayoutModel",
          "state": {
            "_view_name": "LayoutView",
            "grid_template_rows": null,
            "right": null,
            "justify_content": null,
            "_view_module": "@jupyter-widgets/base",
            "overflow": null,
            "_model_module_version": "1.2.0",
            "_view_count": null,
            "flex_flow": null,
            "width": null,
            "min_width": null,
            "border": null,
            "align_items": null,
            "bottom": null,
            "_model_module": "@jupyter-widgets/base",
            "top": null,
            "grid_column": null,
            "overflow_y": null,
            "overflow_x": null,
            "grid_auto_flow": null,
            "grid_area": null,
            "grid_template_columns": null,
            "flex": null,
            "_model_name": "LayoutModel",
            "justify_items": null,
            "grid_row": null,
            "max_height": null,
            "align_content": null,
            "visibility": null,
            "align_self": null,
            "height": null,
            "min_height": null,
            "padding": null,
            "grid_auto_rows": null,
            "grid_gap": null,
            "max_width": null,
            "order": null,
            "_view_module_version": "1.2.0",
            "grid_template_areas": null,
            "object_position": null,
            "object_fit": null,
            "grid_auto_columns": null,
            "margin": null,
            "display": null,
            "left": null
          }
        },
        "8cf788edc8da4c32b4cbc864a80adbec": {
          "model_module": "@jupyter-widgets/controls",
          "model_name": "SliderStyleModel",
          "state": {
            "_view_name": "StyleView",
            "handle_color": null,
            "_model_name": "SliderStyleModel",
            "description_width": "",
            "_view_module": "@jupyter-widgets/base",
            "_model_module_version": "1.5.0",
            "_view_count": null,
            "_view_module_version": "1.2.0",
            "_model_module": "@jupyter-widgets/controls"
          }
        },
        "b317eee630e148c8bd5e9599221f7b07": {
          "model_module": "@jupyter-widgets/base",
          "model_name": "LayoutModel",
          "state": {
            "_view_name": "LayoutView",
            "grid_template_rows": null,
            "right": null,
            "justify_content": null,
            "_view_module": "@jupyter-widgets/base",
            "overflow": null,
            "_model_module_version": "1.2.0",
            "_view_count": null,
            "flex_flow": null,
            "width": null,
            "min_width": null,
            "border": null,
            "align_items": null,
            "bottom": null,
            "_model_module": "@jupyter-widgets/base",
            "top": null,
            "grid_column": null,
            "overflow_y": null,
            "overflow_x": null,
            "grid_auto_flow": null,
            "grid_area": null,
            "grid_template_columns": null,
            "flex": null,
            "_model_name": "LayoutModel",
            "justify_items": null,
            "grid_row": null,
            "max_height": null,
            "align_content": null,
            "visibility": null,
            "align_self": null,
            "height": null,
            "min_height": null,
            "padding": null,
            "grid_auto_rows": null,
            "grid_gap": null,
            "max_width": null,
            "order": null,
            "_view_module_version": "1.2.0",
            "grid_template_areas": null,
            "object_position": null,
            "object_fit": null,
            "grid_auto_columns": null,
            "margin": null,
            "display": null,
            "left": null
          }
        },
        "e1c635d900eb43678e30658e48520f8f": {
          "model_module": "@jupyter-widgets/output",
          "model_name": "OutputModel",
          "state": {
            "_view_name": "OutputView",
            "msg_id": "",
            "_dom_classes": [],
            "_model_name": "OutputModel",
            "outputs": [
              {
                "output_type": "stream",
                "metadata": {
                  "tags": []
                },
                "text": "[[ 2.4 -1.9]]\n",
                "stream": "stdout"
              },
              {
                "output_type": "display_data",
                "metadata": {
                  "tags": [],
                  "needs_background": "light"
                },
                "image/png": "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\n",
                "text/plain": "<Figure size 432x288 with 1 Axes>"
              }
            ],
            "_view_module": "@jupyter-widgets/output",
            "_model_module_version": "1.0.0",
            "_view_count": null,
            "_view_module_version": "1.0.0",
            "layout": "IPY_MODEL_fad08d31782a4ad0ba2aff6e4edfb5f9",
            "_model_module": "@jupyter-widgets/output"
          }
        },
        "fad08d31782a4ad0ba2aff6e4edfb5f9": {
          "model_module": "@jupyter-widgets/base",
          "model_name": "LayoutModel",
          "state": {
            "_view_name": "LayoutView",
            "grid_template_rows": null,
            "right": null,
            "justify_content": null,
            "_view_module": "@jupyter-widgets/base",
            "overflow": null,
            "_model_module_version": "1.2.0",
            "_view_count": null,
            "flex_flow": null,
            "width": null,
            "min_width": null,
            "border": null,
            "align_items": null,
            "bottom": null,
            "_model_module": "@jupyter-widgets/base",
            "top": null,
            "grid_column": null,
            "overflow_y": null,
            "overflow_x": null,
            "grid_auto_flow": null,
            "grid_area": null,
            "grid_template_columns": null,
            "flex": null,
            "_model_name": "LayoutModel",
            "justify_items": null,
            "grid_row": null,
            "max_height": null,
            "align_content": null,
            "visibility": null,
            "align_self": null,
            "height": null,
            "min_height": null,
            "padding": null,
            "grid_auto_rows": null,
            "grid_gap": null,
            "max_width": null,
            "order": null,
            "_view_module_version": "1.2.0",
            "grid_template_areas": null,
            "object_position": null,
            "object_fit": null,
            "grid_auto_columns": null,
            "margin": null,
            "display": null,
            "left": null
          }
        }
      }
    }
  },
  "cells": [
    {
      "cell_type": "markdown",
      "metadata": {
        "id": "view-in-github",
        "colab_type": "text"
      },
      "source": [
        "<a href=\"https://colab.research.google.com/github/kkoma2623/VisualComputing/blob/master/AutoEncoder_(TensorFlow_2)_%EA%B8%B0%EB%B0%98_%EC%83%9D%EC%84%B1%EB%AA%A8%EB%8D%B8_kkoma2623.ipynb\" target=\"_parent\"><img src=\"https://colab.research.google.com/assets/colab-badge.svg\" alt=\"Open In Colab\"/></a>"
      ]
    },
    {
      "cell_type": "markdown",
      "metadata": {
        "id": "cGH4148vfZ-h",
        "colab_type": "text"
      },
      "source": [
        "# 오토인코더 (TensorFlow 2)\n",
        "텐서플로우 2에서 제공하는 고수준 API인 케라스를 이용해, 오토인코더(autoencoder)를 구현한다.\n",
        "* Google Colab 환경에서 사용하는 경우에  초점을 맞춤.\n",
        "* 텐서플로우 2\n",
        "* 텐서플로우 2 내장 케라스 기준\n",
        "\n",
        "참고문헌\n",
        "* [TensorFlow 소개](https://www.tensorflow.org/learn)\n",
        "* [TensorFlow > 학습 > TensorFlow Core > 가이드 > 케라스: 빠르게 훑어보기](https://www.tensorflow.org/guide/keras/overview)\n",
        "* [Deep Learning with Python, by Francois Chollet](https://github.com/fchollet/deep-learning-with-python-notebooks)\n",
        "\n",
        "\n",
        "## Tensorflow 2과 Keras를 사용하기 위한 구성\n",
        "```\n",
        "import tensorflow as tf                       # 텐서플로우 임포트\n",
        "from tensorflow.keras import models, layers   # 케라스 관련 모듈 임포트\n",
        "import numpy as np\n",
        "\n",
        "print(tf.__version__)        # 텐서플로우 버전을 확인하도록 한다.\n",
        "print(tf.keras.__version__)  # 케라스 버전을 확인한다.\n",
        "```"
      ]
    },
    {
      "cell_type": "code",
      "metadata": {
        "id": "CI5C_ap5fR9J",
        "colab_type": "code",
        "outputId": "2751ae7e-ca0a-4cfd-fe18-d226e3d9eee5",
        "colab": {
          "base_uri": "https://localhost:8080/",
          "height": 53
        }
      },
      "source": [
        "import tensorflow as tf                       # 텐서플로우 임포트\n",
        "from tensorflow.keras import models, layers   # 케라스 관련 모듈 임포트\n",
        "import numpy as np\n",
        "import matplotlib.pyplot as plt\n",
        " \n",
        "print(tf.__version__)        # 텐서플로우 버전을 확인하도록 한다.\n",
        "print(tf.keras.__version__)  # 케라스 버전을 확인한다."
      ],
      "execution_count": 0,
      "outputs": [
        {
          "output_type": "stream",
          "text": [
            "2.2.0-rc3\n",
            "2.3.0-tf\n"
          ],
          "name": "stdout"
        }
      ]
    },
    {
      "cell_type": "markdown",
      "metadata": {
        "id": "SLDZtDXwhwS2",
        "colab_type": "text"
      },
      "source": [
        "## MNIST 데이터셋 띄우기\n",
        "* mnist 데이터셋은 LeCun이 만든 숫자(digit) 손글씨 데이터셋이다.\n",
        "* 60,000개의 트레이닝 데이터와 10,000개의 테스트 데이터로 이루어져 있다.\n",
        "\n",
        "\n",
        "### MNIST 이미지 데이터\n",
        "* 트레이닝 이미지와 테스트 이미지에 들어 있는 영상은 3차원 텐서이다.\n",
        "  + 트레이닝 이미지의 경우, shape = (60000, 28, 28)\n",
        "  + 테스트 이미지의 경우, shape=(10000, 28, 28)\n",
        "* 3차원 텐서는 다음의 의미로 구성되어 있음을 유념하자.\n",
        "  + (# of images, image Height, image Width)  혹은 (# of images, # of Rows, # of Columns)  \n",
        "* 각 영상은 28 x 28 크기로 구성되어 있다.\n",
        "* 각 픽셀은 [0, 255] 사이의 uint8형 값이다.\n",
        "  + 반드시, 텐서플로우에 입력으로 넣을 때, 픽셀값을 [0, 1] 사이의 float32형 값으로 변환하도록 하자.\n",
        "\n",
        "\n",
        "### MNIST 라벨 데이터\n",
        "* 각 라벨은 [0, 9] 사이의 unit8형 값이다."
      ]
    },
    {
      "cell_type": "code",
      "metadata": {
        "id": "Hwi7aAqKgxwz",
        "colab_type": "code",
        "outputId": "b76e24eb-07d0-4279-81fd-fd58c74dda1e",
        "colab": {
          "base_uri": "https://localhost:8080/",
          "height": 161
        }
      },
      "source": [
        "# MNIST 데이터 로딩\n",
        "mnist = tf.keras.datasets.mnist\n",
        "\n",
        "(train_images, train_labels), (test_images, test_labels) = mnist.load_data()\n",
        "\n",
        "print('train_images의 *원래* 데이터의 shape과 dype:', \n",
        "      train_images.shape, train_images.dtype)\n",
        "print('test_images의 *원래* 데이터의 shape과 dype:', \n",
        "      test_images.shape, test_images.dtype)\n",
        "\n",
        "# Normalizing the images to the range of [0., 1.]\n",
        "train_images = np.reshape(train_images, (len(train_images), 28, 28, 1))  # 'channels_firtst'이미지 데이터 형식을 사용하는 경우 이를 적용\n",
        "test_images = np.reshape(test_images, (len(test_images), 28, 28, 1))  # 'channels_firtst'이미지 데이터 형식을 사용하는 경우 이를 적용\n",
        "train_images = tf.cast(train_images, tf.float32)\n",
        "test_images  = tf.cast(test_images, tf.float32)\n",
        "train_images /= 255\n",
        "test_images  /= 255\n",
        "\n",
        "# train_images = np.where(train_images > 0.55, 1., 0.)\n",
        "# test_images = np.where(test_images > 0.55, 1., 0.)\n",
        "\n",
        "print('train_images의 *바뀐* 데이터의 shape과 dype:', \n",
        "      train_images.shape, train_images.dtype)\n",
        "print('test_images의 *바뀐* 데이터의 shape과 dype:', \n",
        "      test_images.shape, test_images.dtype)\n",
        "\n",
        "\n",
        "# Print out for checking\n",
        "print(train_images[0].shape)\n",
        "print(train_images[0][0][0].dtype)\n",
        "print(train_labels.dtype)\n",
        "print(len(train_labels))"
      ],
      "execution_count": 0,
      "outputs": [
        {
          "output_type": "stream",
          "text": [
            "train_images의 *원래* 데이터의 shape과 dype: (60000, 28, 28) uint8\n",
            "test_images의 *원래* 데이터의 shape과 dype: (10000, 28, 28) uint8\n",
            "train_images의 *바뀐* 데이터의 shape과 dype: (60000, 28, 28, 1) <dtype: 'float32'>\n",
            "test_images의 *바뀐* 데이터의 shape과 dype: (10000, 28, 28, 1) <dtype: 'float32'>\n",
            "(28, 28, 1)\n",
            "<dtype: 'float32'>\n",
            "uint8\n",
            "60000\n"
          ],
          "name": "stdout"
        }
      ]
    },
    {
      "cell_type": "markdown",
      "metadata": {
        "id": "cnmmvNM8mggn",
        "colab_type": "text"
      },
      "source": [
        "## 네트워크 모델 설계\n",
        "* 인코더 모델: 케라스 시퀀셜 모델로 설계\n",
        "  + InputLayer로 (28,28, 1) 영상을 받고, 출력으로 n_dim차원 벡터가 나오도록 함.\n",
        "* 디코더 모델: 케라스 시퀀셜 모델로 설계\n",
        "  + InputLayer에서 n_dim차원 벡터를 받고, 출력으로 (28,28, 1) 영상이 나오도록 함.\n",
        "* 오토인코더 모델: 인코더, 디코더를 결합하여 설계"
      ]
    },
    {
      "cell_type": "markdown",
      "metadata": {
        "id": "8vdpCXoBC2iT",
        "colab_type": "text"
      },
      "source": [
        "여기서는 n_dim을 우선 2로 설정한다.\n",
        "* 즉, n_dim=2"
      ]
    },
    {
      "cell_type": "code",
      "metadata": {
        "id": "oVqgPZuAh1qV",
        "colab_type": "code",
        "colab": {}
      },
      "source": [
        "n_dim = 2"
      ],
      "execution_count": 0,
      "outputs": []
    },
    {
      "cell_type": "markdown",
      "metadata": {
        "id": "X1n1CJu8DAa3",
        "colab_type": "text"
      },
      "source": [
        "인코더 모델 정의\n",
        "* (28, 28, 1) 영상을 입력으로 받도록 입력 레이어 정의\n",
        "* 컨볼루션 레이어를 활용하여 (28,28,1)\n",
        "* 컨볼루션 레이어 층을 이용하여 (28,28,1) > (28, 28, 2) > (14, 14, 8) > (14, 14, 16) > (7, 7, 16) > (7, 7, 64) 로 변경\n",
        "* Flatten으로 입력 텐서를 3136-vector로 벡터라이즈\n",
        "* Fully connected layer로 3136 > n_dim 로 차원 축소"
      ]
    },
    {
      "cell_type": "code",
      "metadata": {
        "id": "-xh8TaXmmxpM",
        "colab_type": "code",
        "colab": {}
      },
      "source": [
        "enc = tf.keras.models.Sequential([\n",
        "  tf.keras.layers.InputLayer(input_shape=(28, 28, 1)),\n",
        "  tf.keras.layers.Conv2D(2, (3, 3), activation='relu', padding='same'),\n",
        "  tf.keras.layers.Conv2D(8, (3, 3), strides=2, activation='relu', padding='same'),\n",
        "  tf.keras.layers.Conv2D(16, (3, 3), activation='relu', padding='same'),\n",
        "  tf.keras.layers.Conv2D(16, (3, 3), strides=2, activation='relu', padding='same'),\n",
        "  tf.keras.layers.Conv2D(64, (3, 3), activation='relu', padding='same'),\n",
        "  tf.keras.layers.Flatten(),\n",
        "  tf.keras.layers.Dense(n_dim),\n",
        "])"
      ],
      "execution_count": 0,
      "outputs": []
    },
    {
      "cell_type": "markdown",
      "metadata": {
        "id": "IWSeOz84mgje",
        "colab_type": "text"
      },
      "source": [
        "디코더 모델 정의\n",
        "* Fully connected layey로 n_dim > 3136 로 차원 확대\n",
        "* 3136-vector를 Reshape을 통해 (7, 7, 64)의 텐서로 변환\n",
        "* (7, 7, 64)의 텐서를 (28, 28, 1)의 텐서로 변환"
      ]
    },
    {
      "cell_type": "code",
      "metadata": {
        "id": "PsJjPeg0Czz4",
        "colab_type": "code",
        "colab": {}
      },
      "source": [
        "dec = tf.keras.models.Sequential([\n",
        "  tf.keras.layers.InputLayer(input_shape=(n_dim,)),\n",
        "  tf.keras.layers.Dense(units=7*7*64, activation='relu'),\n",
        "  tf.keras.layers.Reshape(target_shape=(7, 7, 64)),\n",
        "  tf.keras.layers.Conv2D(16, (3, 3), activation='relu', padding='same'),\n",
        "  tf.keras.layers.UpSampling2D((2,2)),\n",
        "  tf.keras.layers.Conv2D(8, (3, 3), activation='relu', padding='same'),\n",
        "  tf.keras.layers.UpSampling2D((2,2)),\n",
        "  tf.keras.layers.Conv2D(2, (3, 3), activation='relu', padding='same'),\n",
        "  tf.keras.layers.Conv2D(1, (3, 3), padding='same'),\n",
        "])"
      ],
      "execution_count": 0,
      "outputs": []
    },
    {
      "cell_type": "markdown",
      "metadata": {
        "id": "dRRvhIDjmgm3",
        "colab_type": "text"
      },
      "source": [
        "AutoEncoder 모델 정의\n",
        "* (28, 28, 1) 영상을 입력으로 받도록 입력 레이어 정의\n",
        "* 입력 레이어 > 인코더 > 디코더로 구성"
      ]
    },
    {
      "cell_type": "code",
      "metadata": {
        "id": "9vVylmdjEwTY",
        "colab_type": "code",
        "colab": {}
      },
      "source": [
        "ae = tf.keras.models.Sequential([\n",
        "  tf.keras.layers.InputLayer(input_shape=(28, 28, 1)),   # 입력 구조를 명확히 보여주기 위해, input layer (재)정의\n",
        "  enc,\n",
        "  dec,                               \n",
        "])"
      ],
      "execution_count": 0,
      "outputs": []
    },
    {
      "cell_type": "markdown",
      "metadata": {
        "id": "RvMFp41gmgpm",
        "colab_type": "text"
      },
      "source": [
        "## 훈련 전, 네트워크 모델을 함수로서 활용\n",
        "* AutoEncoder ae를 모델로 구성했기 때문에, 지금부터 함수로서 활용 가능 [(효과적인 TensorFlow: 세션 대신 함수)](https://www.tensorflow.org/guide/effective_tf2?hl=ko#%EC%84%B8%EC%85%98_%EB%8C%80%EC%8B%A0_%ED%95%A8%EC%88%98)\n",
        "  + 단, ae 함수는 batch 단위로 수행됨을 명심할 것.  \n",
        "    - 단순히, (28, 28, 1) -> ae -> (28, 28, 1)로 동작하지 않고,\n",
        "    - batch 단위로 (?, 28, 28, 1) -> ae -> (?, 28, 28, 1)로 병렬처리됨.\n",
        "* 지금은 훈련 전 네트웍이기 때문에 정상적으로 작동하지 않음."
      ]
    },
    {
      "cell_type": "code",
      "metadata": {
        "id": "IIZZEv9-FMnt",
        "colab_type": "code",
        "outputId": "1d735134-0e6c-4d57-cd97-27cd719d8271",
        "colab": {
          "base_uri": "https://localhost:8080/",
          "height": 53
        }
      },
      "source": [
        "y_pred = ae(train_images)\n",
        "print('input  shape:', train_images.shape)\n",
        "print('output shape:', y_pred.shape)"
      ],
      "execution_count": 0,
      "outputs": [
        {
          "output_type": "stream",
          "text": [
            "input  shape: (60000, 28, 28, 1)\n",
            "output shape: (60000, 28, 28, 1)\n"
          ],
          "name": "stdout"
        }
      ]
    },
    {
      "cell_type": "markdown",
      "metadata": {
        "id": "1S3LEgAKFL4L",
        "colab_type": "text"
      },
      "source": [
        "train_images[idx] 영상에 대한 결과 확인\n",
        "* ae의 입력 / 출력 가시화\n"
      ]
    },
    {
      "cell_type": "code",
      "metadata": {
        "id": "2hKHw7mEFzYN",
        "colab_type": "code",
        "outputId": "34d55ff5-abd4-4796-fdf8-571e8599c679",
        "colab": {
          "base_uri": "https://localhost:8080/",
          "height": 251,
          "referenced_widgets": [
            "878b382fd4b94347b56bf0966a6dd351",
            "4bef0161a3fa4697a1c1dee984941336",
            "176313876e7c4bcf91c00725e756e862",
            "9894100371d6485a8b7bae07d6cca551",
            "f9e3cbd4f63747698f939ff390be72e5",
            "1e6482573d0c49ab9771ddc43a685f60",
            "2e31fd587f6f48e4b6b12ec6b7606240"
          ]
        }
      },
      "source": [
        "import ipywidgets as widgets\n",
        "\n",
        "def io_imshow(idx):\n",
        "  print('GT label:', train_labels[idx])\n",
        "  plt.subplot(121)\n",
        "  plt.imshow(np.squeeze(train_images[idx]))\n",
        "  plt.subplot(122)\n",
        "  plt.imshow(np.squeeze(y_pred[idx]))\n",
        "  plt.show()\n",
        "\n",
        "widgets.interact(io_imshow, idx=widgets.IntSlider(min=0, max=train_images.shape[0]-1, continuous_update=False));"
      ],
      "execution_count": 0,
      "outputs": [
        {
          "output_type": "display_data",
          "data": {
            "application/vnd.jupyter.widget-view+json": {
              "model_id": "878b382fd4b94347b56bf0966a6dd351",
              "version_minor": 0,
              "version_major": 2
            },
            "text/plain": [
              "interactive(children=(IntSlider(value=0, continuous_update=False, description='idx', max=59999), Output()), _d…"
            ]
          },
          "metadata": {
            "tags": []
          }
        }
      ]
    },
    {
      "cell_type": "markdown",
      "metadata": {
        "id": "20IBU95KmguR",
        "colab_type": "text"
      },
      "source": [
        "## 네트워크 모델 구조 확인\n",
        "* summary() 함수로 모델의 구조를 텍스트로 프린트할 수 있음.\n",
        "* plot_model() 함수로 모델의 구조를 텍스트로 프린트할 수 있음."
      ]
    },
    {
      "cell_type": "code",
      "metadata": {
        "id": "wkk04rsyG9c6",
        "colab_type": "code",
        "outputId": "76355f70-3c87-48ae-cda1-2ab63ebb5797",
        "colab": {
          "base_uri": "https://localhost:8080/",
          "height": 1000
        }
      },
      "source": [
        "enc.summary()\n",
        "tf.keras.utils.plot_model(enc, 'enc.png', show_shapes=True)"
      ],
      "execution_count": 0,
      "outputs": [
        {
          "output_type": "stream",
          "text": [
            "Model: \"sequential\"\n",
            "_________________________________________________________________\n",
            "Layer (type)                 Output Shape              Param #   \n",
            "=================================================================\n",
            "conv2d (Conv2D)              (None, 28, 28, 2)         20        \n",
            "_________________________________________________________________\n",
            "conv2d_1 (Conv2D)            (None, 14, 14, 8)         152       \n",
            "_________________________________________________________________\n",
            "conv2d_2 (Conv2D)            (None, 14, 14, 16)        1168      \n",
            "_________________________________________________________________\n",
            "conv2d_3 (Conv2D)            (None, 7, 7, 16)          2320      \n",
            "_________________________________________________________________\n",
            "conv2d_4 (Conv2D)            (None, 7, 7, 64)          9280      \n",
            "_________________________________________________________________\n",
            "flatten (Flatten)            (None, 3136)              0         \n",
            "_________________________________________________________________\n",
            "dense (Dense)                (None, 2)                 6274      \n",
            "=================================================================\n",
            "Total params: 19,214\n",
            "Trainable params: 19,214\n",
            "Non-trainable params: 0\n",
            "_________________________________________________________________\n"
          ],
          "name": "stdout"
        },
        {
          "output_type": "execute_result",
          "data": {
            "image/png": "[encoded data removed]",
            "text/plain": [
              "<IPython.core.display.Image object>"
            ]
          },
          "metadata": {
            "tags": []
          },
          "execution_count": 9
        }
      ]
    },
    {
      "cell_type": "code",
      "metadata": {
        "id": "CQTh5ytpG-Ez",
        "colab_type": "code",
        "outputId": "79a4caec-9d97-4e23-abdb-621ac17e5f8d",
        "colab": {
          "base_uri": "https://localhost:8080/",
          "height": 1000
        }
      },
      "source": [
        "dec.summary()\n",
        "tf.keras.utils.plot_model(dec, 'dec.png', show_shapes=True)"
      ],
      "execution_count": 0,
      "outputs": [
        {
          "output_type": "stream",
          "text": [
            "Model: \"sequential_1\"\n",
            "_________________________________________________________________\n",
            "Layer (type)                 Output Shape              Param #   \n",
            "=================================================================\n",
            "dense_1 (Dense)              (None, 3136)              9408      \n",
            "_________________________________________________________________\n",
            "reshape (Reshape)            (None, 7, 7, 64)          0         \n",
            "_________________________________________________________________\n",
            "conv2d_5 (Conv2D)            (None, 7, 7, 16)          9232      \n",
            "_________________________________________________________________\n",
            "up_sampling2d (UpSampling2D) (None, 14, 14, 16)        0         \n",
            "_________________________________________________________________\n",
            "conv2d_6 (Conv2D)            (None, 14, 14, 8)         1160      \n",
            "_________________________________________________________________\n",
            "up_sampling2d_1 (UpSampling2 (None, 28, 28, 8)         0         \n",
            "_________________________________________________________________\n",
            "conv2d_7 (Conv2D)            (None, 28, 28, 2)         146       \n",
            "_________________________________________________________________\n",
            "conv2d_8 (Conv2D)            (None, 28, 28, 1)         19        \n",
            "=================================================================\n",
            "Total params: 19,965\n",
            "Trainable params: 19,965\n",
            "Non-trainable params: 0\n",
            "_________________________________________________________________\n"
          ],
          "name": "stdout"
        },
        {
          "output_type": "execute_result",
          "data": {
            "image/png": "[encoded data removed]",
            "text/plain": [
              "<IPython.core.display.Image object>"
            ]
          },
          "metadata": {
            "tags": []
          },
          "execution_count": 10
        }
      ]
    },
    {
      "cell_type": "code",
      "metadata": {
        "id": "2PQgu8CUG-Hf",
        "colab_type": "code",
        "outputId": "175c02b4-f927-48f9-82fd-bf8413e79546",
        "colab": {
          "base_uri": "https://localhost:8080/",
          "height": 528
        }
      },
      "source": [
        "ae.summary()\n",
        "tf.keras.utils.plot_model(ae, 'ae.png', show_shapes=True)"
      ],
      "execution_count": 0,
      "outputs": [
        {
          "output_type": "stream",
          "text": [
            "Model: \"sequential_2\"\n",
            "_________________________________________________________________\n",
            "Layer (type)                 Output Shape              Param #   \n",
            "=================================================================\n",
            "sequential (Sequential)      (None, 2)                 19214     \n",
            "_________________________________________________________________\n",
            "sequential_1 (Sequential)    (None, 28, 28, 1)         19965     \n",
            "=================================================================\n",
            "Total params: 39,179\n",
            "Trainable params: 39,179\n",
            "Non-trainable params: 0\n",
            "_________________________________________________________________\n"
          ],
          "name": "stdout"
        },
        {
          "output_type": "execute_result",
          "data": {
            "image/png": "[encoded data removed]",
            "text/plain": [
              "<IPython.core.display.Image object>"
            ]
          },
          "metadata": {
            "tags": []
          },
          "execution_count": 11
        }
      ]
    },
    {
      "cell_type": "markdown",
      "metadata": {
        "id": "4oOGTvjMIfJE",
        "colab_type": "text"
      },
      "source": [
        "## 오토인코더 인스턴스 트레이닝\n",
        "\n",
        "AutoEncoder 인스턴스 ae에 대한 훈련 수행\n",
        "* 인스턴스 ae를 [compile](https://www.tensorflow.org/api_docs/python/tf/keras/Model#compile)\n",
        "  + cf) shader program 컴파일과 유사하게 이해해도 됨\n",
        "  + 이때, 훈련에 활용될 [optimizer](https://www.tensorflow.org/api_docs/python/tf/keras/optimizers), [loss](https://www.tensorflow.org/api_docs/python/tf/keras/losses), [metrics](https://www.tensorflow.org/api_docs/python/tf/keras/metrics) 등을 지정함\n",
        "  + Optmizer에 대한 이론적 내용은 [이곳](https://brunch.co.kr/@chris-song/50)을 참고하세요.\n",
        "* 훈련 데이터 쌍 (train_images, train_labels)으로 fit()을 이용해 훈련 "
      ]
    },
    {
      "cell_type": "code",
      "metadata": {
        "id": "wsY5opqwG-KP",
        "colab_type": "code",
        "outputId": "262e7bf6-ccdf-4c4f-ba8e-60d91e4904b0",
        "colab": {
          "base_uri": "https://localhost:8080/",
          "height": 395
        }
      },
      "source": [
        "ae.compile(optimizer='Adam', # optimizer의 name 혹은 함수 객체 설정\n",
        "           loss='mse', \n",
        "           metrics=['mae'])\n",
        "\n",
        "ae.fit(train_images, train_images, epochs=10, batch_size=32)"
      ],
      "execution_count": 0,
      "outputs": [
        {
          "output_type": "stream",
          "text": [
            "Epoch 1/10\n",
            "1875/1875 [==============================] - 7s 4ms/step - loss: 0.0499 - mae: 0.1155\n",
            "Epoch 2/10\n",
            "1875/1875 [==============================] - 7s 4ms/step - loss: 0.0437 - mae: 0.1028\n",
            "Epoch 3/10\n",
            "1875/1875 [==============================] - 7s 4ms/step - loss: 0.0419 - mae: 0.0992\n",
            "Epoch 4/10\n",
            "1875/1875 [==============================] - 7s 4ms/step - loss: 0.0409 - mae: 0.0972\n",
            "Epoch 5/10\n",
            "1875/1875 [==============================] - 7s 4ms/step - loss: 0.0402 - mae: 0.0958\n",
            "Epoch 6/10\n",
            "1875/1875 [==============================] - 7s 4ms/step - loss: 0.0397 - mae: 0.0947\n",
            "Epoch 7/10\n",
            "1875/1875 [==============================] - 7s 4ms/step - loss: 0.0393 - mae: 0.0940\n",
            "Epoch 8/10\n",
            "1875/1875 [==============================] - 7s 4ms/step - loss: 0.0391 - mae: 0.0934\n",
            "Epoch 9/10\n",
            "1875/1875 [==============================] - 7s 4ms/step - loss: 0.0388 - mae: 0.0929\n",
            "Epoch 10/10\n",
            "1875/1875 [==============================] - 7s 4ms/step - loss: 0.0386 - mae: 0.0924\n"
          ],
          "name": "stdout"
        },
        {
          "output_type": "execute_result",
          "data": {
            "text/plain": [
              "<tensorflow.python.keras.callbacks.History at 0x7f7d587d80b8>"
            ]
          },
          "metadata": {
            "tags": []
          },
          "execution_count": 12
        }
      ]
    },
    {
      "cell_type": "markdown",
      "metadata": {
        "id": "FaVXWXiJLZrr",
        "colab_type": "text"
      },
      "source": [
        "트레이닝 이후 ae 함수를 다시 수행"
      ]
    },
    {
      "cell_type": "code",
      "metadata": {
        "id": "eTuDKTgSG-M-",
        "colab_type": "code",
        "colab": {}
      },
      "source": [
        "y_pred = ae(train_images)"
      ],
      "execution_count": 0,
      "outputs": []
    },
    {
      "cell_type": "code",
      "metadata": {
        "id": "iQghDFU01zlq",
        "colab_type": "code",
        "outputId": "a1d39eb3-49d3-4eab-c204-d56584da6b83",
        "colab": {
          "base_uri": "https://localhost:8080/",
          "height": 251,
          "referenced_widgets": [
            "ddeaac079d3244cc8c6a02d9ce1c59ad",
            "d74e19ca8a1946f69c91f76661fc5411",
            "3fbb9a470a7f4ad2a7fbaec6dd7eadfd",
            "49fb7bf7c4224e12ae3b4a64e10ec6f6",
            "f91408ec1ce54dcc863265d14b4b2145",
            "f95919a8e92d4946beb5cdd883b2cc44",
            "b99b951a051740bca2005c0d45f640ff"
          ]
        }
      },
      "source": [
        "import ipywidgets as widgets\n",
        "\n",
        "def io_imshow(idx):\n",
        "  print('GT label:', train_labels[idx])\n",
        "  plt.subplot(121)\n",
        "  plt.imshow(np.squeeze(train_images[idx]))\n",
        "  plt.subplot(122)\n",
        "  plt.imshow(np.squeeze(y_pred[idx]))\n",
        "  plt.show()\n",
        "\n",
        "widgets.interact(io_imshow, idx=widgets.IntSlider(min=0, max=train_images.shape[0]-1, continuous_update=False));"
      ],
      "execution_count": 0,
      "outputs": [
        {
          "output_type": "display_data",
          "data": {
            "application/vnd.jupyter.widget-view+json": {
              "model_id": "ddeaac079d3244cc8c6a02d9ce1c59ad",
              "version_minor": 0,
              "version_major": 2
            },
            "text/plain": [
              "interactive(children=(IntSlider(value=0, continuous_update=False, description='idx', max=59999), Output()), _d…"
            ]
          },
          "metadata": {
            "tags": []
          }
        }
      ]
    },
    {
      "cell_type": "markdown",
      "metadata": {
        "id": "M1va3vB-Ml0T",
        "colab_type": "text"
      },
      "source": [
        "## 인코더 / 디코더 모델을 각각 따로 함수로서 활용하기\n",
        "다음과 같은 방법으로 트레이닝이 끝난 오토인코더의 enc와 dec를 각각 수행할 수 있다."
      ]
    },
    {
      "cell_type": "markdown",
      "metadata": {
        "id": "xNq4B0MOHnq6",
        "colab_type": "text"
      },
      "source": [
        ""
      ]
    },
    {
      "cell_type": "code",
      "metadata": {
        "id": "OPAL6mB6Ml4q",
        "colab_type": "code",
        "colab": {}
      },
      "source": [
        "z = enc(train_images)\n",
        "y_pred = dec(z)"
      ],
      "execution_count": 0,
      "outputs": []
    },
    {
      "cell_type": "markdown",
      "metadata": {
        "id": "VKKmMNaRMl9m",
        "colab_type": "text"
      },
      "source": [
        "## 인코딩 결과 확인 및 디코딩 결과 확인\n",
        "* 특정 이미지에 대한 인코딩 결과를 확인한다.\n",
        "* 인코딩 결과와 유사한 좌표값을 디코딩에 보내도 유사한 결과가 나옴을 확인한다."
      ]
    },
    {
      "cell_type": "code",
      "metadata": {
        "id": "3UtC_fMAMmDD",
        "colab_type": "code",
        "outputId": "af0c8c18-5575-4fd9-85f8-f88f7b5f0b33",
        "colab": {
          "base_uri": "https://localhost:8080/",
          "height": 85,
          "referenced_widgets": [
            "9645a318e677425e96029905515e7a1d",
            "6fbce8ed435d4ef3b5f60c4a0b8b9d8f",
            "b24e7c4fb4204db98a197ab09fa4d2e8",
            "e4851c713d5648c9aef39fb1a3537d4c",
            "9dde625731cd48a28ad891facf489790",
            "8bdc3b203f5042e9b20e4d87f18de327",
            "407cfa03cce64646b040c8fbfb3f4d20"
          ]
        }
      },
      "source": [
        "import ipywidgets as widgets\n",
        "\n",
        "def z_show(idx):\n",
        "  print(z[idx])\n",
        "  print('GT label:', train_labels[idx])\n",
        "\n",
        "widgets.interact(z_show, idx=widgets.IntSlider(min=0, max=train_images.shape[0]-1));"
      ],
      "execution_count": 0,
      "outputs": [
        {
          "output_type": "display_data",
          "data": {
            "application/vnd.jupyter.widget-view+json": {
              "model_id": "9645a318e677425e96029905515e7a1d",
              "version_minor": 0,
              "version_major": 2
            },
            "text/plain": [
              "interactive(children=(IntSlider(value=0, description='idx', max=59999), Output()), _dom_classes=('widget-inter…"
            ]
          },
          "metadata": {
            "tags": []
          }
        }
      ]
    },
    {
      "cell_type": "markdown",
      "metadata": {
        "id": "4feBpt_GMmHM",
        "colab_type": "text"
      },
      "source": [
        "인코딩 결과와 유사한 좌표값을 디코딩에 보내도 유사한 결과가 나옴을 확인"
      ]
    },
    {
      "cell_type": "code",
      "metadata": {
        "id": "sR09DF8eNObU",
        "colab_type": "code",
        "outputId": "10dcfcc3-9ad4-448a-f12f-12e63b166275",
        "colab": {
          "base_uri": "https://localhost:8080/",
          "height": 315,
          "referenced_widgets": [
            "025154f7ae364d4396fb4cbe6033db7c",
            "7773c4ca032d433dba5fbd5b02cd63b1",
            "c0c32d647aa34381b442e9ed8ce424c7",
            "62664de5b80f4b03b8dcacb53817b8f8",
            "ab23ab236cd9447b974e81ac7877e547",
            "7cbf3485308a4df38ba91f33ee525007",
            "685152c3ea754fd38737ce79eebb7555",
            "99efd92139984496b4849529daed89e7",
            "53f1604998fc463b919e18409a94412b",
            "e3e191b4f46046ea947df808aafc74af"
          ]
        }
      },
      "source": [
        "import ipywidgets as widgets\n",
        "\n",
        "u=widgets.FloatSlider(min=-5.0, max=5.0)\n",
        "v=widgets.FloatSlider(min=-5.0, max=5.0)\n",
        "# u2=widgets.FloatSlider(min=-5.0, max=5.0)\n",
        "# v2=widgets.FloatSlider(min=-5.0, max=5.0)\n",
        "# u3=widgets.FloatSlider(min=-5.0, max=5.0)\n",
        "# v3=widgets.FloatSlider(min=-5.0, max=5.0)\n",
        "# u4=widgets.FloatSlider(min=-5.0, max=5.0)\n",
        "# v4=widgets.FloatSlider(min=-5.0, max=5.0)\n",
        "# u5=widgets.FloatSlider(min=-5.0, max=5.0)\n",
        "# v5=widgets.FloatSlider(min=-5.0, max=5.0)\n",
        "\n",
        "ui = widgets.HBox([u,v])\n",
        "\n",
        "def z_test(u,v):\n",
        "  z_test = np.array([[u,v]])  \n",
        "  print(z_test)\n",
        "\n",
        "  img_gen = dec(z_test)\n",
        "  plt.imshow(np.squeeze(img_gen[0]))\n",
        "  plt.show()  \n",
        "\n",
        "out = widgets.interactive_output(z_test, {'u': u, 'v': v})\n",
        "\n",
        "display(ui, out)"
      ],
      "execution_count": 0,
      "outputs": [
        {
          "output_type": "display_data",
          "data": {
            "application/vnd.jupyter.widget-view+json": {
              "model_id": "025154f7ae364d4396fb4cbe6033db7c",
              "version_minor": 0,
              "version_major": 2
            },
            "text/plain": [
              "HBox(children=(FloatSlider(value=0.0, max=5.0, min=-5.0), FloatSlider(value=0.0, max=5.0, min=-5.0)))"
            ]
          },
          "metadata": {
            "tags": []
          }
        },
        {
          "output_type": "display_data",
          "data": {
            "application/vnd.jupyter.widget-view+json": {
              "model_id": "53f1604998fc463b919e18409a94412b",
              "version_minor": 0,
              "version_major": 2
            },
            "text/plain": [
              "Output()"
            ]
          },
          "metadata": {
            "tags": []
          }
        }
      ]
    },
    {
      "cell_type": "markdown",
      "metadata": {
        "id": "E0sg9OLOMmQg",
        "colab_type": "text"
      },
      "source": [
        "## 인코딩 결과 가시화\n",
        "오토인코더의 encoder가 만들어 내는 representation인 z 값을 가시화 한다. "
      ]
    },
    {
      "cell_type": "code",
      "metadata": {
        "id": "uXRCE46YMmVx",
        "colab_type": "code",
        "outputId": "2b9a58a8-77e2-42d5-be5f-48055343f172",
        "colab": {
          "base_uri": "https://localhost:8080/",
          "height": 355
        }
      },
      "source": [
        "# 로딩된 MNIST 데이터 가시화\n",
        "import matplotlib.pyplot as plt\n",
        "z_0 = z[train_labels==0]    # z 배열을 조건을 이용해 slice\n",
        "z_1 = z[train_labels==1]\n",
        "z_2 = z[train_labels==2]\n",
        "z_3 = z[train_labels==3]\n",
        "z_4 = z[train_labels==4]\n",
        "z_5 = z[train_labels==5]\n",
        "z_6 = z[train_labels==6]\n",
        "z_7 = z[train_labels==7]\n",
        "z_8 = z[train_labels==8]\n",
        "z_9 = z[train_labels==9]\n",
        "\n",
        "print(z_0.shape)\n",
        "print(z_1.shape)\n",
        "print(z_2.shape)\n",
        "print(z_9.shape)\n",
        "\n",
        "plt.plot(z_0[:,0], z_0[:,1], 'ro')\n",
        "plt.plot(z_1[:,0], z_1[:,1], 'yo')\n",
        "plt.plot(z_2[:,0], z_2[:,1], 'bo')\n",
        "plt.plot(z_3[:,0], z_3[:,1], 'go')\n",
        "plt.plot(z_4[:,0], z_4[:,1], 'mo')\n",
        "plt.plot(z_5[:,0], z_5[:,1], 'co')\n",
        "plt.plot(z_6[:,0], z_6[:,1], 'ko')\n",
        "plt.plot(z_7[:,0], z_7[:,1], 'rx')\n",
        "plt.plot(z_8[:,0], z_8[:,1], 'bx')\n",
        "plt.plot(z_9[:,0], z_9[:,1], 'yx')"
      ],
      "execution_count": 0,
      "outputs": [
        {
          "output_type": "stream",
          "text": [
            "(5923, 2)\n",
            "(6742, 2)\n",
            "(5958, 2)\n",
            "(5949, 2)\n"
          ],
          "name": "stdout"
        },
        {
          "output_type": "execute_result",
          "data": {
            "text/plain": [
              "[<matplotlib.lines.Line2D at 0x7f7d2e70f3c8>]"
            ]
          },
          "metadata": {
            "tags": []
          },
          "execution_count": 18
        },
        {
          "output_type": "display_data",
          "data": {
            "image/png": "[encoded data removed]",
            "text/plain": [
              "<Figure size 432x288 with 1 Axes>"
            ]
          },
          "metadata": {
            "tags": [],
            "needs_background": "light"
          }
        }
      ]
    },
    {
      "cell_type": "markdown",
      "metadata": {
        "id": "gpAoMuM4N4Fd",
        "colab_type": "text"
      },
      "source": [
        "# 위 분포를 보면  encoder가 label 별로 discriminative한 representation을 만들어내지 못한 것을 확인할 수 있다. 어느 정도는 discriminative 하지만 대체로 그러지 못한 것을 확인할 수 있다."
      ]
    },
    {
      "cell_type": "markdown",
      "metadata": {
        "id": "n2bzpga1Mmai",
        "colab_type": "text"
      },
      "source": [
        "## 디코더를 이용한 Generative Model 구성"
      ]
    },
    {
      "cell_type": "code",
      "metadata": {
        "id": "AX8bs6B1MmfW",
        "colab_type": "code",
        "outputId": "09003305-f8b0-4ca1-97e4-a84b5ab0e007",
        "colab": {
          "base_uri": "https://localhost:8080/",
          "height": 53
        }
      },
      "source": [
        "z = np.array([[-5, 10], \n",
        "              [40, 0], \n",
        "              [5, 30]\n",
        "             ])\n",
        "\n",
        "result = dec(z)\n",
        "\n",
        "print(z.shape)\n",
        "print(result.shape)"
      ],
      "execution_count": 0,
      "outputs": [
        {
          "output_type": "stream",
          "text": [
            "(3, 2)\n",
            "(3, 28, 28, 1)\n"
          ],
          "name": "stdout"
        }
      ]
    },
    {
      "cell_type": "markdown",
      "metadata": {
        "id": "Z9nrcamnMmjn",
        "colab_type": "text"
      },
      "source": [
        "결과 가시화"
      ]
    },
    {
      "cell_type": "code",
      "metadata": {
        "id": "JJRaZTjgMmoI",
        "colab_type": "code",
        "outputId": "5cc4684c-5ac8-4618-a64c-6e20033dc384",
        "colab": {
          "base_uri": "https://localhost:8080/",
          "height": 167
        }
      },
      "source": [
        "# 로딩된 MNIST 데이터 가시화\n",
        "import matplotlib.pyplot as plt\n",
        "\n",
        "plt.subplot(131)\n",
        "plt.imshow(np.squeeze(result[0]))\n",
        "plt.subplot(132)\n",
        "plt.imshow(np.squeeze(result[1]))\n",
        "plt.subplot(133)\n",
        "plt.imshow(np.squeeze(result[2]))"
      ],
      "execution_count": 0,
      "outputs": [
        {
          "output_type": "execute_result",
          "data": {
            "text/plain": [
              "<matplotlib.image.AxesImage at 0x7f7d2e6a9588>"
            ]
          },
          "metadata": {
            "tags": []
          },
          "execution_count": 20
        },
        {
          "output_type": "display_data",
          "data": {
            "image/png": "[encoded data removed]",
            "text/plain": [
              "<Figure size 432x288 with 3 Axes>"
            ]
          },
          "metadata": {
            "tags": [],
            "needs_background": "light"
          }
        }
      ]
    },
    {
      "cell_type": "markdown",
      "metadata": {
        "id": "6YDn89j3Mmss",
        "colab_type": "text"
      },
      "source": [
        ""
      ]
    },
    {
      "cell_type": "code",
      "metadata": {
        "id": "TM2v3Q7uwVlj",
        "colab_type": "code",
        "outputId": "4adb3db9-5d27-4920-da9e-06dc35f09687",
        "colab": {
          "base_uri": "https://localhost:8080/",
          "height": 143
        }
      },
      "source": [
        "ae.optimizer.get_config()"
      ],
      "execution_count": 0,
      "outputs": [
        {
          "output_type": "execute_result",
          "data": {
            "text/plain": [
              "{'amsgrad': False,\n",
              " 'beta_1': 0.9,\n",
              " 'beta_2': 0.999,\n",
              " 'decay': 0.0,\n",
              " 'epsilon': 1e-07,\n",
              " 'learning_rate': 0.001,\n",
              " 'name': 'Adam'}"
            ]
          },
          "metadata": {
            "tags": []
          },
          "execution_count": 21
        }
      ]
    },
    {
      "cell_type": "markdown",
      "metadata": {
        "id": "YJjobQBCAkQF",
        "colab_type": "text"
      },
      "source": [
        "## 네트워크 모델 설계 2 (Z의 차원 변경)\n",
        "* 인코더 모델: 케라스 시퀀셜 모델로 설계\n",
        "  + InputLayer로 (28,28, 1) 영상을 받고, 출력으로 n_dim차원 벡터가 나오도록 함.\n",
        "* 디코더 모델: 케라스 시퀀셜 모델로 설계\n",
        "  + InputLayer에서 n_dim차원 벡터를 받고, 출력으로 (28,28, 1) 영상이 나오도록 함.\n",
        "* 오토인코더 모델: 인코더, 디코더를 결합하여 설계\n",
        "* 위에서 z의 분포를 보고 encoder가 label 별로 discriminative한 representation을 만들어내지 못한것을 확인하고 z의 차원을 10으로 바꿔서 실험을 해보았다."
      ]
    },
    {
      "cell_type": "markdown",
      "metadata": {
        "id": "I2xfEVVjA8e6",
        "colab_type": "text"
      },
      "source": [
        "여기서는 n_dim2을 10으로 설정한다.\n",
        "* 즉, n_dim2=10"
      ]
    },
    {
      "cell_type": "code",
      "metadata": {
        "id": "NxFdsSemwXEU",
        "colab_type": "code",
        "colab": {}
      },
      "source": [
        "n_dim2 = 10"
      ],
      "execution_count": 0,
      "outputs": []
    },
    {
      "cell_type": "markdown",
      "metadata": {
        "id": "WQKXrrWOBCvy",
        "colab_type": "text"
      },
      "source": [
        "인코더 모델 정의\n",
        "* (28, 28, 1) 영상을 입력으로 받도록 입력 레이어 정의\n",
        "* 컨볼루션 레이어를 활용하여 (28,28,1)\n",
        "* 컨볼루션 레이어 층을 이용하여 (28,28,1) > (28, 28, 2) > (14, 14, 8) > (14, 14, 16) > (7, 7, 16) > (7, 7, 64) 로 변경\n",
        "* Flatten으로 입력 텐서를 3136-vector로 벡터라이즈\n",
        "* Fully connected layer로 3136 > n_dim2 로 차원 축소"
      ]
    },
    {
      "cell_type": "code",
      "metadata": {
        "id": "sThWhYw5A339",
        "colab_type": "code",
        "colab": {}
      },
      "source": [
        "enc2 = tf.keras.models.Sequential([\n",
        "  tf.keras.layers.InputLayer(input_shape=(28, 28, 1)),\n",
        "  tf.keras.layers.Conv2D(2, (3, 3), activation='relu', padding='same'),\n",
        "  tf.keras.layers.Conv2D(8, (3, 3), strides=2, activation='relu', padding='same'),\n",
        "  tf.keras.layers.Conv2D(16, (3, 3), activation='relu', padding='same'),\n",
        "  tf.keras.layers.Conv2D(16, (3, 3), strides=2, activation='relu', padding='same'),\n",
        "  tf.keras.layers.Conv2D(64, (3, 3), activation='relu', padding='same'),\n",
        "  tf.keras.layers.Flatten(),\n",
        "  tf.keras.layers.Dense(n_dim2),\n",
        "])"
      ],
      "execution_count": 0,
      "outputs": []
    },
    {
      "cell_type": "markdown",
      "metadata": {
        "id": "glKXWHMYBfc5",
        "colab_type": "text"
      },
      "source": [
        "디코더 모델 정의\n",
        "* Fully connected layey로 n_dim2 > 3136 로 차원 확대\n",
        "* 3136-vector를 Reshape을 통해 (7, 7, 64)의 텐서로 변환\n",
        "* (7, 7, 64)의 텐서를 (28, 28, 1)의 텐서로 변환"
      ]
    },
    {
      "cell_type": "code",
      "metadata": {
        "id": "DnANVG4lBk0Z",
        "colab_type": "code",
        "colab": {}
      },
      "source": [
        "dec2 = tf.keras.models.Sequential([\n",
        "  tf.keras.layers.InputLayer(input_shape=(n_dim2,)),\n",
        "  tf.keras.layers.Dense(units=7*7*64, activation='relu'),\n",
        "  tf.keras.layers.Reshape(target_shape=(7, 7, 64)),\n",
        "  tf.keras.layers.Conv2D(16, (3, 3), activation='relu', padding='same'),\n",
        "  tf.keras.layers.UpSampling2D((2,2)),\n",
        "  tf.keras.layers.Conv2D(8, (3, 3), activation='relu', padding='same'),\n",
        "  tf.keras.layers.UpSampling2D((2,2)),\n",
        "  tf.keras.layers.Conv2D(2, (3, 3), activation='relu', padding='same'),\n",
        "  tf.keras.layers.Conv2D(1, (3, 3), padding='same'),\n",
        "])"
      ],
      "execution_count": 0,
      "outputs": []
    },
    {
      "cell_type": "markdown",
      "metadata": {
        "id": "mTvwFeuxBr1Q",
        "colab_type": "text"
      },
      "source": [
        "AutoEncoder 모델 정의\n",
        "* (28, 28, 1) 영상을 입력으로 받도록 입력 레이어 정의\n",
        "* 입력 레이어 > 인코더 > 디코더로 구성"
      ]
    },
    {
      "cell_type": "code",
      "metadata": {
        "id": "5SOigKGXBz69",
        "colab_type": "code",
        "colab": {}
      },
      "source": [
        "ae2 = tf.keras.models.Sequential([\n",
        "  tf.keras.layers.InputLayer(input_shape=(28, 28, 1)),   # 입력 구조를 명확히 보여주기 위해, input layer (재)정의\n",
        "  enc2,\n",
        "  dec2,                               \n",
        "])"
      ],
      "execution_count": 0,
      "outputs": []
    },
    {
      "cell_type": "markdown",
      "metadata": {
        "id": "3A3alR1TB4oz",
        "colab_type": "text"
      },
      "source": [
        "## 훈련 전, 네트워크 모델을 함수로서 활용\n",
        "* AutoEncoder ae를 모델로 구성했기 때문에, 지금부터 함수로서 활용 가능 [(효과적인 TensorFlow: 세션 대신 함수)](https://www.tensorflow.org/guide/effective_tf2?hl=ko#%EC%84%B8%EC%85%98_%EB%8C%80%EC%8B%A0_%ED%95%A8%EC%88%98)\n",
        "  + 단, ae 함수는 batch 단위로 수행됨을 명심할 것.  \n",
        "    - 단순히, (28, 28, 1) -> ae2 -> (28, 28, 1)로 동작하지 않고,\n",
        "    - batch 단위로 (?, 28, 28, 1) -> ae2 -> (?, 28, 28, 1)로 병렬처리됨.\n",
        "* 지금은 훈련 전 네트웍이기 때문에 정상적으로 작동하지 않음."
      ]
    },
    {
      "cell_type": "code",
      "metadata": {
        "id": "iS1bhe0kB9D7",
        "colab_type": "code",
        "outputId": "3ca767a0-6d4d-4bda-927c-82010f6b2cfc",
        "colab": {
          "base_uri": "https://localhost:8080/",
          "height": 53
        }
      },
      "source": [
        "y_pred2 = ae2(train_images)\n",
        "print('input  shape:', train_images.shape)\n",
        "print('output shape:', y_pred2.shape)"
      ],
      "execution_count": 0,
      "outputs": [
        {
          "output_type": "stream",
          "text": [
            "input  shape: (60000, 28, 28, 1)\n",
            "output shape: (60000, 28, 28, 1)\n"
          ],
          "name": "stdout"
        }
      ]
    },
    {
      "cell_type": "markdown",
      "metadata": {
        "id": "4vMEHsRxCE_e",
        "colab_type": "text"
      },
      "source": [
        "train_images[idx] 영상에 대한 결과 확인\n",
        "* ae의 입력 / 출력 가시화\n"
      ]
    },
    {
      "cell_type": "code",
      "metadata": {
        "id": "2hyMUVKHCH9t",
        "colab_type": "code",
        "outputId": "b1ef6da7-8156-4cf7-cf00-d904fa27d415",
        "colab": {
          "base_uri": "https://localhost:8080/",
          "height": 251,
          "referenced_widgets": [
            "e8f9c23f546441ac861f155812ad7594",
            "d6ce630828a64f86b1b6421821729898",
            "8f45e265871a4cfb9d0f098a4ebfb84b",
            "a3a6f358a79c4224b018b30f5ed67759",
            "94ac6579939341a3a9ee11223a12e1b9",
            "fa67e7099adb4943b691f87345ad342f",
            "b3a83d860e4e402cb0cca57c381d106b"
          ]
        }
      },
      "source": [
        "import ipywidgets as widgets\n",
        "\n",
        "def io_imshow(idx):\n",
        "  print('GT label:', train_labels[idx])\n",
        "  plt.subplot(121)\n",
        "  plt.imshow(np.squeeze(train_images[idx]))\n",
        "  plt.subplot(122)\n",
        "  plt.imshow(np.squeeze(y_pred2[idx]))\n",
        "  plt.show()\n",
        "\n",
        "widgets.interact(io_imshow, idx=widgets.IntSlider(min=0, max=train_images.shape[0]-1, continuous_update=False));"
      ],
      "execution_count": 0,
      "outputs": [
        {
          "output_type": "display_data",
          "data": {
            "application/vnd.jupyter.widget-view+json": {
              "model_id": "e8f9c23f546441ac861f155812ad7594",
              "version_minor": 0,
              "version_major": 2
            },
            "text/plain": [
              "interactive(children=(IntSlider(value=0, continuous_update=False, description='idx', max=59999), Output()), _d…"
            ]
          },
          "metadata": {
            "tags": []
          }
        }
      ]
    },
    {
      "cell_type": "markdown",
      "metadata": {
        "id": "s_e69obdCLYU",
        "colab_type": "text"
      },
      "source": [
        "## 네트워크 모델 구조 확인\n",
        "* summary() 함수로 모델의 구조를 텍스트로 프린트할 수 있음.\n",
        "* plot_model() 함수로 모델의 구조를 텍스트로 프린트할 수 있음."
      ]
    },
    {
      "cell_type": "code",
      "metadata": {
        "id": "gOfnJt1kCO2S",
        "colab_type": "code",
        "outputId": "3586180b-f7b2-4304-9c50-e95a53a8f043",
        "colab": {
          "base_uri": "https://localhost:8080/",
          "height": 1000
        }
      },
      "source": [
        "enc2.summary()\n",
        "tf.keras.utils.plot_model(enc2, 'enc.png', show_shapes=True)"
      ],
      "execution_count": 0,
      "outputs": [
        {
          "output_type": "stream",
          "text": [
            "Model: \"sequential_3\"\n",
            "_________________________________________________________________\n",
            "Layer (type)                 Output Shape              Param #   \n",
            "=================================================================\n",
            "conv2d_9 (Conv2D)            (None, 28, 28, 2)         20        \n",
            "_________________________________________________________________\n",
            "conv2d_10 (Conv2D)           (None, 14, 14, 8)         152       \n",
            "_________________________________________________________________\n",
            "conv2d_11 (Conv2D)           (None, 14, 14, 16)        1168      \n",
            "_________________________________________________________________\n",
            "conv2d_12 (Conv2D)           (None, 7, 7, 16)          2320      \n",
            "_________________________________________________________________\n",
            "conv2d_13 (Conv2D)           (None, 7, 7, 64)          9280      \n",
            "_________________________________________________________________\n",
            "flatten_1 (Flatten)          (None, 3136)              0         \n",
            "_________________________________________________________________\n",
            "dense_2 (Dense)              (None, 10)                31370     \n",
            "=================================================================\n",
            "Total params: 44,310\n",
            "Trainable params: 44,310\n",
            "Non-trainable params: 0\n",
            "_________________________________________________________________\n"
          ],
          "name": "stdout"
        },
        {
          "output_type": "execute_result",
          "data": {
            "image/png": "[encoded data removed]",
            "text/plain": [
              "<IPython.core.display.Image object>"
            ]
          },
          "metadata": {
            "tags": []
          },
          "execution_count": 28
        }
      ]
    },
    {
      "cell_type": "code",
      "metadata": {
        "id": "3N8AQyRgCTG-",
        "colab_type": "code",
        "outputId": "a62586f1-e1bd-45c2-e85b-f616d28ac47e",
        "colab": {
          "base_uri": "https://localhost:8080/",
          "height": 1000
        }
      },
      "source": [
        "dec2.summary()\n",
        "tf.keras.utils.plot_model(dec2, 'dec.png', show_shapes=True)"
      ],
      "execution_count": 0,
      "outputs": [
        {
          "output_type": "stream",
          "text": [
            "Model: \"sequential_4\"\n",
            "_________________________________________________________________\n",
            "Layer (type)                 Output Shape              Param #   \n",
            "=================================================================\n",
            "dense_3 (Dense)              (None, 3136)              34496     \n",
            "_________________________________________________________________\n",
            "reshape_1 (Reshape)          (None, 7, 7, 64)          0         \n",
            "_________________________________________________________________\n",
            "conv2d_14 (Conv2D)           (None, 7, 7, 16)          9232      \n",
            "_________________________________________________________________\n",
            "up_sampling2d_2 (UpSampling2 (None, 14, 14, 16)        0         \n",
            "_________________________________________________________________\n",
            "conv2d_15 (Conv2D)           (None, 14, 14, 8)         1160      \n",
            "_________________________________________________________________\n",
            "up_sampling2d_3 (UpSampling2 (None, 28, 28, 8)         0         \n",
            "_________________________________________________________________\n",
            "conv2d_16 (Conv2D)           (None, 28, 28, 2)         146       \n",
            "_________________________________________________________________\n",
            "conv2d_17 (Conv2D)           (None, 28, 28, 1)         19        \n",
            "=================================================================\n",
            "Total params: 45,053\n",
            "Trainable params: 45,053\n",
            "Non-trainable params: 0\n",
            "_________________________________________________________________\n"
          ],
          "name": "stdout"
        },
        {
          "output_type": "execute_result",
          "data": {
            "image/png": "[encoded data removed]",
            "text/plain": [
              "<IPython.core.display.Image object>"
            ]
          },
          "metadata": {
            "tags": []
          },
          "execution_count": 29
        }
      ]
    },
    {
      "cell_type": "code",
      "metadata": {
        "id": "ITQOved7CV-b",
        "colab_type": "code",
        "outputId": "683b33b5-d4a1-44b3-fc0d-c8f817bb08fe",
        "colab": {
          "base_uri": "https://localhost:8080/",
          "height": 528
        }
      },
      "source": [
        "ae2.summary()\n",
        "tf.keras.utils.plot_model(ae2, 'ae.png', show_shapes=True)"
      ],
      "execution_count": 0,
      "outputs": [
        {
          "output_type": "stream",
          "text": [
            "Model: \"sequential_5\"\n",
            "_________________________________________________________________\n",
            "Layer (type)                 Output Shape              Param #   \n",
            "=================================================================\n",
            "sequential_3 (Sequential)    (None, 10)                44310     \n",
            "_________________________________________________________________\n",
            "sequential_4 (Sequential)    (None, 28, 28, 1)         45053     \n",
            "=================================================================\n",
            "Total params: 89,363\n",
            "Trainable params: 89,363\n",
            "Non-trainable params: 0\n",
            "_________________________________________________________________\n"
          ],
          "name": "stdout"
        },
        {
          "output_type": "execute_result",
          "data": {
            "image/png": "[encoded data removed]",
            "text/plain": [
              "<IPython.core.display.Image object>"
            ]
          },
          "metadata": {
            "tags": []
          },
          "execution_count": 30
        }
      ]
    },
    {
      "cell_type": "markdown",
      "metadata": {
        "id": "iKHtpfZRCaT-",
        "colab_type": "text"
      },
      "source": [
        "## 오토인코더 인스턴스 트레이닝\n",
        "\n",
        "AutoEncoder 인스턴스 ae2에 대한 훈련 수행\n",
        "* 인스턴스 ae2를 [compile](https://www.tensorflow.org/api_docs/python/tf/keras/Model#compile)\n",
        "  + cf) shader program 컴파일과 유사하게 이해해도 됨\n",
        "  + 이때, 훈련에 활용될 [optimizer](https://www.tensorflow.org/api_docs/python/tf/keras/optimizers), [loss](https://www.tensorflow.org/api_docs/python/tf/keras/losses), [metrics](https://www.tensorflow.org/api_docs/python/tf/keras/metrics) 등을 지정함\n",
        "  + Optmizer에 대한 이론적 내용은 [이곳](https://brunch.co.kr/@chris-song/50)을 참고하세요.\n",
        "* 훈련 데이터 쌍 (train_images, train_labels)으로 fit()을 이용해 훈련 "
      ]
    },
    {
      "cell_type": "code",
      "metadata": {
        "id": "Y_5JAsosCc7b",
        "colab_type": "code",
        "outputId": "6a5bdfa4-69b4-4922-9a83-a2003f978d3f",
        "colab": {
          "base_uri": "https://localhost:8080/",
          "height": 395
        }
      },
      "source": [
        "ae2.compile(optimizer='Adam', # optimizer의 name 혹은 함수 객체 설정\n",
        "           loss='mse', \n",
        "           metrics=['mae'])\n",
        "\n",
        "ae2.fit(train_images, train_images, epochs=10, batch_size=32)"
      ],
      "execution_count": 0,
      "outputs": [
        {
          "output_type": "stream",
          "text": [
            "Epoch 1/10\n",
            "1875/1875 [==============================] - 7s 4ms/step - loss: 0.0245 - mae: 0.0684\n",
            "Epoch 2/10\n",
            "1875/1875 [==============================] - 7s 4ms/step - loss: 0.0156 - mae: 0.0487\n",
            "Epoch 3/10\n",
            "1875/1875 [==============================] - 7s 4ms/step - loss: 0.0143 - mae: 0.0458\n",
            "Epoch 4/10\n",
            "1875/1875 [==============================] - 7s 4ms/step - loss: 0.0136 - mae: 0.0440\n",
            "Epoch 5/10\n",
            "1875/1875 [==============================] - 7s 4ms/step - loss: 0.0131 - mae: 0.0425\n",
            "Epoch 6/10\n",
            "1875/1875 [==============================] - 7s 4ms/step - loss: 0.0127 - mae: 0.0415\n",
            "Epoch 7/10\n",
            "1875/1875 [==============================] - 7s 4ms/step - loss: 0.0124 - mae: 0.0408\n",
            "Epoch 8/10\n",
            "1875/1875 [==============================] - 7s 4ms/step - loss: 0.0122 - mae: 0.0402\n",
            "Epoch 9/10\n",
            "1875/1875 [==============================] - 7s 4ms/step - loss: 0.0120 - mae: 0.0397\n",
            "Epoch 10/10\n",
            "1875/1875 [==============================] - 7s 4ms/step - loss: 0.0118 - mae: 0.0393\n"
          ],
          "name": "stdout"
        },
        {
          "output_type": "execute_result",
          "data": {
            "text/plain": [
              "<tensorflow.python.keras.callbacks.History at 0x7f7d2e49bf98>"
            ]
          },
          "metadata": {
            "tags": []
          },
          "execution_count": 31
        }
      ]
    },
    {
      "cell_type": "markdown",
      "metadata": {
        "id": "Yda0s4BmChQU",
        "colab_type": "text"
      },
      "source": [
        "트레이닝 이후 ae2 함수를 다시 수행"
      ]
    },
    {
      "cell_type": "code",
      "metadata": {
        "id": "0NAX23gMCjqp",
        "colab_type": "code",
        "outputId": "48703fdc-6742-498c-e1b2-cddd858cbe6a",
        "colab": {
          "base_uri": "https://localhost:8080/",
          "height": 251,
          "referenced_widgets": [
            "a89690aba79d46ba91ea8fdcc8cac248",
            "5596c729c4c44f98846505c1573145a7",
            "619e1185473a440584d0d72a63232ab2",
            "773313e80f034b0f9cc43b14f36aa4b0",
            "2c534719c2e84d81bb4ea8287f14dc26",
            "d647972ab765411bb40ff2f8fe9d7420",
            "17f5ff44328546b39fc75551221d3b35"
          ]
        }
      },
      "source": [
        "import ipywidgets as widgets\n",
        "\n",
        "def io_imshow(idx):\n",
        "  print('GT label:', train_labels[idx])\n",
        "  plt.subplot(121)\n",
        "  plt.imshow(np.squeeze(train_images[idx]))\n",
        "  plt.subplot(122)\n",
        "  plt.imshow(np.squeeze(y_pred2[idx]))\n",
        "  plt.show()\n",
        "\n",
        "widgets.interact(io_imshow, idx=widgets.IntSlider(min=0, max=train_images.shape[0]-1, continuous_update=False));"
      ],
      "execution_count": 0,
      "outputs": [
        {
          "output_type": "display_data",
          "data": {
            "application/vnd.jupyter.widget-view+json": {
              "model_id": "a89690aba79d46ba91ea8fdcc8cac248",
              "version_minor": 0,
              "version_major": 2
            },
            "text/plain": [
              "interactive(children=(IntSlider(value=0, continuous_update=False, description='idx', max=59999), Output()), _d…"
            ]
          },
          "metadata": {
            "tags": []
          }
        }
      ]
    },
    {
      "cell_type": "markdown",
      "metadata": {
        "id": "hcy-QkCzCosI",
        "colab_type": "text"
      },
      "source": [
        "## 인코더 / 디코더 모델을 각각 따로 함수로서 활용하기\n",
        "다음과 같은 방법으로 트레이닝이 끝난 오토인코더의 enc와 dec를 각각 수행할 수 있다."
      ]
    },
    {
      "cell_type": "code",
      "metadata": {
        "id": "40BwlK06CtG1",
        "colab_type": "code",
        "colab": {}
      },
      "source": [
        "z2 = enc2(train_images)\n",
        "y_pred2 = dec2(z2)"
      ],
      "execution_count": 0,
      "outputs": []
    },
    {
      "cell_type": "markdown",
      "metadata": {
        "id": "W7YL3-NoCv2r",
        "colab_type": "text"
      },
      "source": [
        "## 인코딩 결과 확인 및 디코딩 결과 확인\n",
        "* 특정 이미지에 대한 인코딩 결과를 확인한다.\n",
        "* 인코딩 결과와 유사한 좌표값을 디코딩에 보내도 유사한 결과가 나옴을 확인한다."
      ]
    },
    {
      "cell_type": "code",
      "metadata": {
        "id": "rJ_QBctuC0V1",
        "colab_type": "code",
        "outputId": "416f87ee-8ed7-4223-ebe7-f6df8587a91f",
        "colab": {
          "base_uri": "https://localhost:8080/",
          "height": 121,
          "referenced_widgets": [
            "916226047148484daf9906de9589417c",
            "042c48afffc9452e9bfacab88ddb6c98",
            "27a767075da9487295c78636a4d1f519",
            "d36a774ab57443999827351c6c836031",
            "16aa706a906d48249fdb1ac03ce80bde",
            "790ff70303ba40d3ab058916064066a6",
            "787bc00af12a45778cffdaf3c5568b6b"
          ]
        }
      },
      "source": [
        "import ipywidgets as widgets\n",
        "\n",
        "def z_show2(idx):\n",
        "  print(z2[idx])\n",
        "  print('GT label:', train_labels[idx])\n",
        "\n",
        "widgets.interact(z_show2, idx=widgets.IntSlider(min=0, max=train_images.shape[0]-1));"
      ],
      "execution_count": 0,
      "outputs": [
        {
          "output_type": "display_data",
          "data": {
            "application/vnd.jupyter.widget-view+json": {
              "model_id": "916226047148484daf9906de9589417c",
              "version_minor": 0,
              "version_major": 2
            },
            "text/plain": [
              "interactive(children=(IntSlider(value=0, description='idx', max=59999), Output()), _dom_classes=('widget-inter…"
            ]
          },
          "metadata": {
            "tags": []
          }
        }
      ]
    },
    {
      "cell_type": "markdown",
      "metadata": {
        "id": "RXoUq7MeC30q",
        "colab_type": "text"
      },
      "source": [
        "인코딩 결과와 유사한 좌표값을 디코딩에 보내도 유사한 결과가 나옴을 확인"
      ]
    },
    {
      "cell_type": "code",
      "metadata": {
        "id": "W1BitE1hC6cu",
        "colab_type": "code",
        "outputId": "e9ab083a-5c87-4087-ae5a-2e288ced92ef",
        "colab": {
          "base_uri": "https://localhost:8080/",
          "height": 315,
          "referenced_widgets": [
            "246fb4eacde04e4b9045db63b88c9b87",
            "65cad1c545f749ffa1b6bf4d7f00f756",
            "cb97d24422f145559a989a627812643f",
            "c88d470f883a48d79bcce386596cad3c",
            "8918d0ad863d4f3384024eafd714eb04",
            "a0d3a499d84047cb899426dd598031c6",
            "412c336ad65e43318712e23198408249",
            "aad17510072b47118634c79d14587f4c",
            "3f98e9fec8ac4a4e9aa7a46be56c63fd",
            "7b6fc52473fb49e8988e57e61b0bb53a",
            "8f1aac68807e41a0b0002fc4e7c33664",
            "e43abe18b3b347e9887f979714759720",
            "a21fc58458704c2aabd13336330e7e49",
            "66b4f65cf2344d11961ae6422cf451a9",
            "ed918eaed03a4d63950887fcaf77a7ea",
            "d2a57e8ae7ac4db982c2e78580150204",
            "933ad20b85724780960bd97122252f9c",
            "f96e3b92c8bb432bbf558ec13461d93a",
            "1185ba9ab02b40e6a4dadb547901c893",
            "a3617590f5e642c5b917a9185b168e39",
            "74ee1f5566ae4e5e994990684c4e4fe3",
            "c0af1e59d8ec4df79dee2ea90fc275e4",
            "b194a2fa00ca4e638f0fb8f971954c42",
            "fd2709f37ec8422cb9e8eeee4b4d547b",
            "9778b1d9cb2548eb8ae3c571e3a1e097",
            "8ff5c69acef84e17ae0c874e59472dd1",
            "d01003bc68224146a3605301fc1a73d4",
            "97633a3d9b2044f5bafbdea2adb209f7",
            "cc04bd65de7c48d9bf8f31f02335c9b3",
            "8836811d05a24d5d80c44ef318e2341a",
            "a0c92b8f0ec14d90b5f15e1719272233",
            "557c961490e440e8b7fdc47f88360f84",
            "a222b16d38b64c4c9e4ecf578cad8730",
            "52200dd2dc554a2aaf73d43f8862255e"
          ]
        }
      },
      "source": [
        "import ipywidgets as widgets\n",
        "\n",
        "u=widgets.FloatSlider(min=-5.0, max=5.0)\n",
        "v=widgets.FloatSlider(min=-5.0, max=5.0)\n",
        "u2=widgets.FloatSlider(min=-5.0, max=5.0)\n",
        "v2=widgets.FloatSlider(min=-5.0, max=5.0)\n",
        "u3=widgets.FloatSlider(min=-5.0, max=5.0)\n",
        "v3=widgets.FloatSlider(min=-5.0, max=5.0)\n",
        "u4=widgets.FloatSlider(min=-5.0, max=5.0)\n",
        "v4=widgets.FloatSlider(min=-5.0, max=5.0)\n",
        "u5=widgets.FloatSlider(min=-5.0, max=5.0)\n",
        "v5=widgets.FloatSlider(min=-5.0, max=5.0)\n",
        "\n",
        "ui = widgets.HBox([u,v, u2,v2, u3,v3, u4,v4, u5,v5])\n",
        "\n",
        "def z_test2(u,v, u2,v2, u3,v3, u4,v4, u5,v5):\n",
        "  z_test2 = np.array([[u,v, u2,v2, u3,v3, u4,v4, u5,v5]])  \n",
        "  print(z_test2)\n",
        "\n",
        "  img_gen2 = dec2(z_test2)\n",
        "  plt.imshow(np.squeeze(img_gen2[0]))\n",
        "  plt.show()  \n",
        "\n",
        "out2 = widgets.interactive_output(z_test2, {'u': u, 'v': v, 'u2': u2, 'v2': v2, 'u3': u3, 'v3': v3, 'u4': u4, 'v4': v4, 'u5': u5, 'v5': v5})\n",
        "\n",
        "display(ui, out2)"
      ],
      "execution_count": 0,
      "outputs": [
        {
          "output_type": "display_data",
          "data": {
            "application/vnd.jupyter.widget-view+json": {
              "model_id": "246fb4eacde04e4b9045db63b88c9b87",
              "version_minor": 0,
              "version_major": 2
            },
            "text/plain": [
              "HBox(children=(FloatSlider(value=0.0, max=5.0, min=-5.0), FloatSlider(value=0.0, max=5.0, min=-5.0), FloatSlid…"
            ]
          },
          "metadata": {
            "tags": []
          }
        },
        {
          "output_type": "display_data",
          "data": {
            "application/vnd.jupyter.widget-view+json": {
              "model_id": "a222b16d38b64c4c9e4ecf578cad8730",
              "version_minor": 0,
              "version_major": 2
            },
            "text/plain": [
              "Output()"
            ]
          },
          "metadata": {
            "tags": []
          }
        }
      ]
    },
    {
      "cell_type": "markdown",
      "metadata": {
        "id": "raU4LV3mEL3g",
        "colab_type": "text"
      },
      "source": [
        "## 인코딩 결과 가시화\n",
        "* 오토인코더의 encoder가 만들어 내는 representation인 z 값을 가시화 한다. \n",
        "TSNE를 사용하여 표현하였다.\n",
        "* 2차원을 넘어서 표현했기 때문에 TSNE를 사용하였다."
      ]
    },
    {
      "cell_type": "code",
      "metadata": {
        "id": "hd1y1jqvEWDm",
        "colab_type": "code",
        "outputId": "0b18e399-38ef-46f9-99f5-3fd45c0e0a2f",
        "colab": {
          "base_uri": "https://localhost:8080/",
          "height": 283
        }
      },
      "source": [
        "import matplotlib.pyplot as plt\n",
        "from sklearn.manifold import TSNE\n",
        "\n",
        "model = TSNE(learning_rate=100)\n",
        "print(z2.shape)\n",
        "transformed = model.fit_transform(z2[:6000, :])\n",
        "\n",
        "xs = transformed[:,0]\n",
        "ys = transformed[:,1]\n",
        "plt.scatter(xs,ys,c=train_labels[:6000], cmap=plt.get_cmap('rainbow', 10))\n",
        "\n",
        "plt.show()"
      ],
      "execution_count": 0,
      "outputs": [
        {
          "output_type": "stream",
          "text": [
            "(60000, 10)\n"
          ],
          "name": "stdout"
        },
        {
          "output_type": "display_data",
          "data": {
            "image/png": "[encoded data removed]",
            "text/plain": [
              "<Figure size 432x288 with 1 Axes>"
            ]
          },
          "metadata": {
            "tags": [],
            "needs_background": "light"
          }
        }
      ]
    },
    {
      "cell_type": "markdown",
      "metadata": {
        "id": "Hex3UJf_O9f0",
        "colab_type": "text"
      },
      "source": [
        "# TSNE로 나타낸 분포를 살펴보았다.\n",
        "* 이전 z의 차원을 2로 해보았을 때 보다 다소 encoder가 label 별로 discriminative한 representation을 만들어내는 분포를 확인할 수 있다."
      ]
    },
    {
      "cell_type": "markdown",
      "metadata": {
        "id": "bRP2AYw-DV1e",
        "colab_type": "text"
      },
      "source": [
        "## 디코더를 이용한 Generative Model 구성"
      ]
    },
    {
      "cell_type": "code",
      "metadata": {
        "id": "A3UR-AykDS35",
        "colab_type": "code",
        "outputId": "3dd68485-9641-4168-fe65-d3dfc26d3260",
        "colab": {
          "base_uri": "https://localhost:8080/",
          "height": 53
        }
      },
      "source": [
        "z2 = np.array([[0.0,-0.2,0.2,0.7,1.1,0.2,2.3,-0.2,0.7,0.2], \n",
        "              [4, 0, -1, 1, -4, -2, 3, 0, 2, 1], \n",
        "              [5, 0, 1, 1, -3, -5, -2, 3, -2, 0]\n",
        "             ])\n",
        "\n",
        "result2 = dec2(z2)\n",
        "\n",
        "print(z2.shape)\n",
        "print(result2.shape)"
      ],
      "execution_count": 0,
      "outputs": [
        {
          "output_type": "stream",
          "text": [
            "(3, 10)\n",
            "(3, 28, 28, 1)\n"
          ],
          "name": "stdout"
        }
      ]
    },
    {
      "cell_type": "markdown",
      "metadata": {
        "id": "3nE3vVlCDZS0",
        "colab_type": "text"
      },
      "source": [
        "결과 가시화"
      ]
    },
    {
      "cell_type": "code",
      "metadata": {
        "id": "IgFwL3suDcZ5",
        "colab_type": "code",
        "outputId": "7f3f0e56-7f46-41ef-b3ca-1ff56388759b",
        "colab": {
          "base_uri": "https://localhost:8080/",
          "height": 167
        }
      },
      "source": [
        "# 로딩된 MNIST 데이터 가시화\n",
        "import matplotlib.pyplot as plt\n",
        "\n",
        "plt.subplot(131)\n",
        "plt.imshow(np.squeeze(result2[0]))\n",
        "plt.subplot(132)\n",
        "plt.imshow(np.squeeze(result2[1]))\n",
        "plt.subplot(133)\n",
        "plt.imshow(np.squeeze(result2[2]))"
      ],
      "execution_count": 0,
      "outputs": [
        {
          "output_type": "execute_result",
          "data": {
            "text/plain": [
              "<matplotlib.image.AxesImage at 0x7f7b85cf43c8>"
            ]
          },
          "metadata": {
            "tags": []
          },
          "execution_count": 38
        },
        {
          "output_type": "display_data",
          "data": {
            "image/png": "[encoded data removed]",
            "text/plain": [
              "<Figure size 432x288 with 3 Axes>"
            ]
          },
          "metadata": {
            "tags": [],
            "needs_background": "light"
          }
        }
      ]
    },
    {
      "cell_type": "markdown",
      "metadata": {
        "id": "hw3xqPfpQIOJ",
        "colab_type": "text"
      },
      "source": [
        "#첫 번째 이미지는 1과 유사하게 의미있게 만들어 진 것 같다.\n",
        "* 첫 번째 출력한 이미지는 대체로 train_image의 모양이 간단하고 분포가 확실한 것 같다. 주변의 픽셀값과 구별이 뚜렷한 특징을 가지고 있다.\n",
        "* 2번째 이미지는 2 또는 6을 생성하려고 한 것 같은데 이 숫자들은 모두 뭉개졌을 경우 비슷한 모양을 가지는 특징을 가지고 있다.\n",
        "* 3번째 이미지의 경우 3을 출력하려고 한 것 같다."
      ]
    },
    {
      "cell_type": "code",
      "metadata": {
        "id": "7o4cvOnHDoui",
        "colab_type": "code",
        "outputId": "b59cf116-3f2d-41ec-d8e6-807787722d72",
        "colab": {
          "base_uri": "https://localhost:8080/",
          "height": 143
        }
      },
      "source": [
        "ae2.optimizer.get_config()"
      ],
      "execution_count": 0,
      "outputs": [
        {
          "output_type": "execute_result",
          "data": {
            "text/plain": [
              "{'amsgrad': False,\n",
              " 'beta_1': 0.9,\n",
              " 'beta_2': 0.999,\n",
              " 'decay': 0.0,\n",
              " 'epsilon': 1e-07,\n",
              " 'learning_rate': 0.001,\n",
              " 'name': 'Adam'}"
            ]
          },
          "metadata": {
            "tags": []
          },
          "execution_count": 39
        }
      ]
    },
    {
      "cell_type": "markdown",
      "metadata": {
        "id": "VewuMZbiRlwj",
        "colab_type": "text"
      },
      "source": [
        "## 네트워크 모델 설계 3 (1에서 28*28의 크기를 유지, 단 filters의 크기를 바꿔주었다.)\n",
        "* 인코더 모델: 케라스 시퀀셜 모델로 설계\n",
        "  + InputLayer로 (28,28, 1) 영상을 받고, 출력으로 n_dim차원 벡터가 나오도록 함.\n",
        "* 디코더 모델: 케라스 시퀀셜 모델로 설계\n",
        "  + InputLayer에서 n_dim차원 벡터를 받고, 출력으로 (28,28, 1) 영상이 나오도록 함.\n",
        "* 오토인코더 모델: 인코더, 디코더를 결합하여 설계\n",
        "* 1 에서 z의 분포를 보고 encoder가 label 별로 discriminative한 representation을 만들어내지 못한것을 확인하고 z의 차원을 2로 고정하고 28*28의 크기도 고정하여 실험을 해보았다.\n",
        "* 아래의 설명은 위와 같으므로 생략하고 코드와 분석만 작성하겠다."
      ]
    },
    {
      "cell_type": "code",
      "metadata": {
        "id": "Ic-h3IpHLjd4",
        "colab_type": "code",
        "colab": {}
      },
      "source": [
        "n_dim3 = 2"
      ],
      "execution_count": 0,
      "outputs": []
    },
    {
      "cell_type": "code",
      "metadata": {
        "id": "iNg5BxBaS11g",
        "colab_type": "code",
        "colab": {}
      },
      "source": [
        "enc3 = tf.keras.models.Sequential([\n",
        "  tf.keras.layers.InputLayer(input_shape=(28, 28, 1)),\n",
        "  tf.keras.layers.Conv2D(2, (3, 3), activation='relu', padding='same'),\n",
        "  tf.keras.layers.Conv2D(4, (3, 3), activation='relu', padding='same'),\n",
        "  tf.keras.layers.Flatten(),\n",
        "  tf.keras.layers.Dense(n_dim3),\n",
        "])\n"
      ],
      "execution_count": 0,
      "outputs": []
    },
    {
      "cell_type": "code",
      "metadata": {
        "id": "66_GLjGpS7FR",
        "colab_type": "code",
        "colab": {}
      },
      "source": [
        "dec3 = tf.keras.models.Sequential([\n",
        "  tf.keras.layers.InputLayer(input_shape=(n_dim3,)),\n",
        "  tf.keras.layers.Dense(units=28*28*4, activation='relu'),\n",
        "  tf.keras.layers.Reshape(target_shape=(28, 28, 4)),\n",
        "  tf.keras.layers.Conv2D(4, (3, 3), activation='relu', padding='same'),\n",
        "  tf.keras.layers.Conv2D(2, (3, 3), activation='relu', padding='same'),\n",
        "  tf.keras.layers.Conv2D(1, (3, 3), padding='same'),\n",
        "])"
      ],
      "execution_count": 0,
      "outputs": []
    },
    {
      "cell_type": "code",
      "metadata": {
        "id": "ilvT1H7mTBg3",
        "colab_type": "code",
        "colab": {}
      },
      "source": [
        "ae3 = tf.keras.models.Sequential([\n",
        "  tf.keras.layers.InputLayer(input_shape=(28, 28, 1)),   # 입력 구조를 명확히 보여주기 위해, input layer (재)정의\n",
        "  enc3,\n",
        "  dec3,                               \n",
        "])"
      ],
      "execution_count": 0,
      "outputs": []
    },
    {
      "cell_type": "code",
      "metadata": {
        "id": "hejssk01TD8v",
        "colab_type": "code",
        "outputId": "46bae7fc-693e-4cc1-ca7d-0e3103baa10d",
        "colab": {
          "base_uri": "https://localhost:8080/",
          "height": 53
        }
      },
      "source": [
        "y_pred3 = ae3(train_images)\n",
        "print('input  shape:', train_images.shape)\n",
        "print('output shape:', y_pred3.shape)"
      ],
      "execution_count": 0,
      "outputs": [
        {
          "output_type": "stream",
          "text": [
            "input  shape: (60000, 28, 28, 1)\n",
            "output shape: (60000, 28, 28, 1)\n"
          ],
          "name": "stdout"
        }
      ]
    },
    {
      "cell_type": "code",
      "metadata": {
        "id": "DzwlK1koTHHP",
        "colab_type": "code",
        "outputId": "9f1af4ea-b352-464a-8d22-27e997eb8d98",
        "colab": {
          "base_uri": "https://localhost:8080/",
          "height": 251,
          "referenced_widgets": [
            "a516546121f8401388ae87b7aee4f100",
            "f29aaee6e9d042fc8ae383b505d91701",
            "d1be6f75f9a64865bfe3d8aad51e6796",
            "9c92318fff7742e2a6845402c5eefba3",
            "6d835677a41a459fa2df0999d8f084e3",
            "fa7dfac0eaf642a1a0ea722d9152e2c5",
            "b0a9208d31314423890c64a948ff013d"
          ]
        }
      },
      "source": [
        "import ipywidgets as widgets\n",
        "\n",
        "def io_imshow(idx):\n",
        "  print('GT label:', train_labels[idx])\n",
        "  plt.subplot(121)\n",
        "  plt.imshow(np.squeeze(train_images[idx]))\n",
        "  plt.subplot(122)\n",
        "  plt.imshow(np.squeeze(y_pred3[idx]))\n",
        "  plt.show()\n",
        "\n",
        "widgets.interact(io_imshow, idx=widgets.IntSlider(min=0, max=train_images.shape[0]-1, continuous_update=False));"
      ],
      "execution_count": 0,
      "outputs": [
        {
          "output_type": "display_data",
          "data": {
            "application/vnd.jupyter.widget-view+json": {
              "model_id": "a516546121f8401388ae87b7aee4f100",
              "version_minor": 0,
              "version_major": 2
            },
            "text/plain": [
              "interactive(children=(IntSlider(value=0, continuous_update=False, description='idx', max=59999), Output()), _d…"
            ]
          },
          "metadata": {
            "tags": []
          }
        }
      ]
    },
    {
      "cell_type": "code",
      "metadata": {
        "id": "PDuGLhYHTio2",
        "colab_type": "code",
        "outputId": "b7e0a291-9488-4d28-ae67-104471f0d544",
        "colab": {
          "base_uri": "https://localhost:8080/",
          "height": 821
        }
      },
      "source": [
        "enc3.summary()\n",
        "tf.keras.utils.plot_model(enc3, 'enc.png', show_shapes=True)"
      ],
      "execution_count": 0,
      "outputs": [
        {
          "output_type": "stream",
          "text": [
            "Model: \"sequential_11\"\n",
            "_________________________________________________________________\n",
            "Layer (type)                 Output Shape              Param #   \n",
            "=================================================================\n",
            "conv2d_29 (Conv2D)           (None, 28, 28, 2)         20        \n",
            "_________________________________________________________________\n",
            "conv2d_30 (Conv2D)           (None, 28, 28, 4)         76        \n",
            "_________________________________________________________________\n",
            "flatten_3 (Flatten)          (None, 3136)              0         \n",
            "_________________________________________________________________\n",
            "dense_7 (Dense)              (None, 2)                 6274      \n",
            "=================================================================\n",
            "Total params: 6,370\n",
            "Trainable params: 6,370\n",
            "Non-trainable params: 0\n",
            "_________________________________________________________________\n"
          ],
          "name": "stdout"
        },
        {
          "output_type": "execute_result",
          "data": {
            "image/png": "[encoded data removed]",
            "text/plain": [
              "<IPython.core.display.Image object>"
            ]
          },
          "metadata": {
            "tags": []
          },
          "execution_count": 54
        }
      ]
    },
    {
      "cell_type": "code",
      "metadata": {
        "id": "X9K9TEorTjTs",
        "colab_type": "code",
        "outputId": "95bde6dc-1e14-4faf-c3b8-9c0beacdbe50",
        "colab": {
          "base_uri": "https://localhost:8080/",
          "height": 968
        }
      },
      "source": [
        "dec3.summary()\n",
        "tf.keras.utils.plot_model(dec3, 'dec.png', show_shapes=True)"
      ],
      "execution_count": 0,
      "outputs": [
        {
          "output_type": "stream",
          "text": [
            "Model: \"sequential_12\"\n",
            "_________________________________________________________________\n",
            "Layer (type)                 Output Shape              Param #   \n",
            "=================================================================\n",
            "dense_8 (Dense)              (None, 3136)              9408      \n",
            "_________________________________________________________________\n",
            "reshape_4 (Reshape)          (None, 28, 28, 4)         0         \n",
            "_________________________________________________________________\n",
            "conv2d_31 (Conv2D)           (None, 28, 28, 4)         148       \n",
            "_________________________________________________________________\n",
            "conv2d_32 (Conv2D)           (None, 28, 28, 2)         74        \n",
            "_________________________________________________________________\n",
            "conv2d_33 (Conv2D)           (None, 28, 28, 1)         19        \n",
            "=================================================================\n",
            "Total params: 9,649\n",
            "Trainable params: 9,649\n",
            "Non-trainable params: 0\n",
            "_________________________________________________________________\n"
          ],
          "name": "stdout"
        },
        {
          "output_type": "execute_result",
          "data": {
            "image/png": "[encoded data removed]",
            "text/plain": [
              "<IPython.core.display.Image object>"
            ]
          },
          "metadata": {
            "tags": []
          },
          "execution_count": 55
        }
      ]
    },
    {
      "cell_type": "code",
      "metadata": {
        "id": "HDDXQGtoT43N",
        "colab_type": "code",
        "outputId": "e48d3a5a-5b54-4590-e085-ca7f80b0d555",
        "colab": {
          "base_uri": "https://localhost:8080/",
          "height": 528
        }
      },
      "source": [
        "ae3.summary()\n",
        "tf.keras.utils.plot_model(ae3, 'ae.png', show_shapes=True)"
      ],
      "execution_count": 0,
      "outputs": [
        {
          "output_type": "stream",
          "text": [
            "Model: \"sequential_13\"\n",
            "_________________________________________________________________\n",
            "Layer (type)                 Output Shape              Param #   \n",
            "=================================================================\n",
            "sequential_11 (Sequential)   (None, 2)                 6370      \n",
            "_________________________________________________________________\n",
            "sequential_12 (Sequential)   (None, 28, 28, 1)         9649      \n",
            "=================================================================\n",
            "Total params: 16,019\n",
            "Trainable params: 16,019\n",
            "Non-trainable params: 0\n",
            "_________________________________________________________________\n"
          ],
          "name": "stdout"
        },
        {
          "output_type": "execute_result",
          "data": {
            "image/png": "[encoded data removed]",
            "text/plain": [
              "<IPython.core.display.Image object>"
            ]
          },
          "metadata": {
            "tags": []
          },
          "execution_count": 56
        }
      ]
    },
    {
      "cell_type": "code",
      "metadata": {
        "id": "fp5P2KwpUDl4",
        "colab_type": "code",
        "outputId": "8d914ff6-cdeb-43b0-d19f-a3af6c34c4a2",
        "colab": {
          "base_uri": "https://localhost:8080/",
          "height": 395
        }
      },
      "source": [
        "ae3.compile(optimizer='Adam', # optimizer의 name 혹은 함수 객체 설정\n",
        "           loss='mse', \n",
        "           metrics=['mae'])\n",
        "\n",
        "ae3.fit(train_images, train_images, epochs=10, batch_size=32)"
      ],
      "execution_count": 0,
      "outputs": [
        {
          "output_type": "stream",
          "text": [
            "Epoch 1/10\n",
            "1875/1875 [==============================] - 5s 3ms/step - loss: 0.0555 - mae: 0.1266\n",
            "Epoch 2/10\n",
            "1875/1875 [==============================] - 5s 3ms/step - loss: 0.0486 - mae: 0.1128\n",
            "Epoch 3/10\n",
            "1875/1875 [==============================] - 5s 3ms/step - loss: 0.0471 - mae: 0.1097\n",
            "Epoch 4/10\n",
            "1875/1875 [==============================] - 5s 3ms/step - loss: 0.0464 - mae: 0.1083\n",
            "Epoch 5/10\n",
            "1875/1875 [==============================] - 6s 3ms/step - loss: 0.0460 - mae: 0.1075\n",
            "Epoch 6/10\n",
            "1875/1875 [==============================] - 6s 3ms/step - loss: 0.0458 - mae: 0.1070\n",
            "Epoch 7/10\n",
            "1875/1875 [==============================] - 5s 3ms/step - loss: 0.0456 - mae: 0.1066\n",
            "Epoch 8/10\n",
            "1875/1875 [==============================] - 5s 3ms/step - loss: 0.0455 - mae: 0.1064\n",
            "Epoch 9/10\n",
            "1875/1875 [==============================] - 5s 3ms/step - loss: 0.0454 - mae: 0.1062\n",
            "Epoch 10/10\n",
            "1875/1875 [==============================] - 5s 3ms/step - loss: 0.0453 - mae: 0.1060\n"
          ],
          "name": "stdout"
        },
        {
          "output_type": "execute_result",
          "data": {
            "text/plain": [
              "<tensorflow.python.keras.callbacks.History at 0x7f7b83d069e8>"
            ]
          },
          "metadata": {
            "tags": []
          },
          "execution_count": 57
        }
      ]
    },
    {
      "cell_type": "code",
      "metadata": {
        "id": "FtEDendyUHDv",
        "colab_type": "code",
        "outputId": "d6b4f0c0-515d-4763-9f84-e17438e1724b",
        "colab": {
          "base_uri": "https://localhost:8080/",
          "height": 251,
          "referenced_widgets": [
            "e0108c5b29fd4872b60b41ded9ec9a7f",
            "e1d069da875d407aa1d3c1c9e253a356",
            "28a712ec5bf34f1b9db82d492e706cd5",
            "c48109bb3d7f4ec5823cc171cb440b83",
            "f3830df6151a4e52b8049148c8a85c8f",
            "4960b97cb9094100b19935b5c4bd2e29",
            "5f5515752c474459bb8ffffa2523421a"
          ]
        }
      },
      "source": [
        "import ipywidgets as widgets\n",
        "\n",
        "def io_imshow(idx):\n",
        "  print('GT label:', train_labels[idx])\n",
        "  plt.subplot(121)\n",
        "  plt.imshow(np.squeeze(train_images[idx]))\n",
        "  plt.subplot(122)\n",
        "  plt.imshow(np.squeeze(y_pred3[idx]))\n",
        "  plt.show()\n",
        "\n",
        "widgets.interact(io_imshow, idx=widgets.IntSlider(min=0, max=train_images.shape[0]-1, continuous_update=False));"
      ],
      "execution_count": 0,
      "outputs": [
        {
          "output_type": "display_data",
          "data": {
            "application/vnd.jupyter.widget-view+json": {
              "model_id": "e0108c5b29fd4872b60b41ded9ec9a7f",
              "version_minor": 0,
              "version_major": 2
            },
            "text/plain": [
              "interactive(children=(IntSlider(value=0, continuous_update=False, description='idx', max=59999), Output()), _d…"
            ]
          },
          "metadata": {
            "tags": []
          }
        }
      ]
    },
    {
      "cell_type": "code",
      "metadata": {
        "id": "ne-KdTP3ULad",
        "colab_type": "code",
        "colab": {}
      },
      "source": [
        "z3 = enc3(train_images)\n",
        "y_pred3 = dec3(z3)"
      ],
      "execution_count": 0,
      "outputs": []
    },
    {
      "cell_type": "code",
      "metadata": {
        "id": "d1AhrX0fUPcd",
        "colab_type": "code",
        "outputId": "08f8a0b1-53ea-4278-b3b6-78787e48da3d",
        "colab": {
          "base_uri": "https://localhost:8080/",
          "height": 85,
          "referenced_widgets": [
            "49c30450ef854c258f41df9b9e6b23e5",
            "4e64ad99a9b541b1823bd4d182bcfb74",
            "8ba6cc2b895445e1ac2c4f90875b0236",
            "68e7b310f9104fd5bfd6fb71084b95dd",
            "cacade9b55dd4f7fb45f7ca48962e188",
            "0a09b3fde9d04932b4563c36ae5cce3d",
            "e4b2bfad0f374cd78b9869fcc4089934"
          ]
        }
      },
      "source": [
        "import ipywidgets as widgets\n",
        "\n",
        "def z_show3(idx):\n",
        "  print(z3[idx])\n",
        "  print('GT label:', train_labels[idx])\n",
        "\n",
        "widgets.interact(z_show3, idx=widgets.IntSlider(min=0, max=train_images.shape[0]-1));"
      ],
      "execution_count": 0,
      "outputs": [
        {
          "output_type": "display_data",
          "data": {
            "application/vnd.jupyter.widget-view+json": {
              "model_id": "49c30450ef854c258f41df9b9e6b23e5",
              "version_minor": 0,
              "version_major": 2
            },
            "text/plain": [
              "interactive(children=(IntSlider(value=0, description='idx', max=59999), Output()), _dom_classes=('widget-inter…"
            ]
          },
          "metadata": {
            "tags": []
          }
        }
      ]
    },
    {
      "cell_type": "code",
      "metadata": {
        "id": "jLJzlRagUTMr",
        "colab_type": "code",
        "outputId": "f9f92613-6816-4759-aaba-c8f7a6a74f25",
        "colab": {
          "base_uri": "https://localhost:8080/",
          "height": 315,
          "referenced_widgets": [
            "ba0c9eeee8c54dfa8744ef538d476b90",
            "492c68ed866a4a19857aada0d3a8613c",
            "a5124973b65246428ed517ef3356a329",
            "1cdcdb38594a4baf9e89a29b6e00a68e",
            "da8e0b7d057b4b57bf4cd6ec96fd7a10",
            "95dea8dc003e420d891ccfe480e71dd9",
            "8cf788edc8da4c32b4cbc864a80adbec",
            "b317eee630e148c8bd5e9599221f7b07",
            "e1c635d900eb43678e30658e48520f8f",
            "fad08d31782a4ad0ba2aff6e4edfb5f9"
          ]
        }
      },
      "source": [
        "import ipywidgets as widgets\n",
        "\n",
        "u=widgets.FloatSlider(min=-5.0, max=5.0)\n",
        "v=widgets.FloatSlider(min=-5.0, max=5.0)\n",
        "# u2=widgets.FloatSlider(min=-5.0, max=5.0)\n",
        "# v2=widgets.FloatSlider(min=-5.0, max=5.0)\n",
        "# u3=widgets.FloatSlider(min=-5.0, max=5.0)\n",
        "# v3=widgets.FloatSlider(min=-5.0, max=5.0)\n",
        "# u4=widgets.FloatSlider(min=-5.0, max=5.0)\n",
        "# v4=widgets.FloatSlider(min=-5.0, max=5.0)\n",
        "# u5=widgets.FloatSlider(min=-5.0, max=5.0)\n",
        "# v5=widgets.FloatSlider(min=-5.0, max=5.0)\n",
        "\n",
        "ui = widgets.HBox([u,v])\n",
        "\n",
        "def z_test3(u,v):\n",
        "  z_test3 = np.array([[u,v]])  \n",
        "  print(z_test3)\n",
        "\n",
        "  img_gen3 = dec3(z_test3)\n",
        "  plt.imshow(np.squeeze(img_gen3[0]))\n",
        "  plt.show()  \n",
        "\n",
        "out3 = widgets.interactive_output(z_test3, {'u': u, 'v': v})\n",
        "\n",
        "display(ui, out3)"
      ],
      "execution_count": 0,
      "outputs": [
        {
          "output_type": "display_data",
          "data": {
            "application/vnd.jupyter.widget-view+json": {
              "model_id": "ba0c9eeee8c54dfa8744ef538d476b90",
              "version_minor": 0,
              "version_major": 2
            },
            "text/plain": [
              "HBox(children=(FloatSlider(value=0.0, max=5.0, min=-5.0), FloatSlider(value=0.0, max=5.0, min=-5.0)))"
            ]
          },
          "metadata": {
            "tags": []
          }
        },
        {
          "output_type": "display_data",
          "data": {
            "application/vnd.jupyter.widget-view+json": {
              "model_id": "e1c635d900eb43678e30658e48520f8f",
              "version_minor": 0,
              "version_major": 2
            },
            "text/plain": [
              "Output()"
            ]
          },
          "metadata": {
            "tags": []
          }
        }
      ]
    },
    {
      "cell_type": "code",
      "metadata": {
        "id": "fp94aLeqUhgG",
        "colab_type": "code",
        "outputId": "57e68d3e-e15a-4cef-9e69-03604b7a4444",
        "colab": {
          "base_uri": "https://localhost:8080/",
          "height": 355
        }
      },
      "source": [
        "# 로딩된 MNIST 데이터 가시화\n",
        "import matplotlib.pyplot as plt\n",
        "z3_0 = z3[train_labels==0]    # z 배열을 조건을 이용해 slice\n",
        "z3_1 = z3[train_labels==1]\n",
        "z3_2 = z3[train_labels==2]\n",
        "z3_3 = z3[train_labels==3]\n",
        "z3_4 = z3[train_labels==4]\n",
        "z3_5 = z3[train_labels==5]\n",
        "z3_6 = z3[train_labels==6]\n",
        "z3_7 = z3[train_labels==7]\n",
        "z3_8 = z3[train_labels==8]\n",
        "z3_9 = z3[train_labels==9]\n",
        "\n",
        "print(z3_0.shape)\n",
        "print(z3_1.shape)\n",
        "print(z3_2.shape)\n",
        "print(z3_9.shape)\n",
        "\n",
        "plt.plot(z3_0[:,0], z3_0[:,1], 'ro')\n",
        "plt.plot(z3_1[:,0], z3_1[:,1], 'yo')\n",
        "plt.plot(z3_2[:,0], z3_2[:,1], 'bo')\n",
        "plt.plot(z3_3[:,0], z3_3[:,1], 'go')\n",
        "plt.plot(z3_4[:,0], z3_4[:,1], 'mo')\n",
        "plt.plot(z3_5[:,0], z3_5[:,1], 'co')\n",
        "plt.plot(z3_6[:,0], z3_6[:,1], 'ko')\n",
        "plt.plot(z3_7[:,0], z3_7[:,1], 'rx')\n",
        "plt.plot(z3_8[:,0], z3_8[:,1], 'bx')\n",
        "plt.plot(z3_9[:,0], z3_9[:,1], 'yx')"
      ],
      "execution_count": 0,
      "outputs": [
        {
          "output_type": "stream",
          "text": [
            "(5923, 2)\n",
            "(6742, 2)\n",
            "(5958, 2)\n",
            "(5949, 2)\n"
          ],
          "name": "stdout"
        },
        {
          "output_type": "execute_result",
          "data": {
            "text/plain": [
              "[<matplotlib.lines.Line2D at 0x7f7b8226cc18>]"
            ]
          },
          "metadata": {
            "tags": []
          },
          "execution_count": 62
        },
        {
          "output_type": "display_data",
          "data": {
            "image/png": "[encoded data removed]",
            "text/plain": [
              "<Figure size 432x288 with 1 Axes>"
            ]
          },
          "metadata": {
            "tags": [],
            "needs_background": "light"
          }
        }
      ]
    },
    {
      "cell_type": "markdown",
      "metadata": {
        "id": "BMSvonVXXlCA",
        "colab_type": "text"
      },
      "source": [
        "# 분포에 대한 분석\n",
        "* 1과 마찬가지로 encoder가 label 별로 discriminative한 representation을 만들어내지 못한 것을 확인할 수 있다.\n",
        "* 1보다 discriminative한 representation을 못만들어 내는 것 같다.\n",
        "* 아마도 그래픽카드 메모리 용량 때문에 28*28을 유지를 한 상태에서 filters의 수를 많이 늘리지 못해서 층을 2개밖에 쌓지 못해서 위와 같은 결과가 나온 것 같다."
      ]
    },
    {
      "cell_type": "code",
      "metadata": {
        "id": "nPXhPR7vVA1W",
        "colab_type": "code",
        "outputId": "a0d0a9b4-f891-4a68-f099-aab8b7642710",
        "colab": {
          "base_uri": "https://localhost:8080/",
          "height": 53
        }
      },
      "source": [
        "z3 = np.array([[0.0,-0.2], \n",
        "              [4.1, -2], \n",
        "              [-3, 1.6]\n",
        "             ])\n",
        "\n",
        "result3 = dec3(z3)\n",
        "\n",
        "print(z3.shape)\n",
        "print(result3.shape)"
      ],
      "execution_count": 0,
      "outputs": [
        {
          "output_type": "stream",
          "text": [
            "(3, 2)\n",
            "(3, 28, 28, 1)\n"
          ],
          "name": "stdout"
        }
      ]
    },
    {
      "cell_type": "code",
      "metadata": {
        "id": "jZMVGadhVPqO",
        "colab_type": "code",
        "outputId": "e25506c0-e990-4b80-c7c4-423c6d3f70aa",
        "colab": {
          "base_uri": "https://localhost:8080/",
          "height": 167
        }
      },
      "source": [
        "import matplotlib.pyplot as plt\n",
        "\n",
        "plt.subplot(131)\n",
        "plt.imshow(np.squeeze(result3[0]))\n",
        "plt.subplot(132)\n",
        "plt.imshow(np.squeeze(result3[1]))\n",
        "plt.subplot(133)\n",
        "plt.imshow(np.squeeze(result3[2]))"
      ],
      "execution_count": 0,
      "outputs": [
        {
          "output_type": "execute_result",
          "data": {
            "text/plain": [
              "<matplotlib.image.AxesImage at 0x7f7b83ba4748>"
            ]
          },
          "metadata": {
            "tags": []
          },
          "execution_count": 76
        },
        {
          "output_type": "display_data",
          "data": {
            "image/png": "[encoded data removed]",
            "text/plain": [
              "<Figure size 432x288 with 3 Axes>"
            ]
          },
          "metadata": {
            "tags": [],
            "needs_background": "light"
          }
        }
      ]
    },
    {
      "cell_type": "markdown",
      "metadata": {
        "id": "a5gRFwl4YPCY",
        "colab_type": "text"
      },
      "source": [
        "# 임의의 값을 디코더에 넣었을 경우\n",
        "* 2에서 실험한 것 보다 숫자에 가까운 이미지를 생성해낸다.\n",
        "* 아마 28*28로 유지를 해서 배열의 크기가 줄지 않으면서 데이터 손실이 적게 되어서 그런 것으로 유추하고 있다."
      ]
    },
    {
      "cell_type": "code",
      "metadata": {
        "id": "UymA8c-fVT6d",
        "colab_type": "code",
        "outputId": "8bc5f3eb-2f43-4fe9-86a6-1a68a8ae4a06",
        "colab": {
          "base_uri": "https://localhost:8080/",
          "height": 143
        }
      },
      "source": [
        "ae3.optimizer.get_config()"
      ],
      "execution_count": 0,
      "outputs": [
        {
          "output_type": "execute_result",
          "data": {
            "text/plain": [
              "{'amsgrad': False,\n",
              " 'beta_1': 0.9,\n",
              " 'beta_2': 0.999,\n",
              " 'decay': 0.0,\n",
              " 'epsilon': 1e-07,\n",
              " 'learning_rate': 0.001,\n",
              " 'name': 'Adam'}"
            ]
          },
          "metadata": {
            "tags": []
          },
          "execution_count": 72
        }
      ]
    },
    {
      "cell_type": "code",
      "metadata": {
        "id": "APP2KCprWglJ",
        "colab_type": "code",
        "colab": {}
      },
      "source": [
        ""
      ],
      "execution_count": 0,
      "outputs": []
    }
  ]
}